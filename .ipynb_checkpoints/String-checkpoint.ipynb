{
 "cells": [
  {
   "cell_type": "markdown",
   "id": "367e54b9",
   "metadata": {},
   "source": [
    "# Creating String in Python"
   ]
  },
  {
   "cell_type": "code",
   "execution_count": 6,
   "id": "e99780a1",
   "metadata": {},
   "outputs": [
    {
     "name": "stdout",
     "output_type": "stream",
     "text": [
      "Hi Python\n",
      "Hi Python !\n",
      "Triple quotes are generally used for  \n",
      "    represent the multiline or \n",
      "    docstring\n"
     ]
    }
   ],
   "source": [
    "s1 = 'Hi Python'\n",
    "\n",
    "print(s1)  #Using single quote\n",
    "\n",
    "s2 = \"Hi Python !\"\n",
    "\n",
    "print(s2)  #Using double quote\n",
    "\n",
    "s3 = '''Triple quotes are generally used for  \n",
    "    represent the multiline or \n",
    "    docstring'''   \n",
    "print(s3)  #Using triple quote"
   ]
  },
  {
   "cell_type": "markdown",
   "id": "af549c2d",
   "metadata": {},
   "source": [
    "# Strings indexing and splitting"
   ]
  },
  {
   "cell_type": "code",
   "execution_count": 14,
   "id": "253438a2",
   "metadata": {},
   "outputs": [
    {
     "name": "stdout",
     "output_type": "stream",
     "text": [
      "M\n",
      "y\n",
      " \n",
      "n\n"
     ]
    },
    {
     "ename": "IndexError",
     "evalue": "string index out of range",
     "output_type": "error",
     "traceback": [
      "\u001b[1;31m---------------------------------------------------------------------------\u001b[0m",
      "\u001b[1;31mIndexError\u001b[0m                                Traceback (most recent call last)",
      "Cell \u001b[1;32mIn[14], line 7\u001b[0m\n\u001b[0;32m      5\u001b[0m \u001b[38;5;28mprint\u001b[39m(s[\u001b[38;5;241m2\u001b[39m])\n\u001b[0;32m      6\u001b[0m \u001b[38;5;28mprint\u001b[39m(s[\u001b[38;5;241m3\u001b[39m])\n\u001b[1;32m----> 7\u001b[0m \u001b[38;5;28mprint\u001b[39m(\u001b[43ms\u001b[49m\u001b[43m[\u001b[49m\u001b[38;5;241;43m40\u001b[39;49m\u001b[43m]\u001b[49m)\n",
      "\u001b[1;31mIndexError\u001b[0m: string index out of range"
     ]
    }
   ],
   "source": [
    "s = \"My name is khan and I am not a terrorits\"\n",
    "\n",
    "print(s[0])\n",
    "print(s[1])\n",
    "print(s[2])\n",
    "print(s[3])\n",
    "print(s[40])"
   ]
  },
  {
   "cell_type": "markdown",
   "id": "831f5537",
   "metadata": {},
   "source": [
    "# Slicing"
   ]
  },
  {
   "cell_type": "code",
   "execution_count": 19,
   "id": "c947373e",
   "metadata": {},
   "outputs": [
    {
     "name": "stdout",
     "output_type": "stream",
     "text": [
      "_name_\n",
      "rrorit\n"
     ]
    }
   ],
   "source": [
    "s = \"My_name_is _khan_and_I_am_not_a_terrorits\"\n",
    "\n",
    "print(s[2:8])\n",
    "print(s[-7:-1])\n"
   ]
  },
  {
   "cell_type": "markdown",
   "id": "86a3a14c",
   "metadata": {},
   "source": [
    "# Python Strings are immutable"
   ]
  },
  {
   "cell_type": "code",
   "execution_count": 21,
   "id": "007a7d49",
   "metadata": {},
   "outputs": [
    {
     "ename": "TypeError",
     "evalue": "'str' object does not support item assignment",
     "output_type": "error",
     "traceback": [
      "\u001b[1;31m---------------------------------------------------------------------------\u001b[0m",
      "\u001b[1;31mTypeError\u001b[0m                                 Traceback (most recent call last)",
      "Cell \u001b[1;32mIn[21], line 2\u001b[0m\n\u001b[0;32m      1\u001b[0m message \u001b[38;5;241m=\u001b[39m \u001b[38;5;124m'\u001b[39m\u001b[38;5;124mMumbai Coding Club\u001b[39m\u001b[38;5;124m'\u001b[39m\n\u001b[1;32m----> 2\u001b[0m \u001b[43mmessage\u001b[49m\u001b[43m[\u001b[49m\u001b[38;5;241;43m0\u001b[39;49m\u001b[43m]\u001b[49m \u001b[38;5;241m=\u001b[39m \u001b[38;5;124m'\u001b[39m\u001b[38;5;124mH\u001b[39m\u001b[38;5;124m'\u001b[39m\n\u001b[0;32m      4\u001b[0m \u001b[38;5;28mprint\u001b[39m(message)\n\u001b[0;32m      7\u001b[0m message \u001b[38;5;241m=\u001b[39m \u001b[38;5;124m\"\u001b[39m\u001b[38;5;124mHello\u001b[39m\u001b[38;5;124m\"\u001b[39m\n",
      "\u001b[1;31mTypeError\u001b[0m: 'str' object does not support item assignment"
     ]
    }
   ],
   "source": [
    "message = 'Mumbai Coding Club'\n",
    "message[0] = 'H'\n",
    "\n",
    "print(message)\n"
   ]
  },
  {
   "cell_type": "code",
   "execution_count": 22,
   "id": "05a17e6c",
   "metadata": {},
   "outputs": [
    {
     "name": "stdout",
     "output_type": "stream",
     "text": [
      "Mumbai Coding Club\n",
      "After\n",
      "Mission Awarness Foundation\n"
     ]
    }
   ],
   "source": [
    "message = 'Mumbai Coding Club'\n",
    "print(message)\n",
    "# assign new string to message variable\n",
    "message = 'Mission Awarness Foundation'\n",
    "print(\"After\")\n",
    "print(message); # prints \"Mission Awarness Foundation\""
   ]
  },
  {
   "cell_type": "markdown",
   "id": "287fdd54",
   "metadata": {},
   "source": [
    "# Deleting the String"
   ]
  },
  {
   "cell_type": "code",
   "execution_count": 25,
   "id": "f4f23259",
   "metadata": {},
   "outputs": [
    {
     "name": "stdout",
     "output_type": "stream",
     "text": [
      "Mumbai Coding Club\n"
     ]
    },
    {
     "ename": "NameError",
     "evalue": "name 'message' is not defined",
     "output_type": "error",
     "traceback": [
      "\u001b[1;31m---------------------------------------------------------------------------\u001b[0m",
      "\u001b[1;31mNameError\u001b[0m                                 Traceback (most recent call last)",
      "Cell \u001b[1;32mIn[25], line 7\u001b[0m\n\u001b[0;32m      3\u001b[0m \u001b[38;5;28mprint\u001b[39m(message)\n\u001b[0;32m      5\u001b[0m \u001b[38;5;28;01mdel\u001b[39;00m message\n\u001b[1;32m----> 7\u001b[0m \u001b[38;5;28mprint\u001b[39m(\u001b[43mmessage\u001b[49m)\n",
      "\u001b[1;31mNameError\u001b[0m: name 'message' is not defined"
     ]
    }
   ],
   "source": [
    "message = 'Mumbai Coding Club'\n",
    "\n",
    "print(message)\n",
    "\n",
    "del message\n",
    "\n",
    "print(message)"
   ]
  },
  {
   "cell_type": "markdown",
   "id": "ef7bd6d6",
   "metadata": {},
   "source": [
    "# String Operator"
   ]
  },
  {
   "cell_type": "code",
   "execution_count": 33,
   "id": "c8fca7a6",
   "metadata": {},
   "outputs": [
    {
     "name": "stdout",
     "output_type": "stream",
     "text": [
      "HelloHelloHello\n",
      "HelloWorld\n",
      "l\n",
      "rld\n",
      "False\n",
      "True\n",
      "False\n"
     ]
    }
   ],
   "source": [
    "s1 = \"Hello\"\n",
    "\n",
    "s2 = \"World\"\n",
    "\n",
    "print(s1 * 3)          #t is known as repetition operator. It concatenates the multiple copies of the same string.\n",
    "print(s1 + s2)         #It is known as concatenation operator used to join the strings given either side of the operator.\n",
    "print(s1[3])           #It is known as slice operator. It is used to access the sub-strings of a particular string.\n",
    "print(s2[2:6])         #It is known as range slice operator. It is used to access the characters from the specified range.\n",
    "print('w' in s1)\n",
    "print('o' in s1)\n",
    "print('o' not in s2)"
   ]
  },
  {
   "cell_type": "markdown",
   "id": "b51d7d52",
   "metadata": {},
   "source": [
    "# Compare Two Strings"
   ]
  },
  {
   "cell_type": "code",
   "execution_count": 37,
   "id": "54b775ee",
   "metadata": {},
   "outputs": [
    {
     "name": "stdout",
     "output_type": "stream",
     "text": [
      "False\n",
      "True\n",
      "False\n"
     ]
    }
   ],
   "source": [
    "s1 = \"Hello\"\n",
    "s2 = \"Hi\"\n",
    "s3 = \"Hello\"\n",
    "s4 = \"hi\"\n",
    "\n",
    "print(s1 == s2)\n",
    "print(s1 == s3)\n",
    "print(s2 == s4)"
   ]
  },
  {
   "cell_type": "markdown",
   "id": "76e859fa",
   "metadata": {},
   "source": [
    "# String formatting"
   ]
  },
  {
   "cell_type": "code",
   "execution_count": 38,
   "id": "ed347993",
   "metadata": {},
   "outputs": [
    {
     "ename": "SyntaxError",
     "evalue": "unterminated string literal (detected at line 1) (3755895606.py, line 1)",
     "output_type": "error",
     "traceback": [
      "\u001b[1;36m  Cell \u001b[1;32mIn[38], line 1\u001b[1;36m\u001b[0m\n\u001b[1;33m    s = \"They said, \"Hello what's going on?\"\"\u001b[0m\n\u001b[1;37m                               ^\u001b[0m\n\u001b[1;31mSyntaxError\u001b[0m\u001b[1;31m:\u001b[0m unterminated string literal (detected at line 1)\n"
     ]
    }
   ],
   "source": [
    "s = \"They said, \"Hello what's going on?\"\"  \n",
    "print(s)"
   ]
  },
  {
   "cell_type": "code",
   "execution_count": 40,
   "id": "56084809",
   "metadata": {},
   "outputs": [
    {
     "name": "stdout",
     "output_type": "stream",
     "text": [
      "They said, \"Hello what's going on?\"\n"
     ]
    }
   ],
   "source": [
    "#using triple quotes\n",
    "s1= '''They said, \"Hello what's going on?\"'''\n",
    "print(s1)\n",
    "\n",
    "s2 = 'They said, \"Hello what\\ going on?\"'"
   ]
  },
  {
   "cell_type": "code",
   "execution_count": null,
   "id": "f27dce74",
   "metadata": {},
   "outputs": [],
   "source": []
  }
 ],
 "metadata": {
  "kernelspec": {
   "display_name": "Python 3 (ipykernel)",
   "language": "python",
   "name": "python3"
  },
  "language_info": {
   "codemirror_mode": {
    "name": "ipython",
    "version": 3
   },
   "file_extension": ".py",
   "mimetype": "text/x-python",
   "name": "python",
   "nbconvert_exporter": "python",
   "pygments_lexer": "ipython3",
   "version": "3.11.2"
  }
 },
 "nbformat": 4,
 "nbformat_minor": 5
}
