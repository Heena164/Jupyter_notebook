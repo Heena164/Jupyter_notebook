{
 "cells": [
  {
   "cell_type": "markdown",
   "id": "3d8ddd60",
   "metadata": {},
   "source": [
    "# Write a Python code snippet to swap the first and last elements of the list."
   ]
  },
  {
   "cell_type": "code",
   "execution_count": 1,
   "id": "50b3e6b4",
   "metadata": {},
   "outputs": [
    {
     "name": "stdout",
     "output_type": "stream",
     "text": [
      "[6, 2, 3, 4, 5, 1]\n"
     ]
    }
   ],
   "source": [
    "l = [1, 2, 3, 4, 5, 6]\n",
    "\n",
    "if len(l) >= 2:\n",
    "    temp = l[0]\n",
    "    l[0] = l[-1]\n",
    "    l[-1] = temp\n",
    "    \n",
    "    \n",
    "print(l)"
   ]
  },
  {
   "cell_type": "code",
   "execution_count": 7,
   "id": "795995d2",
   "metadata": {},
   "outputs": [
    {
     "name": "stdout",
     "output_type": "stream",
     "text": [
      "[2, 1, 4, 3, 6, 5]\n"
     ]
    }
   ],
   "source": [
    "l = [1, 2, 3, 4, 5, 6]\n",
    "\n",
    "for i in range(0, len(l), 2):\n",
    "    temp = l[i]\n",
    "    l[i] = l[i+1]\n",
    "    l[i+1] = temp\n",
    "    \n",
    "print(l)"
   ]
  },
  {
   "cell_type": "code",
   "execution_count": 13,
   "id": "74cd782e",
   "metadata": {},
   "outputs": [
    {
     "name": "stdout",
     "output_type": "stream",
     "text": [
      "[10, 13, 25, 41, 92]\n"
     ]
    }
   ],
   "source": [
    "a = [92, 25, 41, 13, 10]\n",
    "\n",
    "for i in range(len(a)):\n",
    "    for j in range(i, len(a)):\n",
    "        if a[i] > a[j]:\n",
    "            a[i], a[j] = a[j], a[i]\n",
    "            \n",
    "print(a)"
   ]
  },
  {
   "cell_type": "code",
   "execution_count": 12,
   "id": "e7d54a3e",
   "metadata": {},
   "outputs": [
    {
     "name": "stdout",
     "output_type": "stream",
     "text": [
      "[('sub3', 79), ('sub1', 88), ('sub4', 90), ('sub2', 92)]\n"
     ]
    }
   ],
   "source": [
    "a = [('sub1', 88), ('sub2', 92), ('sub3', 79), ('sub4', 90)]\n",
    "for i in range(len(a)):  \n",
    "    for j in range(i, len(a)):\n",
    "        if a[i][1] > a[j][1]:\n",
    "            a[i], a[j] = a[j], a[i]\n",
    "print(a)"
   ]
  },
  {
   "cell_type": "code",
   "execution_count": 14,
   "id": "b68688b0",
   "metadata": {},
   "outputs": [
    {
     "name": "stdout",
     "output_type": "stream",
     "text": [
      "a = 10\n",
      "b = 15\n",
      "c = 5\n"
     ]
    }
   ],
   "source": [
    "a = 5\n",
    "b = 10\n",
    "c = 15\n",
    "\n",
    "a, b, c = b, c, a\n",
    "\n",
    "print(\"a =\", a)\n",
    "print(\"b =\", b)\n",
    "print(\"c =\", c)"
   ]
  },
  {
   "cell_type": "code",
   "execution_count": 15,
   "id": "14ec0866",
   "metadata": {},
   "outputs": [
    {
     "name": "stdout",
     "output_type": "stream",
     "text": [
      "10\n",
      "5\n"
     ]
    }
   ],
   "source": [
    "a = 5\n",
    "b = 10\n",
    "\n",
    "a = a^b\n",
    "b = a^b\n",
    "a = a^b\n",
    "\n",
    "print(a)\n",
    "print(b)"
   ]
  },
  {
   "cell_type": "markdown",
   "id": "bad8062b",
   "metadata": {},
   "source": [
    "# Write a Python code snippet to swap the first and last characters of each string in the list."
   ]
  },
  {
   "cell_type": "code",
   "execution_count": 2,
   "id": "53461822",
   "metadata": {},
   "outputs": [
    {
     "name": "stdout",
     "output_type": "stream",
     "text": [
      "['oellh']\n"
     ]
    }
   ],
   "source": [
    "l = ['hello']\n",
    "\n",
    "l1 = []\n",
    "\n",
    "for i in l:\n",
    "    if len(i) > 2:\n",
    "        a = i[-1] + i[1:-1] + i[0]\n",
    "        l1.append(a)\n",
    "        \n",
    "    else:\n",
    "        l1.append(i)\n",
    "        \n",
    "print(l1)"
   ]
  },
  {
   "cell_type": "code",
   "execution_count": 29,
   "id": "925805eb",
   "metadata": {},
   "outputs": [
    {
     "name": "stdout",
     "output_type": "stream",
     "text": [
      "oellh\n"
     ]
    }
   ],
   "source": [
    "l = \"hello\"\n",
    "\n",
    "a1 = l[-1] + l[1:-1] + l[0]\n",
    "print(a1)"
   ]
  },
  {
   "cell_type": "code",
   "execution_count": null,
   "id": "e84bb24f",
   "metadata": {},
   "outputs": [],
   "source": []
  }
 ],
 "metadata": {
  "kernelspec": {
   "display_name": "Python 3 (ipykernel)",
   "language": "python",
   "name": "python3"
  },
  "language_info": {
   "codemirror_mode": {
    "name": "ipython",
    "version": 3
   },
   "file_extension": ".py",
   "mimetype": "text/x-python",
   "name": "python",
   "nbconvert_exporter": "python",
   "pygments_lexer": "ipython3",
   "version": "3.11.3"
  }
 },
 "nbformat": 4,
 "nbformat_minor": 5
}
