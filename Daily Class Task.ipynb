{
 "cells": [
  {
   "cell_type": "code",
   "execution_count": 1,
   "id": "30e696a0",
   "metadata": {},
   "outputs": [
    {
     "name": "stdout",
     "output_type": "stream",
     "text": [
      "Enter Number: 12\n",
      "2\n",
      "3\n",
      "-1\n"
     ]
    }
   ],
   "source": [
    "num = int(input(\"Enter Number: \"))\n",
    "mul = 1\n",
    "sum = 0\n",
    "\n",
    "for i in str(num):\n",
    "    mul = mul * int(i)\n",
    "    sum = sum + int(i)\n",
    "    result = mul - sum\n",
    "    \n",
    "    \n",
    "print(mul)\n",
    "print(sum)\n",
    "print(result)"
   ]
  },
  {
   "cell_type": "markdown",
   "id": "94bf220a",
   "metadata": {},
   "source": [
    "# Reverse the Integer"
   ]
  },
  {
   "cell_type": "code",
   "execution_count": 3,
   "id": "30ceccaf",
   "metadata": {},
   "outputs": [
    {
     "name": "stdout",
     "output_type": "stream",
     "text": [
      "321\n"
     ]
    }
   ],
   "source": [
    "num = 123\n",
    "\n",
    "reverse = 0\n",
    "\n",
    "while num!=0:\n",
    "    reverse = reverse * 10 + num % 10\n",
    "    num = num // 10\n",
    "    \n",
    "print(reverse)"
   ]
  },
  {
   "cell_type": "code",
   "execution_count": 2,
   "id": "3e6c1b0a",
   "metadata": {},
   "outputs": [
    {
     "name": "stdout",
     "output_type": "stream",
     "text": [
      "-321\n"
     ]
    }
   ],
   "source": [
    "a = -123\n",
    "\n",
    "b = abs(123)\n",
    "\n",
    "reverse = 0\n",
    "\n",
    "sign = -1 if a<0 else 1\n",
    "\n",
    "while b!=0:\n",
    "    reverse = reverse * 10 + b % 10\n",
    "    b = b // 10\n",
    "    \n",
    "print(reverse * sign)"
   ]
  },
  {
   "cell_type": "code",
   "execution_count": 4,
   "id": "9e55d2bb",
   "metadata": {},
   "outputs": [
    {
     "name": "stdout",
     "output_type": "stream",
     "text": [
      "-321\n"
     ]
    }
   ],
   "source": [
    "num = -123\n",
    "\n",
    "reverse = str(abs(num))[::-1]\n",
    "reverse_num = int(reverse)\n",
    "\n",
    "if num < 0:\n",
    "    reverse_num = -reverse_num\n",
    "\n",
    "print(reverse_num)"
   ]
  },
  {
   "cell_type": "code",
   "execution_count": 1,
   "id": "a40c36b1",
   "metadata": {},
   "outputs": [
    {
     "name": "stdout",
     "output_type": "stream",
     "text": [
      "[]\n"
     ]
    }
   ],
   "source": [
    "l = [1, 5]\n",
    "d = {}\n",
    "ls = []\n",
    "\n",
    "for i in l:\n",
    "    if i in d:\n",
    "        d[i] += 1\n",
    "    else:\n",
    "        d[i] = 1\n",
    "        \n",
    "for i, j in d.items():\n",
    "    if j > 1:\n",
    "        ls.append(i)\n",
    "        \n",
    "print(ls)"
   ]
  },
  {
   "cell_type": "code",
   "execution_count": 3,
   "id": "e4ee1eb1",
   "metadata": {},
   "outputs": [
    {
     "name": "stdout",
     "output_type": "stream",
     "text": [
      "[1, 3]\n"
     ]
    }
   ],
   "source": [
    "l = [1, 3, 4, 7, 2, 1, 3]\n",
    "\n",
    "d = {}\n",
    "\n",
    "ls = []\n",
    "\n",
    "for i in l:\n",
    "    if i in d:\n",
    "        d[i] += 1\n",
    "    else:\n",
    "        d[i] = 1\n",
    "        \n",
    "# print(d)\n",
    "        \n",
    "for i, j in d.items():\n",
    "    if j>1:\n",
    "        ls.append(i)\n",
    "        \n",
    "print(ls)\n"
   ]
  },
  {
   "cell_type": "code",
   "execution_count": 4,
   "id": "af4313ef",
   "metadata": {},
   "outputs": [
    {
     "name": "stdout",
     "output_type": "stream",
     "text": [
      "[2, 1, 4, 3, 6, 5]\n"
     ]
    }
   ],
   "source": [
    "lst = [1, 2, 3, 4, 5, 6]\n",
    "\n",
    "for i in range(0, len(lst), 2):\n",
    "    temp = lst[i]\n",
    "    lst[i] = lst[i+1]\n",
    "    lst[i+1] = temp\n",
    "print(lst)"
   ]
  },
  {
   "cell_type": "code",
   "execution_count": 1,
   "id": "d2957012",
   "metadata": {},
   "outputs": [
    {
     "name": "stdout",
     "output_type": "stream",
     "text": [
      "6\n",
      "[6, 2, 3, 4, 5, 1]\n"
     ]
    }
   ],
   "source": [
    "lst = [1, 2, 3, 4, 5, 6]\n",
    "\n",
    "size = len(lst)\n",
    "print(size)\n",
    "temp = lst[0]\n",
    "lst[0] = lst[size-1]\n",
    "lst[size-1] = temp\n",
    "print(lst)   "
   ]
  },
  {
   "cell_type": "code",
   "execution_count": 9,
   "id": "26a68315",
   "metadata": {},
   "outputs": [
    {
     "name": "stdout",
     "output_type": "stream",
     "text": [
      "Original list: [1, 2, 3, 4, 5]\n",
      "Swapped list: [5, 2, 3, 4, 1]\n"
     ]
    }
   ],
   "source": [
    "my_list = [1, 2, 3, 4, 5]\n",
    "print(\"Original list:\", my_list)\n",
    "\n",
    "if len(my_list) >= 2:\n",
    "    temp = my_list[0]\n",
    "    my_list[0] = my_list[-1]\n",
    "    my_list[-1] = temp\n",
    "\n",
    "print(\"Swapped list:\", my_list)"
   ]
  },
  {
   "cell_type": "code",
   "execution_count": 6,
   "id": "f2dfa706",
   "metadata": {},
   "outputs": [
    {
     "name": "stdout",
     "output_type": "stream",
     "text": [
      "[2, 1, 4, 3, 6, 5, 7]\n"
     ]
    }
   ],
   "source": [
    "lst = [1, 2, 3, 4, 5, 6, 7]\n",
    "\n",
    "for i in range(0, len(lst), 2):\n",
    "    if i+1 < len(lst):\n",
    "        temp = lst[i]\n",
    "        lst[i] = lst[i+1]\n",
    "        lst[i+1] = temp\n",
    "print(lst)"
   ]
  },
  {
   "cell_type": "markdown",
   "id": "a2b3dba9",
   "metadata": {},
   "source": [
    "# Print star Pattern"
   ]
  },
  {
   "cell_type": "code",
   "execution_count": 5,
   "id": "6e11ae3e",
   "metadata": {},
   "outputs": [
    {
     "name": "stdout",
     "output_type": "stream",
     "text": [
      "         *\n",
      "       * *\n",
      "     * * *\n",
      "   * * * *\n",
      " * * * * *\n"
     ]
    }
   ],
   "source": [
    "row = 5\n",
    "for i in range(row):\n",
    "    print(\"  \" * (row - i -1) + \" *\" *(i + 1))"
   ]
  },
  {
   "cell_type": "markdown",
   "id": "9fd8cfb9",
   "metadata": {},
   "source": [
    "# Intersection of two list"
   ]
  },
  {
   "cell_type": "code",
   "execution_count": 7,
   "id": "ee66bb34",
   "metadata": {},
   "outputs": [
    {
     "name": "stdout",
     "output_type": "stream",
     "text": [
      "[2, 2, 3]\n"
     ]
    }
   ],
   "source": [
    "a = [1, 2, 2, 2, 3, 4]\n",
    "b = [0, 2, 2, 3, 5, 6]\n",
    "\n",
    "l = []\n",
    "\n",
    "for i in range(len(a)):\n",
    "    for j in range(len(b)):\n",
    "        if a[i] == b[j]:\n",
    "            l.append(b[j])\n",
    "            b[j] = -1\n",
    "            \n",
    "print(l)"
   ]
  },
  {
   "cell_type": "code",
   "execution_count": 8,
   "id": "ec92b9bb",
   "metadata": {},
   "outputs": [
    {
     "name": "stdout",
     "output_type": "stream",
     "text": [
      "[(1, 4), (2, 3)]\n"
     ]
    }
   ],
   "source": [
    "a = [1, 2, 3, 4, 5]\n",
    "l = []\n",
    "key = 5\n",
    "\n",
    "for i in range(len(a)):  \n",
    "    for j in range(i+1, len(a)):\n",
    "        res = a[i] +a [j]\n",
    "        if res == key:\n",
    "            l.append((a[i], a[j]))\n",
    "            \n",
    "print(l)\n",
    "\n"
   ]
  },
  {
   "cell_type": "code",
   "execution_count": 13,
   "id": "de592a24",
   "metadata": {},
   "outputs": [
    {
     "name": "stdout",
     "output_type": "stream",
     "text": [
      "checklist\n",
      "dumpcv\n"
     ]
    }
   ],
   "source": [
    "dict1={\"content\":[{\"attachment\":{\"href\":359256,\"len\":4,\"name\":\"checklist\",\"type\":\"text\"}},\n",
    "                  {\"attachment\": {\"href\":5627,\"len\":8,\"name\":\"dumpcv\",\"type\":\"appliction\"}}]}\n",
    "\n",
    "for i in dict1[\"content\"]:\n",
    "#     print(i, \"I\")\n",
    "    for j in i:\n",
    "#         print(j, \"J\")\n",
    "        j = i.get(\"attachment\")\n",
    "#         print(j)\n",
    "        \n",
    "    if \"name\" in j:\n",
    "        print(j[\"name\"])\n",
    "        \n",
    "    else:\n",
    "        print('There is no name')"
   ]
  },
  {
   "cell_type": "markdown",
   "id": "695935cc",
   "metadata": {},
   "source": [
    "# show ouput in dictionary inn which count will be key of items \n"
   ]
  },
  {
   "cell_type": "code",
   "execution_count": 1,
   "id": "43cc6c1b",
   "metadata": {},
   "outputs": [
    {
     "name": "stdout",
     "output_type": "stream",
     "text": [
      "{'notepad': 2, 'mouse': 2, 'cat': 1}\n"
     ]
    }
   ],
   "source": [
    "data=[\"notepad\",\"notepad\",\"mouse\",\"mouse\",\"cat\"]\n",
    "\n",
    "res = {}\n",
    "\n",
    "for count in data:\n",
    "    if count in res:\n",
    "        res[count] += 1\n",
    "        \n",
    "    else:\n",
    "        res[count] = 1\n",
    "        \n",
    "print(res)\n",
    "\n"
   ]
  },
  {
   "cell_type": "code",
   "execution_count": 2,
   "id": "a44d11e6",
   "metadata": {},
   "outputs": [
    {
     "name": "stdout",
     "output_type": "stream",
     "text": [
      "{'notepad': 2, 'mouse': 2, 'cat': 1}\n",
      "{2: ['notepad', 'mouse'], 1: ['cat']}\n"
     ]
    }
   ],
   "source": [
    "data=[\"notepad\",\"notepad\",\"mouse\",\"mouse\",\"cat\"]\n",
    "b={}\n",
    "for i in data:\n",
    "    b[i]=data.count(i)\n",
    "print(b)\n",
    "c={}\n",
    "for i, j in b.items():\n",
    "    if j not in c:\n",
    "        c[j]=[i]\n",
    "    else:\n",
    "        c[j].append(i)\n",
    "print(c)\n",
    "        \n"
   ]
  },
  {
   "cell_type": "code",
   "execution_count": 13,
   "id": "9013488e",
   "metadata": {},
   "outputs": [
    {
     "name": "stdout",
     "output_type": "stream",
     "text": [
      "5\n",
      "1\n",
      "3\n",
      "0\n",
      "2\n",
      "3\n",
      "1\n",
      "3\n",
      "2\n",
      "3\n",
      "[10, 41, 92, 13, 25]\n"
     ]
    }
   ],
   "source": [
    "a = [92, 25, 41, 13, 10]\n",
    "\n",
    "for i in range(len(a)):  \n",
    "    for j in range(i+1, len(a)):\n",
    "        print(int(str(a[j])[1]))\n",
    "        \n",
    "        if int(str(a[i])[1]) > int(str(a[j])[1]):\n",
    "            a[i], a[j] = a[j], a[i]\n",
    "print(a)\n",
    "    \n",
    "    \n",
    "        \n",
    "        \n",
    "        "
   ]
  },
  {
   "cell_type": "code",
   "execution_count": 14,
   "id": "a24925ad",
   "metadata": {},
   "outputs": [
    {
     "name": "stdout",
     "output_type": "stream",
     "text": [
      "[130, 411, 105, 257, 926]\n"
     ]
    }
   ],
   "source": [
    "a = [926, 257, 411, 130, 105]\n",
    "\n",
    "for i in range(len(a)):  \n",
    "    for j in range(i+2, len(a)):\n",
    "#         print(int(str(a[j])[]))\n",
    "        \n",
    "        if int(str(a[i])[2]) > int(str(a[j])[2]):\n",
    "            a[i], a[j] = a[j], a[i]\n",
    "print(a)"
   ]
  },
  {
   "cell_type": "code",
   "execution_count": 43,
   "id": "fbef5983",
   "metadata": {},
   "outputs": [
    {
     "name": "stdout",
     "output_type": "stream",
     "text": [
      "[('sub3', 79), ('sub1', 88), ('sub4', 90), ('sub2', 92)]\n"
     ]
    }
   ],
   "source": [
    "a = [('sub1', 88), ('sub2', 92), ('sub3', 79), ('sub4', 90)]\n",
    "for i in range(len(a)):  \n",
    "    for j in range(i+1, len(a)):\n",
    "        if a[i][1] > a[j][1]:\n",
    "            a[i], a[j] = a[j], a[i]\n",
    "print(a)\n",
    "    "
   ]
  },
  {
   "cell_type": "code",
   "execution_count": 44,
   "id": "3349d037",
   "metadata": {},
   "outputs": [
    {
     "name": "stdout",
     "output_type": "stream",
     "text": [
      "[10, 41, 92, 13, 25, 56]\n"
     ]
    }
   ],
   "source": [
    "a=[92,25,41,13,56,10]\n",
    "a.sort(key=lambda x:x%10)\n",
    "print(a)\n"
   ]
  },
  {
   "cell_type": "code",
   "execution_count": 45,
   "id": "45bf5c83",
   "metadata": {},
   "outputs": [
    {
     "name": "stdout",
     "output_type": "stream",
     "text": [
      "[('sub3', 79), ('sub1', 88), ('sub4', 90), ('sub2', 92)]\n"
     ]
    }
   ],
   "source": [
    "a=[(\"sub1\",88),(\"sub2\",92),(\"sub3\",79),(\"sub4\",90)]\n",
    "\n",
    "a.sort(key=lambda x:x[1])\n",
    "print(a)\n"
   ]
  },
  {
   "cell_type": "code",
   "execution_count": 49,
   "id": "1206edcd",
   "metadata": {},
   "outputs": [
    {
     "name": "stdout",
     "output_type": "stream",
     "text": [
      "[10, 41, 92, 13, 25, 56]\n"
     ]
    }
   ],
   "source": [
    "a=[92,25,41,13,56,10]\n",
    "a.sort(key=lambda x:str(x)[1])\n",
    "print(a)"
   ]
  },
  {
   "cell_type": "code",
   "execution_count": 47,
   "id": "92cfc144",
   "metadata": {},
   "outputs": [
    {
     "name": "stdout",
     "output_type": "stream",
     "text": [
      "[10, 41, 92, 13, 25, 56]\n"
     ]
    }
   ],
   "source": [
    "a=[92,25,41,13,56,10]\n",
    "b=[str(i) for i in a]\n",
    "b.sort(key=lambda x:x[1])\n",
    "c=[int(i) for i in b]\n",
    "print(c)"
   ]
  },
  {
   "cell_type": "code",
   "execution_count": null,
   "id": "7bf40d2e",
   "metadata": {},
   "outputs": [],
   "source": []
  }
 ],
 "metadata": {
  "kernelspec": {
   "display_name": "Python 3 (ipykernel)",
   "language": "python",
   "name": "python3"
  },
  "language_info": {
   "codemirror_mode": {
    "name": "ipython",
    "version": 3
   },
   "file_extension": ".py",
   "mimetype": "text/x-python",
   "name": "python",
   "nbconvert_exporter": "python",
   "pygments_lexer": "ipython3",
   "version": "3.11.3"
  }
 },
 "nbformat": 4,
 "nbformat_minor": 5
}
