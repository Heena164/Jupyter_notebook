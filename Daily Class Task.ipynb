{
 "cells": [
  {
   "cell_type": "code",
   "execution_count": 1,
   "id": "30e696a0",
   "metadata": {},
   "outputs": [
    {
     "name": "stdout",
     "output_type": "stream",
     "text": [
      "Enter Number: 12\n",
      "2\n",
      "3\n",
      "-1\n"
     ]
    }
   ],
   "source": [
    "num = int(input(\"Enter Number: \"))\n",
    "mul = 1\n",
    "sum = 0\n",
    "\n",
    "for i in str(num):\n",
    "    mul = mul * int(i)\n",
    "    sum = sum + int(i)\n",
    "    result = mul - sum\n",
    "    \n",
    "    \n",
    "print(mul)\n",
    "print(sum)\n",
    "print(result)"
   ]
  },
  {
   "cell_type": "markdown",
   "id": "94bf220a",
   "metadata": {},
   "source": [
    "# Reverse the Integer"
   ]
  },
  {
   "cell_type": "code",
   "execution_count": 3,
   "id": "30ceccaf",
   "metadata": {},
   "outputs": [
    {
     "name": "stdout",
     "output_type": "stream",
     "text": [
      "321\n"
     ]
    }
   ],
   "source": [
    "num = 123\n",
    "\n",
    "reverse = 0\n",
    "\n",
    "while num!=0:\n",
    "    reverse = reverse * 10 + num % 10\n",
    "    num = num // 10\n",
    "    \n",
    "print(reverse)"
   ]
  },
  {
   "cell_type": "code",
   "execution_count": 2,
   "id": "3e6c1b0a",
   "metadata": {},
   "outputs": [
    {
     "name": "stdout",
     "output_type": "stream",
     "text": [
      "-321\n"
     ]
    }
   ],
   "source": [
    "a = -123\n",
    "\n",
    "b = abs(123)\n",
    "\n",
    "reverse = 0\n",
    "\n",
    "sign = -1 if a<0 else 1\n",
    "\n",
    "while b!=0:\n",
    "    reverse = reverse * 10 + b % 10\n",
    "    b = b // 10\n",
    "    \n",
    "print(reverse * sign)"
   ]
  },
  {
   "cell_type": "code",
   "execution_count": 4,
   "id": "9e55d2bb",
   "metadata": {},
   "outputs": [
    {
     "name": "stdout",
     "output_type": "stream",
     "text": [
      "-321\n"
     ]
    }
   ],
   "source": [
    "num = -123\n",
    "\n",
    "reverse = str(abs(num))[::-1]\n",
    "reverse_num = int(reverse)\n",
    "\n",
    "if num < 0:\n",
    "    reverse_num = -reverse_num\n",
    "\n",
    "print(reverse_num)"
   ]
  },
  {
   "cell_type": "markdown",
   "id": "a2b3dba9",
   "metadata": {},
   "source": [
    "# Print star Pattern"
   ]
  },
  {
   "cell_type": "code",
   "execution_count": 5,
   "id": "6e11ae3e",
   "metadata": {},
   "outputs": [
    {
     "name": "stdout",
     "output_type": "stream",
     "text": [
      "         *\n",
      "       * *\n",
      "     * * *\n",
      "   * * * *\n",
      " * * * * *\n"
     ]
    }
   ],
   "source": [
    "row = 5\n",
    "for i in range(row):\n",
    "    print(\"  \" * (row - i -1) + \" *\" *(i + 1))"
   ]
  },
  {
   "cell_type": "code",
   "execution_count": null,
   "id": "e02a34bf",
   "metadata": {},
   "outputs": [],
   "source": []
  }
 ],
 "metadata": {
  "kernelspec": {
   "display_name": "Python 3 (ipykernel)",
   "language": "python",
   "name": "python3"
  },
  "language_info": {
   "codemirror_mode": {
    "name": "ipython",
    "version": 3
   },
   "file_extension": ".py",
   "mimetype": "text/x-python",
   "name": "python",
   "nbconvert_exporter": "python",
   "pygments_lexer": "ipython3",
   "version": "3.11.3"
  }
 },
 "nbformat": 4,
 "nbformat_minor": 5
}
