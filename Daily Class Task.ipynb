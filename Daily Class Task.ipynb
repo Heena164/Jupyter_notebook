{
 "cells": [
  {
   "cell_type": "code",
   "execution_count": 1,
   "id": "30e696a0",
   "metadata": {},
   "outputs": [
    {
     "name": "stdout",
     "output_type": "stream",
     "text": [
      "Enter Number: 12\n",
      "2\n",
      "3\n",
      "-1\n"
     ]
    }
   ],
   "source": [
    "num = int(input(\"Enter Number: \"))\n",
    "mul = 1\n",
    "sum = 0\n",
    "\n",
    "for i in str(num):\n",
    "    mul = mul * int(i)\n",
    "    sum = sum + int(i)\n",
    "    result = mul - sum\n",
    "    \n",
    "    \n",
    "print(mul)\n",
    "print(sum)\n",
    "print(result)"
   ]
  },
  {
   "cell_type": "markdown",
   "id": "94bf220a",
   "metadata": {},
   "source": [
    "# Reverse the Integer"
   ]
  },
  {
   "cell_type": "code",
   "execution_count": 3,
   "id": "30ceccaf",
   "metadata": {},
   "outputs": [
    {
     "name": "stdout",
     "output_type": "stream",
     "text": [
      "321\n"
     ]
    }
   ],
   "source": [
    "num = 123\n",
    "\n",
    "reverse = 0\n",
    "\n",
    "while num!=0:\n",
    "    reverse = reverse * 10 + num % 10\n",
    "    num = num // 10\n",
    "    \n",
    "print(reverse)"
   ]
  },
  {
   "cell_type": "code",
   "execution_count": 2,
   "id": "3e6c1b0a",
   "metadata": {},
   "outputs": [
    {
     "name": "stdout",
     "output_type": "stream",
     "text": [
      "-321\n"
     ]
    }
   ],
   "source": [
    "a = -123\n",
    "\n",
    "b = abs(123)\n",
    "\n",
    "reverse = 0\n",
    "\n",
    "sign = -1 if a<0 else 1\n",
    "\n",
    "while b!=0:\n",
    "    reverse = reverse * 10 + b % 10\n",
    "    b = b // 10\n",
    "    \n",
    "print(reverse * sign)"
   ]
  },
  {
   "cell_type": "code",
   "execution_count": 4,
   "id": "9e55d2bb",
   "metadata": {},
   "outputs": [
    {
     "name": "stdout",
     "output_type": "stream",
     "text": [
      "-321\n"
     ]
    }
   ],
   "source": [
    "num = -123\n",
    "\n",
    "reverse = str(abs(num))[::-1]\n",
    "reverse_num = int(reverse)\n",
    "\n",
    "if num < 0:\n",
    "    reverse_num = -reverse_num\n",
    "\n",
    "print(reverse_num)"
   ]
  },
  {
   "cell_type": "code",
   "execution_count": 1,
   "id": "a40c36b1",
   "metadata": {},
   "outputs": [
    {
     "name": "stdout",
     "output_type": "stream",
     "text": [
      "[]\n"
     ]
    }
   ],
   "source": [
    "l = [1, 5]\n",
    "d = {}\n",
    "ls = []\n",
    "\n",
    "for i in l:\n",
    "    if i in d:\n",
    "        d[i] += 1\n",
    "    else:\n",
    "        d[i] = 1\n",
    "        \n",
    "for i, j in d.items():\n",
    "    if j > 1:\n",
    "        ls.append(i)\n",
    "        \n",
    "print(ls)"
   ]
  },
  {
   "cell_type": "code",
   "execution_count": 3,
   "id": "e4ee1eb1",
   "metadata": {},
   "outputs": [
    {
     "name": "stdout",
     "output_type": "stream",
     "text": [
      "[1, 3]\n"
     ]
    }
   ],
   "source": [
    "l = [1, 3, 4, 7, 2, 1, 3]\n",
    "\n",
    "d = {}\n",
    "\n",
    "ls = []\n",
    "\n",
    "for i in l:\n",
    "    if i in d:\n",
    "        d[i] += 1\n",
    "    else:\n",
    "        d[i] = 1\n",
    "        \n",
    "# print(d)\n",
    "        \n",
    "for i, j in d.items():\n",
    "    if j>1:\n",
    "        ls.append(i)\n",
    "        \n",
    "print(ls)\n"
   ]
  },
  {
   "cell_type": "code",
   "execution_count": 4,
   "id": "af4313ef",
   "metadata": {},
   "outputs": [
    {
     "name": "stdout",
     "output_type": "stream",
     "text": [
      "[2, 1, 4, 3, 6, 5]\n"
     ]
    }
   ],
   "source": [
    "lst = [1, 2, 3, 4, 5, 6]\n",
    "\n",
    "for i in range(0, len(lst), 2):\n",
    "    temp = lst[i]\n",
    "    lst[i] = lst[i+1]\n",
    "    lst[i+1] = temp\n",
    "print(lst)"
   ]
  },
  {
   "cell_type": "code",
   "execution_count": 1,
   "id": "d2957012",
   "metadata": {},
   "outputs": [
    {
     "name": "stdout",
     "output_type": "stream",
     "text": [
      "6\n",
      "[6, 2, 3, 4, 5, 1]\n"
     ]
    }
   ],
   "source": [
    "lst = [1, 2, 3, 4, 5, 6]\n",
    "\n",
    "size = len(lst)\n",
    "print(size)\n",
    "temp = lst[0]\n",
    "lst[0] = lst[size-1]\n",
    "lst[size-1] = temp\n",
    "print(lst)   "
   ]
  },
  {
   "cell_type": "code",
   "execution_count": 9,
   "id": "26a68315",
   "metadata": {},
   "outputs": [
    {
     "name": "stdout",
     "output_type": "stream",
     "text": [
      "Original list: [1, 2, 3, 4, 5]\n",
      "Swapped list: [5, 2, 3, 4, 1]\n"
     ]
    }
   ],
   "source": [
    "my_list = [1, 2, 3, 4, 5]\n",
    "print(\"Original list:\", my_list)\n",
    "\n",
    "if len(my_list) >= 2:\n",
    "    temp = my_list[0]\n",
    "    my_list[0] = my_list[-1]\n",
    "    my_list[-1] = temp\n",
    "\n",
    "print(\"Swapped list:\", my_list)"
   ]
  },
  {
   "cell_type": "code",
   "execution_count": 6,
   "id": "f2dfa706",
   "metadata": {},
   "outputs": [
    {
     "name": "stdout",
     "output_type": "stream",
     "text": [
      "[2, 1, 4, 3, 6, 5, 7]\n"
     ]
    }
   ],
   "source": [
    "lst = [1, 2, 3, 4, 5, 6, 7]\n",
    "\n",
    "for i in range(0, len(lst), 2):\n",
    "    if i+1 < len(lst):\n",
    "        temp = lst[i]\n",
    "        lst[i] = lst[i+1]\n",
    "        lst[i+1] = temp\n",
    "print(lst)"
   ]
  },
  {
   "cell_type": "markdown",
   "id": "a2b3dba9",
   "metadata": {},
   "source": [
    "# Print star Pattern"
   ]
  },
  {
   "cell_type": "code",
   "execution_count": 2,
   "id": "6e11ae3e",
   "metadata": {},
   "outputs": [
    {
     "name": "stdout",
     "output_type": "stream",
     "text": [
      "     * \n",
      "    *  * \n",
      "   *  *  * \n",
      "  *  *  *  * \n",
      " *  *  *  *  * \n"
     ]
    }
   ],
   "source": [
    "row = 5\n",
    "for i in range(row):\n",
    "    print(\" \" * (row - i -1) + \" * \" *(i + 1))"
   ]
  },
  {
   "cell_type": "markdown",
   "id": "9fd8cfb9",
   "metadata": {},
   "source": [
    "# Intersection of two list"
   ]
  },
  {
   "cell_type": "code",
   "execution_count": 7,
   "id": "ee66bb34",
   "metadata": {},
   "outputs": [
    {
     "name": "stdout",
     "output_type": "stream",
     "text": [
      "[2, 2, 3]\n"
     ]
    }
   ],
   "source": [
    "a = [1, 2, 2, 2, 3, 4]\n",
    "b = [0, 2, 2, 3, 5, 6]\n",
    "\n",
    "l = []\n",
    "\n",
    "for i in range(len(a)):\n",
    "    for j in range(len(b)):\n",
    "        if a[i] == b[j]:\n",
    "            l.append(b[j])\n",
    "            b[j] = -1\n",
    "            \n",
    "print(l)"
   ]
  },
  {
   "cell_type": "code",
   "execution_count": 8,
   "id": "ec92b9bb",
   "metadata": {},
   "outputs": [
    {
     "name": "stdout",
     "output_type": "stream",
     "text": [
      "[(1, 4), (2, 3)]\n"
     ]
    }
   ],
   "source": [
    "a = [1, 2, 3, 4, 5]\n",
    "l = []\n",
    "key = 5\n",
    "\n",
    "for i in range(len(a)):  \n",
    "    for j in range(i+1, len(a)):\n",
    "        res = a[i] +a [j]\n",
    "        if res == key:\n",
    "            l.append((a[i], a[j]))\n",
    "            \n",
    "print(l)\n",
    "\n"
   ]
  },
  {
   "cell_type": "code",
   "execution_count": 3,
   "id": "de592a24",
   "metadata": {},
   "outputs": [
    {
     "name": "stdout",
     "output_type": "stream",
     "text": [
      "checklist\n",
      "dumpcv\n"
     ]
    }
   ],
   "source": [
    "dict1={\"content\":[{\"attachment\":{\"href\":359256,\"len\":4,\"name\":\"checklist\",\"type\":\"text\"}},\n",
    "                  {\"attachment\": {\"href\":5627,\"len\":8,\"name\":\"dumpcv\",\"type\":\"appliction\"}}]}\n",
    "\n",
    "for i in dict1[\"content\"]:\n",
    "#     print(i, \"I\")\n",
    "    for j in i:\n",
    "#         print(j, \"J\")\n",
    "        j = i.get(\"attachment\")\n",
    "#         print(j)\n",
    "        \n",
    "    if \"name\" in j:\n",
    "        print(j[\"name\"])\n",
    "        \n",
    "    else:\n",
    "        print('There is no name')"
   ]
  },
  {
   "cell_type": "markdown",
   "id": "695935cc",
   "metadata": {},
   "source": [
    "# show ouput in dictionary inn which count will be key of items \n"
   ]
  },
  {
   "cell_type": "code",
   "execution_count": 1,
   "id": "43cc6c1b",
   "metadata": {},
   "outputs": [
    {
     "name": "stdout",
     "output_type": "stream",
     "text": [
      "{'notepad': 2, 'mouse': 2, 'cat': 1}\n"
     ]
    }
   ],
   "source": [
    "data=[\"notepad\",\"notepad\",\"mouse\",\"mouse\",\"cat\"]\n",
    "\n",
    "res = {}\n",
    "\n",
    "for count in data:\n",
    "    if count in res:\n",
    "        res[count] += 1\n",
    "        \n",
    "    else:\n",
    "        res[count] = 1\n",
    "        \n",
    "print(res)\n",
    "\n"
   ]
  },
  {
   "cell_type": "code",
   "execution_count": 2,
   "id": "a44d11e6",
   "metadata": {},
   "outputs": [
    {
     "name": "stdout",
     "output_type": "stream",
     "text": [
      "{'notepad': 2, 'mouse': 2, 'cat': 1}\n",
      "{2: ['notepad', 'mouse'], 1: ['cat']}\n"
     ]
    }
   ],
   "source": [
    "data=[\"notepad\",\"notepad\",\"mouse\",\"mouse\",\"cat\"]\n",
    "b={}\n",
    "for i in data:\n",
    "    b[i]=data.count(i)\n",
    "print(b)\n",
    "c={}\n",
    "for i, j in b.items():\n",
    "    if j not in c:\n",
    "        c[j]=[i]\n",
    "    else:\n",
    "        c[j].append(i)\n",
    "print(c)\n",
    "        \n"
   ]
  },
  {
   "cell_type": "code",
   "execution_count": 5,
   "id": "9013488e",
   "metadata": {},
   "outputs": [
    {
     "name": "stdout",
     "output_type": "stream",
     "text": [
      "[10, 41, 92, 13, 25]\n"
     ]
    }
   ],
   "source": [
    "a = [92, 25, 41, 13, 10]\n",
    "\n",
    "for i in range(len(a)):  \n",
    "    for j in range(i+1, len(a)):\n",
    "#         print(int(str(a[j])[1]))\n",
    "        \n",
    "        if int(str(a[i])[1]) > int(str(a[j])[1]):\n",
    "            a[i], a[j] = a[j], a[i]\n",
    "print(a)\n",
    "    \n",
    "    \n",
    "        \n",
    "        \n",
    "        "
   ]
  },
  {
   "cell_type": "code",
   "execution_count": 14,
   "id": "a24925ad",
   "metadata": {},
   "outputs": [
    {
     "name": "stdout",
     "output_type": "stream",
     "text": [
      "[130, 411, 105, 257, 926]\n"
     ]
    }
   ],
   "source": [
    "a = [926, 257, 411, 130, 105]\n",
    "\n",
    "for i in range(len(a)):  \n",
    "    for j in range(i+2, len(a)):\n",
    "        \n",
    "        if int(str(a[i])[2]) > int(str(a[j])[2]):\n",
    "            a[i], a[j] = a[j], a[i]\n",
    "print(a)"
   ]
  },
  {
   "cell_type": "code",
   "execution_count": 43,
   "id": "fbef5983",
   "metadata": {},
   "outputs": [
    {
     "name": "stdout",
     "output_type": "stream",
     "text": [
      "[('sub3', 79), ('sub1', 88), ('sub4', 90), ('sub2', 92)]\n"
     ]
    }
   ],
   "source": [
    "a = [('sub1', 88), ('sub2', 92), ('sub3', 79), ('sub4', 90)]\n",
    "for i in range(len(a)):  \n",
    "    for j in range(i+1, len(a)):\n",
    "        if a[i][1] > a[j][1]:\n",
    "            a[i], a[j] = a[j], a[i]\n",
    "print(a)\n",
    "    "
   ]
  },
  {
   "cell_type": "code",
   "execution_count": 44,
   "id": "3349d037",
   "metadata": {},
   "outputs": [
    {
     "name": "stdout",
     "output_type": "stream",
     "text": [
      "[10, 41, 92, 13, 25, 56]\n"
     ]
    }
   ],
   "source": [
    "a=[92,25,41,13,56,10]\n",
    "a.sort(key=lambda x:x%10)\n",
    "print(a)\n"
   ]
  },
  {
   "cell_type": "code",
   "execution_count": 45,
   "id": "45bf5c83",
   "metadata": {},
   "outputs": [
    {
     "name": "stdout",
     "output_type": "stream",
     "text": [
      "[('sub3', 79), ('sub1', 88), ('sub4', 90), ('sub2', 92)]\n"
     ]
    }
   ],
   "source": [
    "a=[(\"sub1\",88),(\"sub2\",92),(\"sub3\",79),(\"sub4\",90)]\n",
    "\n",
    "a.sort(key=lambda x:x[1])\n",
    "print(a)\n"
   ]
  },
  {
   "cell_type": "code",
   "execution_count": 49,
   "id": "1206edcd",
   "metadata": {},
   "outputs": [
    {
     "name": "stdout",
     "output_type": "stream",
     "text": [
      "[10, 41, 92, 13, 25, 56]\n"
     ]
    }
   ],
   "source": [
    "a=[92,25,41,13,56,10]\n",
    "a.sort(key=lambda x:str(x)[1])\n",
    "print(a)"
   ]
  },
  {
   "cell_type": "code",
   "execution_count": 47,
   "id": "92cfc144",
   "metadata": {},
   "outputs": [
    {
     "name": "stdout",
     "output_type": "stream",
     "text": [
      "[10, 41, 92, 13, 25, 56]\n"
     ]
    }
   ],
   "source": [
    "a=[92,25,41,13,56,10]\n",
    "b=[str(i) for i in a]\n",
    "b.sort(key=lambda x:x[1])\n",
    "c=[int(i) for i in b]\n",
    "print(c)"
   ]
  },
  {
   "cell_type": "code",
   "execution_count": 2,
   "id": "7bf40d2e",
   "metadata": {},
   "outputs": [
    {
     "name": "stdout",
     "output_type": "stream",
     "text": [
      "['\"new york', 'united states\"', '\"Junaid', 'chaudhary\"']\n"
     ]
    }
   ],
   "source": [
    "list1 = ['5872184', 'ibm.com', '\"new york', 'new york', 'united states\"', 'united state','\"Junaid','chaudhary\"']\n",
    "# Output: ['5872184', 'ibm.com', '\"new york new york united states\"', 'united state', '\"Junaid chaudhary\"']\n",
    "list2 = []\n",
    "for i in list1:\n",
    "    if i.startswith('\"') or i.endswith('\"'):\n",
    "        a = i\n",
    "        list2.append(i)\n",
    "        \n",
    "print(list2)\n",
    "    \n",
    "    "
   ]
  },
  {
   "cell_type": "code",
   "execution_count": 3,
   "id": "5399f49a",
   "metadata": {},
   "outputs": [
    {
     "name": "stdout",
     "output_type": "stream",
     "text": [
      "['5872184', 'ibm.com', '\"new york new york united states\"', 'united state', '\"Junaid chaudhary\"']\n"
     ]
    }
   ],
   "source": [
    "list1 = ['5872184', 'ibm.com', '\"new york', 'new york', 'united states\"', 'united state', '\"Junaid', 'chaudhary\"']\n",
    "\n",
    "merged_list = []\n",
    "i = 0\n",
    "\n",
    "while i < len(list1):\n",
    "    if list1[i].startswith('\"') and not list1[i].endswith('\"'):\n",
    "        merged_element = list1[i]\n",
    "        i += 1\n",
    "        while i < len(list1) and not list1[i].endswith('\"'):\n",
    "            merged_element += ' ' + list1[i]\n",
    "            i += 1\n",
    "        merged_element += ' ' + list1[i]\n",
    "        merged_list.append(merged_element)\n",
    "    else:\n",
    "        merged_list.append(list1[i])\n",
    "    i += 1\n",
    "\n",
    "print(merged_list)\n"
   ]
  },
  {
   "cell_type": "code",
   "execution_count": 5,
   "id": "cb17b437",
   "metadata": {},
   "outputs": [
    {
     "name": "stdout",
     "output_type": "stream",
     "text": [
      "AAAKXXXX\n"
     ]
    }
   ],
   "source": [
    "import re\n",
    "\n",
    "s = \"A3K1X4\"\n",
    "output = \"\"\n",
    "\n",
    "tokens = re.findall(r'([A-Za-z])(\\d*)', s)\n",
    "for token in tokens:\n",
    "    char = token[0]\n",
    "    count = int(token[1]) if token[1] else 1\n",
    "    output += char * count\n",
    "\n",
    "print(output)"
   ]
  },
  {
   "cell_type": "code",
   "execution_count": 30,
   "id": "8e8e5efa",
   "metadata": {},
   "outputs": [
    {
     "name": "stdout",
     "output_type": "stream",
     "text": [
      "[4]\n",
      "[2, 4]\n",
      "[7, 2, 4]\n",
      "[8, 7, 2, 4]\n",
      "[3, 8, 7, 2, 4]\n",
      "[3, 8, 7, 2, 4]\n"
     ]
    }
   ],
   "source": [
    "a = [4, 2, 7, 8, 3]\n",
    "\n",
    "rev = []\n",
    "\n",
    "for i in a:\n",
    "    rev = [i] + rev\n",
    "    print(rev)\n",
    "    \n",
    "print(rev)"
   ]
  },
  {
   "cell_type": "code",
   "execution_count": 25,
   "id": "ba9561f4",
   "metadata": {},
   "outputs": [
    {
     "name": "stdout",
     "output_type": "stream",
     "text": [
      "0\n"
     ]
    }
   ],
   "source": [
    "haystack = \"sadbutsad\"\n",
    "needle = \"sad\"\n",
    "\n",
    "index = haystack.find(needle)\n",
    "print(index)\n"
   ]
  },
  {
   "cell_type": "code",
   "execution_count": 28,
   "id": "7524c3b3",
   "metadata": {},
   "outputs": [
    {
     "name": "stdout",
     "output_type": "stream",
     "text": [
      "-1\n"
     ]
    }
   ],
   "source": [
    "s = 'leetcode'\n",
    "needle = \"leeto\"\n",
    "\n",
    "i = s.find(needle)\n",
    "print(i)"
   ]
  },
  {
   "cell_type": "code",
   "execution_count": 10,
   "id": "7d79549d",
   "metadata": {},
   "outputs": [
    {
     "name": "stdout",
     "output_type": "stream",
     "text": [
      "['AB', 'AE', 'DC']\n"
     ]
    }
   ],
   "source": [
    "a = [\"AB\", \"AC\", \"AE\", \"AC\", \"DC\", \"AC\"]\n",
    "d = {}\n",
    "l = []\n",
    "\n",
    "for i in a:\n",
    "    if i in d:\n",
    "        d[i] += 1\n",
    "        \n",
    "    else:\n",
    "        d[i] = 1\n",
    "\n",
    "\n",
    "for key, value in d.items():\n",
    "    if value == 1:\n",
    "        l.append(key)\n",
    "        \n",
    "print(l)\n",
    "        \n",
    "        \n"
   ]
  },
  {
   "cell_type": "code",
   "execution_count": 12,
   "id": "3441b1da",
   "metadata": {},
   "outputs": [
    {
     "name": "stdout",
     "output_type": "stream",
     "text": [
      "10\n"
     ]
    }
   ],
   "source": [
    "a = [1, 3, 7, 5, 7, 9, 10]\n",
    "last_element = None\n",
    "\n",
    "if len(a) > 0:\n",
    "    last_element = a[len(a) - 1]\n",
    "\n",
    "print(last_element)\n"
   ]
  },
  {
   "cell_type": "code",
   "execution_count": 3,
   "id": "162e481c",
   "metadata": {},
   "outputs": [
    {
     "name": "stdout",
     "output_type": "stream",
     "text": [
      "The misssing number is: -114\n"
     ]
    }
   ],
   "source": [
    "l1 = [21, 22, 43, 24, 25]\n",
    "\n"
   ]
  },
  {
   "cell_type": "code",
   "execution_count": 5,
   "id": "0f965fb4",
   "metadata": {},
   "outputs": [
    {
     "name": "stdout",
     "output_type": "stream",
     "text": [
      "Not Anagram\n"
     ]
    }
   ],
   "source": [
    "a = \"AsK\"\n",
    "b = \"SK\"\n",
    "\n",
    "if sorted(a.lower()) == sorted(b.lower()):\n",
    "    print(\"Anagram\")\n",
    "    \n",
    "else:\n",
    "    print(\"Not Anagram\")"
   ]
  },
  {
   "cell_type": "code",
   "execution_count": 1,
   "id": "7497f659",
   "metadata": {},
   "outputs": [
    {
     "ename": "SyntaxError",
     "evalue": "incomplete input (2736176920.py, line 7)",
     "output_type": "error",
     "traceback": [
      "\u001b[1;36m  Cell \u001b[1;32mIn[1], line 7\u001b[1;36m\u001b[0m\n\u001b[1;33m    for j in range(1, len(s)):\u001b[0m\n\u001b[1;37m                              ^\u001b[0m\n\u001b[1;31mSyntaxError\u001b[0m\u001b[1;31m:\u001b[0m incomplete input\n"
     ]
    }
   ],
   "source": [
    "s = \"A3K1X4\"\n",
    " \n",
    "s1 = \"ABCDEFGHIJKLMNOPQRSTUVWXYZ\"\n",
    "\n",
    "for i in range(1, len(s1)):\n",
    "    print(i)\n",
    "    for j in range(1, len(s)):\n",
    "        \n",
    "        \n",
    "array = [[['*' for col in range(6)] for col in range(4)] for row in range(3)]\n",
    "\n",
    "print(array)\n",
    "        "
   ]
  },
  {
   "cell_type": "code",
   "execution_count": 8,
   "id": "dc8381d0",
   "metadata": {},
   "outputs": [
    {
     "name": "stdout",
     "output_type": "stream",
     "text": [
      "Enter 1st num:3\n",
      "Enter 2nd num:4\n",
      "Enter a number: 1\n",
      "Enter a number: 2\n",
      "Enter a number: 3\n",
      "Enter a number: 4\n",
      "Enter a number: 5\n",
      "Enter a number: 6\n",
      "Enter a number: 7\n",
      "Enter a number: 8\n",
      "Enter a number: 9\n",
      "Enter a number: 2\n",
      "Enter a number: 3\n",
      "Enter a number: 4\n",
      "[[1, 2, 3, 4], [5, 6, 7, 8], [9, 2, 3, 4]]\n"
     ]
    }
   ],
   "source": [
    "a = int(input(\"Enter 1st num:\"))\n",
    "b = int(input(\"Enter 2nd num:\"))\n",
    "\n",
    "r = []\n",
    "\n",
    "for i in range(a):\n",
    "    temp = []\n",
    "    for j in range(b):\n",
    "        num = int(input(\"Enter a number: \"))\n",
    "        temp.append(num)\n",
    "        \n",
    "    r.append(temp)\n",
    "    \n",
    "print(r)"
   ]
  },
  {
   "cell_type": "code",
   "execution_count": 12,
   "id": "74c78d8c",
   "metadata": {},
   "outputs": [
    {
     "name": "stdout",
     "output_type": "stream",
     "text": [
      "Enter number:1\n",
      "Enter number:2\n",
      "Enter number:3\n",
      "Enter number:4\n",
      "Enter number:5\n",
      "Enter number:6\n",
      "[[1, 2, 3], [4, 5, 6]]\n"
     ]
    }
   ],
   "source": [
    "a = 2\n",
    "b = 3\n",
    "\n",
    "x = [[int(input(\"Enter number:\")) for i in range(b)] for j in range(a)]\n",
    "print(x)\n",
    "\n"
   ]
  },
  {
   "cell_type": "code",
   "execution_count": 22,
   "id": "5f36aec3",
   "metadata": {},
   "outputs": [
    {
     "name": "stdout",
     "output_type": "stream",
     "text": [
      "['SAdique', 'junaid', 'SufiYan']\n"
     ]
    }
   ],
   "source": [
    "a = ['sAdique', 'Junaid', 'sufiYan']\n",
    "index = 0\n",
    "\n",
    "for i in a:\n",
    "    if i[0].isupper():\n",
    "        x = i[0].lower() + i[1:]\n",
    "        a[index] = x\n",
    "        \n",
    "    else:\n",
    "        y = i[0].upper() + i[1:]\n",
    "        a[index] = y\n",
    "        \n",
    "    index += 1\n",
    "         \n",
    "print(a)"
   ]
  },
  {
   "cell_type": "code",
   "execution_count": 21,
   "id": "f7372e61",
   "metadata": {},
   "outputs": [
    {
     "name": "stdout",
     "output_type": "stream",
     "text": [
      "{'item1': 600, 'item2': 300}\n"
     ]
    }
   ],
   "source": [
    "d = [{'item' : 'item1', 'amount' : 400},\n",
    "     {'item' : 'item2', 'amount' : 300},\n",
    "     {'item' : 'item1', 'amount' : 200}]\n",
    "\n",
    "res = {}\n",
    "\n",
    "for i in d:\n",
    "#     print(i)\n",
    "    name = i['item']\n",
    "#     print(name)\n",
    "    amount = i['amount']\n",
    "#     print(amount)\n",
    "    \n",
    "    if name in res:\n",
    "        res[name] += amount\n",
    "        \n",
    "    else:\n",
    "        res[name] = amount\n",
    "        \n",
    "print(res)\n",
    "   "
   ]
  },
  {
   "cell_type": "code",
   "execution_count": 29,
   "id": "0117b5e3",
   "metadata": {},
   "outputs": [
    {
     "name": "stdout",
     "output_type": "stream",
     "text": [
      "{'item1': 600, 'item2': 300}\n"
     ]
    }
   ],
   "source": [
    "d = [{'item' : 'item1', 'amount' : 400},\n",
    "     {'item' : 'item2', 'amount' : 300},\n",
    "     {'item' : 'item1', 'amount' : 200}]\n",
    "\n",
    "res = {}\n",
    "\n",
    "for i in d:\n",
    "    key = i['item']\n",
    "    value = i['amount']\n",
    "    \n",
    "    if key not in res:\n",
    "        res.update({key:value})\n",
    "        \n",
    "    else:\n",
    "        res[key] += value\n",
    "        \n",
    "    \n",
    " \n",
    "        \n",
    "print(res)\n",
    "    "
   ]
  },
  {
   "cell_type": "code",
   "execution_count": 66,
   "id": "f275e145",
   "metadata": {},
   "outputs": [
    {
     "name": "stdout",
     "output_type": "stream",
     "text": [
      "[2, 8, 18, 32]\n"
     ]
    }
   ],
   "source": [
    "l = [1, 2, 3, 4]\n",
    "l1 = []\n",
    "for i in l:\n",
    "    res = (i ** 2) * 2\n",
    "    l1.append(res)\n",
    "    \n",
    "print(l1)"
   ]
  },
  {
   "cell_type": "code",
   "execution_count": 71,
   "id": "0c37d69d",
   "metadata": {},
   "outputs": [
    {
     "name": "stdout",
     "output_type": "stream",
     "text": [
      "[2, 8, 18, 32]\n"
     ]
    }
   ],
   "source": [
    "l = [1, 2, 3, 4]\n",
    "\n",
    "x = list(map(lambda x: (x**2) *2, l))\n",
    "         \n",
    "print(x)"
   ]
  },
  {
   "cell_type": "code",
   "execution_count": 93,
   "id": "84ed489f",
   "metadata": {},
   "outputs": [
    {
     "name": "stdout",
     "output_type": "stream",
     "text": [
      "5\n",
      "8\n",
      "15\n",
      "19\n",
      "[5, 8, 15, 19]\n"
     ]
    }
   ],
   "source": [
    "l = [5, 8, 15, 19]\n",
    "l1 = []\n",
    "for i in range(len(l)):\n",
    "    \n",
    "    "
   ]
  },
  {
   "cell_type": "code",
   "execution_count": 97,
   "id": "7bfe2b97",
   "metadata": {},
   "outputs": [
    {
     "name": "stdout",
     "output_type": "stream",
     "text": [
      "[5, 3, 7, 4]\n"
     ]
    }
   ],
   "source": [
    "l = [5, 8, 15, 19]\n",
    "\n",
    "res = [l[0]] + [y-x for x, y in zip(l, l[1:])]\n",
    "\n",
    "print(res)"
   ]
  },
  {
   "cell_type": "code",
   "execution_count": 5,
   "id": "d36bd5a5",
   "metadata": {},
   "outputs": [
    {
     "name": "stdout",
     "output_type": "stream",
     "text": [
      "{'s': 1, 'a': 2, 'd': 1, 'i': 2, 'q': 1, 'u': 1, 'e': 1, 'l': 1}\n"
     ]
    }
   ],
   "source": [
    "s = \"sadique ali\"\n",
    "\n",
    "res = {}\n",
    "\n",
    "for char in s:\n",
    "    if char in res:\n",
    "        res[char] += 1\n",
    "    \n",
    "    elif char == ' ':\n",
    "        continue\n",
    "        \n",
    "    else:\n",
    "        res[char] = 1 \n",
    "print(res)"
   ]
  },
  {
   "cell_type": "code",
   "execution_count": 29,
   "id": "bb7c4135",
   "metadata": {},
   "outputs": [
    {
     "name": "stdout",
     "output_type": "stream",
     "text": [
      "[(100, 1), (5, 2), (2, 3), (1, 4), (0, 10)]\n"
     ]
    }
   ],
   "source": [
    "a = [(2, 3), (5, 2), (1, 4), (0, 10), (100, 1)]\n",
    "\n",
    "for i in range(len(a)):\n",
    "#     print(\"I\", a[i])\n",
    "    for j in range(i, len(a)):\n",
    "#         print(\"J\", a[j])\n",
    "        if a[i][1] > a[j][1]:\n",
    "            a[i], a[j] = a[j], a[i]\n",
    "print(a)\n",
    "    "
   ]
  },
  {
   "cell_type": "code",
   "execution_count": 2,
   "id": "df33e489",
   "metadata": {},
   "outputs": [
    {
     "name": "stdout",
     "output_type": "stream",
     "text": [
      "[(100, 1), (5, 2), (2, 3), (1, 4), (0, 10)]\n"
     ]
    }
   ],
   "source": [
    "a = [(2, 3), (5, 2), (1, 4), (0, 10), (100, 1)]\n",
    "\n",
    "def last(l):\n",
    "    return l[-1]\n",
    "\n",
    "def sort(tuple):\n",
    "    return sorted(tuple, key=last)\n",
    "\n",
    "x = sort(a)\n",
    "print(x)"
   ]
  },
  {
   "cell_type": "code",
   "execution_count": null,
   "id": "3b86de2f",
   "metadata": {},
   "outputs": [],
   "source": []
  }
 ],
 "metadata": {
  "kernelspec": {
   "display_name": "Python 3 (ipykernel)",
   "language": "python",
   "name": "python3"
  },
  "language_info": {
   "codemirror_mode": {
    "name": "ipython",
    "version": 3
   },
   "file_extension": ".py",
   "mimetype": "text/x-python",
   "name": "python",
   "nbconvert_exporter": "python",
   "pygments_lexer": "ipython3",
   "version": "3.11.3"
  }
 },
 "nbformat": 4,
 "nbformat_minor": 5
}
