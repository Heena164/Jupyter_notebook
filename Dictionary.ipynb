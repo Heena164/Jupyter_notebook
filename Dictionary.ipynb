{
 "cells": [
  {
   "cell_type": "markdown",
   "id": "40c63109",
   "metadata": {},
   "source": [
    "# Write a Python script to sort (ascending and descending) a dictionary by value."
   ]
  },
  {
   "cell_type": "code",
   "execution_count": 8,
   "id": "a50141c1",
   "metadata": {
    "scrolled": true
   },
   "outputs": [
    {
     "name": "stdout",
     "output_type": "stream",
     "text": [
      "{'C': 5, 'A': 50, 'B': 60}\n",
      "{'B': 60, 'A': 50, 'C': 5}\n"
     ]
    }
   ],
   "source": [
    "d = {'A': 50, 'B': 60, 'C': 5}\n",
    "\n",
    "\n",
    "asc = dict(sorted(d.items(), key = lambda x: x[1]))\n",
    "dsc = dict(sorted(d.items(), key = lambda x: x[1], reverse = True))\n",
    "print(asc)\n",
    "print(dsc)"
   ]
  },
  {
   "cell_type": "markdown",
   "id": "f5fee526",
   "metadata": {},
   "source": [
    "# Write a Python script to add a key to a dictionary."
   ]
  },
  {
   "cell_type": "code",
   "execution_count": null,
   "id": "ffedf8d6",
   "metadata": {},
   "outputs": [],
   "source": [
    "d = {'A': 10, 'B': 20}\n",
    "\n",
    "d.update({'C': 30})\n",
    "\n",
    "print(d)"
   ]
  },
  {
   "cell_type": "markdown",
   "id": "e436da7c",
   "metadata": {},
   "source": [
    "# Write a Python script to concatenate the following dictionaries to create a new one."
   ]
  },
  {
   "cell_type": "code",
   "execution_count": 7,
   "id": "b9afe2f8",
   "metadata": {},
   "outputs": [
    {
     "name": "stdout",
     "output_type": "stream",
     "text": [
      "{1: 10, 2: 20, 3: 30, 4: 40, 5: 50, 6: 60}\n"
     ]
    }
   ],
   "source": [
    "dict1={1:10, 2:20}\n",
    "dict2={3:30, 4:40}\n",
    "dict3={5:50,6:60}\n",
    "\n",
    "dict4 = {**dict1, **dict2, **dict3}\n",
    "\n",
    "print(dict4)"
   ]
  },
  {
   "cell_type": "markdown",
   "id": "967cd6ee",
   "metadata": {},
   "source": [
    "# Write a Python script to check whether a given key already exists in a dictionary."
   ]
  },
  {
   "cell_type": "code",
   "execution_count": null,
   "id": "30f6a99f",
   "metadata": {},
   "outputs": [],
   "source": [
    "squares = {1:1, 3:9, 5:25 , 7:49, 9:81}\n",
    "\n",
    "a = int(input('Enter a key to check:'))\n",
    "\n",
    "if a in squares:\n",
    "    print('Key is present')\n",
    "    \n",
    "else:\n",
    "    print('Key is not present')"
   ]
  },
  {
   "cell_type": "markdown",
   "id": "bc931e1f",
   "metadata": {},
   "source": [
    "# Write a Python program to iterate over dictionaries using for loops."
   ]
  },
  {
   "cell_type": "code",
   "execution_count": 16,
   "id": "f97e8fa0",
   "metadata": {},
   "outputs": [
    {
     "name": "stdout",
     "output_type": "stream",
     "text": [
      "Name -- Aman\n",
      "Age -- 29\n",
      "Add -- ABC\n"
     ]
    }
   ],
   "source": [
    "d = {'Name': 'Aman', 'Age': 29, 'Add': 'ABC'}\n",
    "\n",
    "for key, value in d.items():\n",
    "  print(key, '--', value)"
   ]
  },
  {
   "cell_type": "markdown",
   "id": "9db14037",
   "metadata": {},
   "source": [
    "# Write a Python code snippet that finds and prints the name of the student with the highest score."
   ]
  },
  {
   "cell_type": "code",
   "execution_count": 10,
   "id": "f4258c13",
   "metadata": {},
   "outputs": [
    {
     "name": "stdout",
     "output_type": "stream",
     "text": [
      "{'David': 95}\n"
     ]
    }
   ],
   "source": [
    "scores = {'Alice': 85, 'Bob': 92, 'Charlie': 78, 'David': 95, 'Eve': 88}\n",
    "highest_score = 0\n",
    "highest_name = None\n",
    "for key, value in scores.items():\n",
    "    if value > highest_score:\n",
    "        highest_score = value\n",
    "        highest_name = key\n",
    "        \n",
    "print({highest_name:highest_score})\n",
    "    \n",
    "    "
   ]
  },
  {
   "cell_type": "markdown",
   "id": "3b2d0661",
   "metadata": {},
   "source": [
    "# Write a Python code snippet to find and print the name of the oldest person."
   ]
  },
  {
   "cell_type": "code",
   "execution_count": 2,
   "id": "4c2bec2a",
   "metadata": {},
   "outputs": [
    {
     "name": "stdout",
     "output_type": "stream",
     "text": [
      "David\n"
     ]
    }
   ],
   "source": [
    "d = {\"Alice\": 25, \"Bob\": 32, \"Charlie\": 19, \"David\": 45, \"Eve\": 28}\n",
    "\n",
    "name = None\n",
    "age = 0\n",
    "\n",
    "for key, value in d.items():\n",
    "    if value > age:\n",
    "        name = key\n",
    "        age = value\n",
    "        \n",
    "print(name)\n",
    "        "
   ]
  },
  {
   "cell_type": "markdown",
   "id": "7b736339",
   "metadata": {},
   "source": [
    "# Write a Python code snippet to find and print the titles of all the books written by a specific author."
   ]
  },
  {
   "cell_type": "code",
   "execution_count": 15,
   "id": "985ee349",
   "metadata": {},
   "outputs": [
    {
     "name": "stdout",
     "output_type": "stream",
     "text": [
      "Enter author name: Author1\n",
      "The books written by Author1 are Book1 Book3\n"
     ]
    }
   ],
   "source": [
    "books = [\n",
    "    {'title': 'Book1', 'author': 'Author1'},\n",
    "    {'title': 'Book2', 'author': 'Author2'},\n",
    "    {'title': 'Book3', 'author': 'Author1'},\n",
    "    {'title': 'Book4', 'author': 'Author3'}\n",
    "]\n",
    "\n",
    "author = input(\"Enter author name: \")\n",
    "l = []\n",
    "\n",
    "for i in books:\n",
    "    if i['author'] == author:\n",
    "        l.append(i['title'])\n",
    "\n",
    "print(\"The books written by\", author, \"are\", ' '.join(l))\n",
    "\n",
    "        "
   ]
  },
  {
   "cell_type": "markdown",
   "id": "29a9d500",
   "metadata": {},
   "source": [
    "# Write a Python script to generate and print a dictionary that contains a number (between 1 and n) in the form (x, x*x)."
   ]
  },
  {
   "cell_type": "code",
   "execution_count": 5,
   "id": "f46414ea",
   "metadata": {},
   "outputs": [
    {
     "name": "stdout",
     "output_type": "stream",
     "text": [
      "Enter a number: 6\n",
      "{1: 1, 2: 4, 3: 9, 4: 16, 5: 25, 6: 36}\n"
     ]
    }
   ],
   "source": [
    "n = int(input(\"Enter a number: \"))\n",
    "d = {}\n",
    "\n",
    "for i in range(1, n + 1):\n",
    "#     print(i)\n",
    "    d[i] = i * i\n",
    "    \n",
    "print(d)"
   ]
  },
  {
   "cell_type": "markdown",
   "id": "57ee259f",
   "metadata": {},
   "source": [
    "# Write a Python script to print a dictionary where the keys are numbers between 1 and 15 (both included) and the values are the square of the keys."
   ]
  },
  {
   "cell_type": "code",
   "execution_count": 6,
   "id": "4336f682",
   "metadata": {},
   "outputs": [
    {
     "name": "stdout",
     "output_type": "stream",
     "text": [
      "{1: 1, 2: 4, 3: 9, 4: 16, 5: 25, 6: 36, 7: 49, 8: 64, 9: 81, 10: 100, 11: 121, 12: 144, 13: 169, 14: 196, 15: 225}\n"
     ]
    }
   ],
   "source": [
    "d = {}\n",
    "for i in range(1, 16):\n",
    "    d[i] = i ** 2\n",
    "    \n",
    "    \n",
    "print(d)"
   ]
  },
  {
   "cell_type": "markdown",
   "id": "237050f9",
   "metadata": {},
   "source": [
    "# Write a Python script to merge two Python dictionaries."
   ]
  },
  {
   "cell_type": "code",
   "execution_count": 20,
   "id": "bfd8e10b",
   "metadata": {},
   "outputs": [
    {
     "name": "stdout",
     "output_type": "stream",
     "text": [
      "---1st Method---\n",
      "{'a': 100, 'b': 200, 'x': 300, 'y': 200}\n",
      "---2nd Method---\n",
      "{'a': 100, 'b': 200, 'x': 300, 'y': 200}\n",
      "---3rd Method---\n",
      "{'a': 100, 'b': 200, 'x': 300, 'y': 200}\n"
     ]
    }
   ],
   "source": [
    "d1 = {'a': 100, 'b': 200}\n",
    "d2 = {'x': 300, 'y': 200}\n",
    "\n",
    "print(\"---1st Method---\")\n",
    "d3 = {** d1, **d2}\n",
    "print(d3)\n",
    "\n",
    "print(\"---2nd Method---\")\n",
    "d = d1.copy()\n",
    "d.update(d2)\n",
    "print(d)\n",
    "\n",
    "print(\"---3rd Method---\")\n",
    "d1.update(d2)\n",
    "print(d1)"
   ]
  },
  {
   "cell_type": "code",
   "execution_count": null,
   "id": "12bf8322",
   "metadata": {},
   "outputs": [],
   "source": []
  }
 ],
 "metadata": {
  "kernelspec": {
   "display_name": "Python 3 (ipykernel)",
   "language": "python",
   "name": "python3"
  },
  "language_info": {
   "codemirror_mode": {
    "name": "ipython",
    "version": 3
   },
   "file_extension": ".py",
   "mimetype": "text/x-python",
   "name": "python",
   "nbconvert_exporter": "python",
   "pygments_lexer": "ipython3",
   "version": "3.11.3"
  }
 },
 "nbformat": 4,
 "nbformat_minor": 5
}
