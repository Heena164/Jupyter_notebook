{
 "cells": [
  {
   "cell_type": "markdown",
   "id": "40c63109",
   "metadata": {},
   "source": [
    "# Write a Python script to sort (ascending and descending) a dictionary by value."
   ]
  },
  {
   "cell_type": "code",
   "execution_count": 5,
   "id": "a50141c1",
   "metadata": {},
   "outputs": [
    {
     "name": "stdout",
     "output_type": "stream",
     "text": [
      "50\n",
      "10\n",
      "5\n"
     ]
    }
   ],
   "source": [
    "d = {'A': 50, 'B': 10, 'C': 5}\n",
    "\n",
    "# print(sorted(d.values()))\n",
    "\n",
    "for i in d.values():\n",
    "    "
   ]
  },
  {
   "cell_type": "markdown",
   "id": "f5fee526",
   "metadata": {},
   "source": [
    "# Write a Python script to add a key to a dictionary."
   ]
  },
  {
   "cell_type": "code",
   "execution_count": null,
   "id": "ffedf8d6",
   "metadata": {},
   "outputs": [],
   "source": [
    "d = {'A': 10, 'B': 20}\n",
    "\n",
    "d.update({'C': 30})\n",
    "\n",
    "print(d)"
   ]
  },
  {
   "cell_type": "markdown",
   "id": "e436da7c",
   "metadata": {},
   "source": [
    "# Write a Python script to concatenate the following dictionaries to create a new one."
   ]
  },
  {
   "cell_type": "code",
   "execution_count": 7,
   "id": "b9afe2f8",
   "metadata": {},
   "outputs": [
    {
     "name": "stdout",
     "output_type": "stream",
     "text": [
      "{1: 10, 2: 20, 3: 30, 4: 40, 5: 50, 6: 60}\n"
     ]
    }
   ],
   "source": [
    "dict1={1:10, 2:20}\n",
    "dict2={3:30, 4:40}\n",
    "dict3={5:50,6:60}\n",
    "\n",
    "dict4 = {**dict1, **dict2, **dict3}\n",
    "\n",
    "print(dict4)"
   ]
  },
  {
   "cell_type": "markdown",
   "id": "967cd6ee",
   "metadata": {},
   "source": [
    "# Write a Python script to check whether a given key already exists in a dictionary."
   ]
  },
  {
   "cell_type": "code",
   "execution_count": 15,
   "id": "30f6a99f",
   "metadata": {},
   "outputs": [
    {
     "name": "stdout",
     "output_type": "stream",
     "text": [
      "Enter a key to check:7\n",
      "Key is present\n"
     ]
    }
   ],
   "source": [
    "squares = {1:1, 3:9, 5:25 , 7:49, 9:81}\n",
    "\n",
    "a = int(input('Enter a key to check:'))\n",
    "\n",
    "if a in squares:\n",
    "    print('Key is present')\n",
    "    \n",
    "else:\n",
    "    print('Key is not present')"
   ]
  },
  {
   "cell_type": "markdown",
   "id": "bc931e1f",
   "metadata": {},
   "source": [
    "# Write a Python program to iterate over dictionaries using for loops."
   ]
  },
  {
   "cell_type": "code",
   "execution_count": 16,
   "id": "f97e8fa0",
   "metadata": {},
   "outputs": [
    {
     "name": "stdout",
     "output_type": "stream",
     "text": [
      "Name -- Aman\n",
      "Age -- 29\n",
      "Add -- ABC\n"
     ]
    }
   ],
   "source": [
    "d = {'Name': 'Aman', 'Age': 29, 'Add': 'ABC'}\n",
    "\n",
    "for key, value in d.items():\n",
    "  print(key, '--', value)"
   ]
  },
  {
   "cell_type": "code",
   "execution_count": null,
   "id": "721929e2",
   "metadata": {},
   "outputs": [],
   "source": []
  }
 ],
 "metadata": {
  "kernelspec": {
   "display_name": "Python 3 (ipykernel)",
   "language": "python",
   "name": "python3"
  },
  "language_info": {
   "codemirror_mode": {
    "name": "ipython",
    "version": 3
   },
   "file_extension": ".py",
   "mimetype": "text/x-python",
   "name": "python",
   "nbconvert_exporter": "python",
   "pygments_lexer": "ipython3",
   "version": "3.11.3"
  }
 },
 "nbformat": 4,
 "nbformat_minor": 5
}
