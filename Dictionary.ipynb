{
 "cells": [
  {
   "cell_type": "markdown",
   "id": "40c63109",
   "metadata": {},
   "source": [
    "# Write a Python script to sort (ascending and descending) a dictionary by value."
   ]
  },
  {
   "cell_type": "code",
   "execution_count": 8,
   "id": "a50141c1",
   "metadata": {
    "scrolled": true
   },
   "outputs": [
    {
     "name": "stdout",
     "output_type": "stream",
     "text": [
      "{'C': 5, 'A': 50, 'B': 60}\n",
      "{'B': 60, 'A': 50, 'C': 5}\n"
     ]
    }
   ],
   "source": [
    "d = {'A': 50, 'B': 60, 'C': 5}\n",
    "\n",
    "\n",
    "asc = dict(sorted(d.items(), key = lambda x: x[1]))\n",
    "dsc = dict(sorted(d.items(), key = lambda x: x[1], reverse = True))\n",
    "print(asc)\n",
    "print(dsc)"
   ]
  },
  {
   "cell_type": "code",
   "execution_count": 1,
   "id": "a8b9a621",
   "metadata": {},
   "outputs": [
    {
     "ename": "AttributeError",
     "evalue": "'dict' object has no attribute 'index'",
     "output_type": "error",
     "traceback": [
      "\u001b[1;31m---------------------------------------------------------------------------\u001b[0m",
      "\u001b[1;31mAttributeError\u001b[0m                            Traceback (most recent call last)",
      "Cell \u001b[1;32mIn[1], line 3\u001b[0m\n\u001b[0;32m      1\u001b[0m d \u001b[38;5;241m=\u001b[39m {\u001b[38;5;124m'\u001b[39m\u001b[38;5;124mA\u001b[39m\u001b[38;5;124m'\u001b[39m: \u001b[38;5;241m50\u001b[39m, \u001b[38;5;124m'\u001b[39m\u001b[38;5;124mB\u001b[39m\u001b[38;5;124m'\u001b[39m: \u001b[38;5;241m60\u001b[39m, \u001b[38;5;124m'\u001b[39m\u001b[38;5;124mC\u001b[39m\u001b[38;5;124m'\u001b[39m: \u001b[38;5;241m5\u001b[39m}\n\u001b[1;32m----> 3\u001b[0m pos \u001b[38;5;241m=\u001b[39m \u001b[43md\u001b[49m\u001b[38;5;241;43m.\u001b[39;49m\u001b[43mindex\u001b[49m(\u001b[38;5;124m'\u001b[39m\u001b[38;5;124mA\u001b[39m\u001b[38;5;124m'\u001b[39m)\n\u001b[0;32m      4\u001b[0m \u001b[38;5;28mprint\u001b[39m(pos)\n",
      "\u001b[1;31mAttributeError\u001b[0m: 'dict' object has no attribute 'index'"
     ]
    }
   ],
   "source": [
    "d = {'A': 50, 'B': 60, 'C': 5}\n",
    "\n",
    "pos = d.index('A')\n",
    "print(pos)"
   ]
  },
  {
   "cell_type": "markdown",
   "id": "f5fee526",
   "metadata": {},
   "source": [
    "# Write a Python script to add a key to a dictionary."
   ]
  },
  {
   "cell_type": "code",
   "execution_count": null,
   "id": "ffedf8d6",
   "metadata": {},
   "outputs": [],
   "source": [
    "d = {'A': 10, 'B': 20}\n",
    "\n",
    "d.update({'C': 30})\n",
    "\n",
    "print(d)"
   ]
  },
  {
   "cell_type": "markdown",
   "id": "e436da7c",
   "metadata": {},
   "source": [
    "# Write a Python script to concatenate the following dictionaries to create a new one."
   ]
  },
  {
   "cell_type": "code",
   "execution_count": 7,
   "id": "b9afe2f8",
   "metadata": {},
   "outputs": [
    {
     "name": "stdout",
     "output_type": "stream",
     "text": [
      "{1: 10, 2: 20, 3: 30, 4: 40, 5: 50, 6: 60}\n"
     ]
    }
   ],
   "source": [
    "dict1={1:10, 2:20}\n",
    "dict2={3:30, 4:40}\n",
    "dict3={5:50,6:60}\n",
    "\n",
    "dict4 = {**dict1, **dict2, **dict3}\n",
    "\n",
    "print(dict4)"
   ]
  },
  {
   "cell_type": "markdown",
   "id": "967cd6ee",
   "metadata": {},
   "source": [
    "# Write a Python script to check whether a given key already exists in a dictionary."
   ]
  },
  {
   "cell_type": "code",
   "execution_count": null,
   "id": "30f6a99f",
   "metadata": {},
   "outputs": [],
   "source": [
    "squares = {1:1, 3:9, 5:25 , 7:49, 9:81}\n",
    "\n",
    "a = int(input('Enter a key to check:'))\n",
    "\n",
    "if a in squares:\n",
    "    print('Key is present')\n",
    "    \n",
    "else:\n",
    "    print('Key is not present')"
   ]
  },
  {
   "cell_type": "markdown",
   "id": "bc931e1f",
   "metadata": {},
   "source": [
    "# Write a Python program to iterate over dictionaries using for loops."
   ]
  },
  {
   "cell_type": "code",
   "execution_count": 16,
   "id": "f97e8fa0",
   "metadata": {},
   "outputs": [
    {
     "name": "stdout",
     "output_type": "stream",
     "text": [
      "Name -- Aman\n",
      "Age -- 29\n",
      "Add -- ABC\n"
     ]
    }
   ],
   "source": [
    "d = {'Name': 'Aman', 'Age': 29, 'Add': 'ABC'}\n",
    "\n",
    "for key, value in d.items():\n",
    "  print(key, '--', value)"
   ]
  },
  {
   "cell_type": "markdown",
   "id": "9db14037",
   "metadata": {},
   "source": [
    "# Write a Python code snippet that finds and prints the name of the student with the highest score."
   ]
  },
  {
   "cell_type": "code",
   "execution_count": 10,
   "id": "f4258c13",
   "metadata": {},
   "outputs": [
    {
     "name": "stdout",
     "output_type": "stream",
     "text": [
      "{'David': 95}\n"
     ]
    }
   ],
   "source": [
    "scores = {'Alice': 85, 'Bob': 92, 'Charlie': 78, 'David': 95, 'Eve': 88}\n",
    "highest_score = 0\n",
    "highest_name = None\n",
    "for key, value in scores.items():\n",
    "    if value > highest_score:\n",
    "        highest_score = value\n",
    "        highest_name = key\n",
    "        \n",
    "print({highest_name:highest_score})\n",
    "    \n",
    "    "
   ]
  },
  {
   "cell_type": "markdown",
   "id": "3b2d0661",
   "metadata": {},
   "source": [
    "# Write a Python code snippet to find and print the name of the oldest person."
   ]
  },
  {
   "cell_type": "code",
   "execution_count": 2,
   "id": "4c2bec2a",
   "metadata": {},
   "outputs": [
    {
     "name": "stdout",
     "output_type": "stream",
     "text": [
      "David\n"
     ]
    }
   ],
   "source": [
    "d = {\"Alice\": 25, \"Bob\": 32, \"Charlie\": 19, \"David\": 45, \"Eve\": 28}\n",
    "\n",
    "name = None\n",
    "age = 0\n",
    "\n",
    "for key, value in d.items():\n",
    "    if value > age:\n",
    "        name = key\n",
    "        age = value\n",
    "        \n",
    "print(name)\n",
    "        "
   ]
  },
  {
   "cell_type": "markdown",
   "id": "7b736339",
   "metadata": {},
   "source": [
    "# Write a Python code snippet to find and print the titles of all the books written by a specific author."
   ]
  },
  {
   "cell_type": "code",
   "execution_count": 15,
   "id": "985ee349",
   "metadata": {},
   "outputs": [
    {
     "name": "stdout",
     "output_type": "stream",
     "text": [
      "Enter author name: Author1\n",
      "The books written by Author1 are Book1 Book3\n"
     ]
    }
   ],
   "source": [
    "books = [\n",
    "    {'title': 'Book1', 'author': 'Author1'},\n",
    "    {'title': 'Book2', 'author': 'Author2'},\n",
    "    {'title': 'Book3', 'author': 'Author1'},\n",
    "    {'title': 'Book4', 'author': 'Author3'}\n",
    "]\n",
    "\n",
    "author = input(\"Enter author name: \")\n",
    "l = []\n",
    "\n",
    "for i in books:\n",
    "    if i['author'] == author:\n",
    "        l.append(i['title'])\n",
    "\n",
    "print(\"The books written by\", author, \"are\", ' '.join(l))\n",
    "\n",
    "        "
   ]
  },
  {
   "cell_type": "markdown",
   "id": "9552380e",
   "metadata": {},
   "source": [
    "# Write a Python script to generate and print a dictionary that contains a number (between 1 and n) in the form (x, x*x)."
   ]
  },
  {
   "cell_type": "code",
   "execution_count": 5,
   "id": "a900687a",
   "metadata": {},
   "outputs": [
    {
     "name": "stdout",
     "output_type": "stream",
     "text": [
      "Enter a number: 6\n",
      "{1: 1, 2: 4, 3: 9, 4: 16, 5: 25, 6: 36}\n"
     ]
    }
   ],
   "source": [
    "n = int(input(\"Enter a number: \"))\n",
    "d = {}\n",
    "\n",
    "for i in range(1, n + 1):\n",
    "#     print(i)\n",
    "    d[i] = i * i\n",
    "    \n",
    "print(d)"
   ]
  },
  {
   "cell_type": "markdown",
   "id": "4b74ee7c",
   "metadata": {},
   "source": [
    "# Write a Python script to print a dictionary where the keys are numbers between 1 and 15 (both included) and the values are the square of the keys."
   ]
  },
  {
   "cell_type": "code",
   "execution_count": 21,
   "id": "d25abd17",
   "metadata": {},
   "outputs": [
    {
     "name": "stdout",
     "output_type": "stream",
     "text": [
      "{1: 1, 2: 4, 3: 9, 4: 16, 5: 25, 6: 36, 7: 49, 8: 64, 9: 81, 10: 100, 11: 121, 12: 144, 13: 169, 14: 196, 15: 225}\n"
     ]
    }
   ],
   "source": [
    "d = {}\n",
    "for i in range(1, 16):\n",
    "    d[i] = i ** 2\n",
    "    \n",
    "    \n",
    "print(d)"
   ]
  },
  {
   "cell_type": "markdown",
   "id": "84bd1778",
   "metadata": {},
   "source": [
    "# Write a Python script to merge two Python dictionaries."
   ]
  },
  {
   "cell_type": "code",
   "execution_count": 22,
   "id": "c7aeec53",
   "metadata": {},
   "outputs": [
    {
     "name": "stdout",
     "output_type": "stream",
     "text": [
      "---1st Method---\n",
      "{'a': 100, 'b': 200, 'x': 300, 'y': 200}\n",
      "---2nd Method---\n",
      "{'a': 100, 'b': 200, 'x': 300, 'y': 200}\n",
      "---3rd Method---\n",
      "{'a': 100, 'b': 200, 'x': 300, 'y': 200}\n"
     ]
    }
   ],
   "source": [
    "d1 = {'a': 100, 'b': 200}\n",
    "d2 = {'x': 300, 'y': 200}\n",
    "\n",
    "print(\"---1st Method---\")\n",
    "d3 = {** d1, **d2}\n",
    "print(d3)\n",
    "\n",
    "print(\"---2nd Method---\")\n",
    "d = d1.copy()\n",
    "d.update(d2)\n",
    "print(d)\n",
    "\n",
    "print(\"---3rd Method---\")\n",
    "d1.update(d2)\n",
    "print(d1)"
   ]
  },
  {
   "cell_type": "markdown",
   "id": "27bd167d",
   "metadata": {},
   "source": [
    "# Write a Python program to sum all the items in a dictionary."
   ]
  },
  {
   "cell_type": "code",
   "execution_count": 23,
   "id": "ffa28a74",
   "metadata": {},
   "outputs": [
    {
     "name": "stdout",
     "output_type": "stream",
     "text": [
      "293\n"
     ]
    }
   ],
   "source": [
    "d = {'data1':100,'data2':-54,'data3':247}\n",
    "sum = 0\n",
    "\n",
    "for key, value in d.items():\n",
    "    sum = sum + value\n",
    "print(sum)"
   ]
  },
  {
   "cell_type": "markdown",
   "id": "5668da08",
   "metadata": {},
   "source": [
    "# Write a Python program to multiply all the items in a dictionary."
   ]
  },
  {
   "cell_type": "code",
   "execution_count": 27,
   "id": "cfccdd1f",
   "metadata": {},
   "outputs": [
    {
     "name": "stdout",
     "output_type": "stream",
     "text": [
      "-1333800\n"
     ]
    }
   ],
   "source": [
    "d = {'data1':100,'data2':-54,'data3':247}\n",
    "p = 1\n",
    "\n",
    "for i in d:\n",
    "#     print(d[i])\n",
    "    p = p * d[i]\n",
    "    \n",
    "print(p)"
   ]
  },
  {
   "cell_type": "markdown",
   "id": "13f77e89",
   "metadata": {},
   "source": [
    "# Write a Python program to remove a key from a dictionary."
   ]
  },
  {
   "cell_type": "code",
   "execution_count": 29,
   "id": "b58381a2",
   "metadata": {},
   "outputs": [
    {
     "name": "stdout",
     "output_type": "stream",
     "text": [
      "Origin Dictionary:  {'a': 1, 'b': 2, 'c': 3, 'd': 4}\n",
      "After Removing Key:  {'b': 2, 'c': 3, 'd': 4}\n"
     ]
    }
   ],
   "source": [
    "d = {'a':1,'b':2,'c':3,'d':4}\n",
    "print(\"Origin Dictionary: \", d)\n",
    "\n",
    "if 'a' in d:\n",
    "    del d['a']\n",
    "    \n",
    "print(\"After Removing Key: \", d)"
   ]
  },
  {
   "cell_type": "markdown",
   "id": "d635a03f",
   "metadata": {},
   "source": [
    "# Write a Python program to map two lists into a dictionary."
   ]
  },
  {
   "cell_type": "code",
   "execution_count": 30,
   "id": "4ffa301d",
   "metadata": {},
   "outputs": [
    {
     "name": "stdout",
     "output_type": "stream",
     "text": [
      "{'A': 90, 'B': 20, 'C': 50}\n"
     ]
    }
   ],
   "source": [
    "key = ['A', 'B', 'C']\n",
    "value = [90, 20, 50]\n",
    "\n",
    "comb = dict(zip(key, value))\n",
    "print(comb)"
   ]
  },
  {
   "cell_type": "markdown",
   "id": "40c191b9",
   "metadata": {},
   "source": [
    "# Write a Python program to sort a given dictionary by key."
   ]
  },
  {
   "cell_type": "code",
   "execution_count": 6,
   "id": "d847992d",
   "metadata": {},
   "outputs": [
    {
     "name": "stdout",
     "output_type": "stream",
     "text": [
      "black : #000000\n",
      "green : #008000\n",
      "red : #FF0000\n",
      "white : #FFFFFF\n"
     ]
    }
   ],
   "source": [
    "color_dict = {'red':'#FF0000',\n",
    "          'green':'#008000',\n",
    "          'black':'#000000',\n",
    "          'white':'#FFFFFF'}\n",
    "\n",
    "\n",
    "for key in sorted(color_dict):\n",
    "    print(\"%s : %s\" % (key,color_dict[key]))"
   ]
  },
  {
   "cell_type": "markdown",
   "id": "8c795d2e",
   "metadata": {},
   "source": [
    "# Write a Python program to get the maximum and minimum values of a dictionary."
   ]
  },
  {
   "cell_type": "code",
   "execution_count": 16,
   "id": "314e4f06",
   "metadata": {},
   "outputs": [
    {
     "name": "stdout",
     "output_type": "stream",
     "text": [
      "Maximum Value: 5874\n",
      "Minimum Value: 500\n"
     ]
    }
   ],
   "source": [
    "d = {'x':500, 'y':5874, 'z': 560, 'a':500}\n",
    "\n",
    "l = []\n",
    "\n",
    "for key, value in d.items():\n",
    "    l.append(value)\n",
    "\n",
    "mx = l[0]\n",
    "mn = l[0]\n",
    "\n",
    "for key, value in d.items():\n",
    "    if value > mx:\n",
    "        mx = value\n",
    "        \n",
    "    elif value < mn:\n",
    "        mn = value\n",
    "        \n",
    "print(\"Maximum Value:\", mx)\n",
    "print(\"Minimum Value:\",mn)"
   ]
  },
  {
   "cell_type": "markdown",
   "id": "7ca76043",
   "metadata": {},
   "source": [
    "# Write a Python program to remove duplicates from the dictionary."
   ]
  },
  {
   "cell_type": "code",
   "execution_count": 18,
   "id": "b16be7c3",
   "metadata": {},
   "outputs": [
    {
     "name": "stdout",
     "output_type": "stream",
     "text": [
      "{'x': 500, 'y': 5874, 'z': 560}\n"
     ]
    }
   ],
   "source": [
    "d = {'x':500, 'y':5874, 'z': 560, 'a':500}\n",
    "res = {}\n",
    "unique = []\n",
    "\n",
    "for key, value in d.items():\n",
    "    if value not in unique:\n",
    "        unique.append(value)\n",
    "        res[key] = value\n",
    "\n",
    "        \n",
    "print(res)"
   ]
  },
  {
   "cell_type": "markdown",
   "id": "2909fa14",
   "metadata": {},
   "source": [
    "# Write a Python program to check if a dictionary is empty or not."
   ]
  },
  {
   "cell_type": "code",
   "execution_count": 21,
   "id": "072fe425",
   "metadata": {},
   "outputs": [
    {
     "name": "stdout",
     "output_type": "stream",
     "text": [
      "Dictionary is not empty\n"
     ]
    }
   ],
   "source": [
    "d = {'a':1, 'b':2}\n",
    "\n",
    "if not d:\n",
    "    print(\"Dictionary is empty\")\n",
    "    \n",
    "else:\n",
    "    print(\"Dictionary is not empty\")"
   ]
  },
  {
   "cell_type": "markdown",
   "id": "423621e7",
   "metadata": {},
   "source": [
    "# Write a Python program to combine two dictionary by adding values for common keys."
   ]
  },
  {
   "cell_type": "code",
   "execution_count": 26,
   "id": "ab9338f0",
   "metadata": {},
   "outputs": [
    {
     "name": "stdout",
     "output_type": "stream",
     "text": [
      "Counter({'a': 400, 'b': 400, 'd': 400, 'c': 300})\n"
     ]
    }
   ],
   "source": [
    "from collections import Counter\n",
    "d1 = {'a': 100, 'b': 200, 'c':300}\n",
    "d2 = {'a': 300, 'b': 200, 'd':400}\n",
    "\n",
    "d3 = Counter(d1) + Counter(d2)\n",
    "\n",
    "print(d3)"
   ]
  },
  {
   "cell_type": "markdown",
   "id": "b614f676",
   "metadata": {},
   "source": [
    "# Convert two lists into a dictionary"
   ]
  },
  {
   "cell_type": "code",
   "execution_count": 4,
   "id": "2c5cd6b8",
   "metadata": {},
   "outputs": [
    {
     "name": "stdout",
     "output_type": "stream",
     "text": [
      "{'Ten': 10, 'Twenty': 20, 'Thirty': 30}\n"
     ]
    }
   ],
   "source": [
    "keys = ['Ten', 'Twenty', 'Thirty']\n",
    "values = [10, 20, 30]\n",
    "\n",
    "d = dict(zip(keys,values))\n",
    "\n",
    "print(d)"
   ]
  },
  {
   "cell_type": "code",
   "execution_count": 7,
   "id": "880a104a",
   "metadata": {},
   "outputs": [
    {
     "name": "stdout",
     "output_type": "stream",
     "text": [
      "{'Ten': 10, 'Twenty': 20, 'Thirty': 30}\n"
     ]
    }
   ],
   "source": [
    "keys = ['Ten', 'Twenty', 'Thirty']\n",
    "values = [10, 20, 30]\n",
    "\n",
    "d = {}\n",
    "\n",
    "for i in range(len(keys)):\n",
    "    d.update({keys[i]:values[i]})\n",
    "    \n",
    "print(d)"
   ]
  },
  {
   "cell_type": "markdown",
   "id": "d09a875d",
   "metadata": {},
   "source": [
    "# Merge two Python dictionaries into one"
   ]
  },
  {
   "cell_type": "code",
   "execution_count": 8,
   "id": "fc895c83",
   "metadata": {},
   "outputs": [
    {
     "name": "stdout",
     "output_type": "stream",
     "text": [
      "{'Ten': 10, 'Twenty': 20, 'Thirty': 30, 'Fourty': 40, 'Fifty': 50}\n"
     ]
    }
   ],
   "source": [
    "dict1 = {'Ten': 10, 'Twenty': 20, 'Thirty': 30}\n",
    "dict2 = {'Thirty': 30, 'Fourty': 40, 'Fifty': 50}\n",
    "\n",
    "d = {** dict1, **dict2}\n",
    "print(d)"
   ]
  },
  {
   "cell_type": "code",
   "execution_count": 9,
   "id": "6b11b7a7",
   "metadata": {},
   "outputs": [
    {
     "name": "stdout",
     "output_type": "stream",
     "text": [
      "{'Ten': 10, 'Twenty': 20, 'Thirty': 30, 'Fourty': 40, 'Fifty': 50}\n"
     ]
    }
   ],
   "source": [
    "dict1 = {'Ten': 10, 'Twenty': 20, 'Thirty': 30}\n",
    "dict2 = {'Thirty': 30, 'Fourty': 40, 'Fifty': 50}\n",
    "\n",
    "d = dict1.copy()\n",
    "d.update(dict2)\n",
    "\n",
    "print(d)"
   ]
  },
  {
   "cell_type": "markdown",
   "id": "d37405b5",
   "metadata": {},
   "source": [
    "# Print the value of key ‘history’ from the below dict"
   ]
  },
  {
   "cell_type": "code",
   "execution_count": 22,
   "id": "a275b5ba",
   "metadata": {},
   "outputs": [
    {
     "name": "stdout",
     "output_type": "stream",
     "text": [
      "80\n"
     ]
    }
   ],
   "source": [
    "sampleDict = {\n",
    "    \"class\": {\n",
    "        \"student\": {\n",
    "            \"name\": \"Mike\",\n",
    "            \"marks\": {\n",
    "                \"physics\": 70,\n",
    "                \"history\": 80\n",
    "            }\n",
    "        }\n",
    "    }\n",
    "}\n",
    "\n",
    "print(sampleDict['class']['student']['marks']['history'])"
   ]
  },
  {
   "cell_type": "markdown",
   "id": "3053c54d",
   "metadata": {},
   "source": [
    "# Initialize dictionary with default values"
   ]
  },
  {
   "cell_type": "code",
   "execution_count": 28,
   "id": "3b1b8fb7",
   "metadata": {},
   "outputs": [
    {
     "name": "stdout",
     "output_type": "stream",
     "text": [
      "{'Kelly': {'designation': 'Developer', 'salary': 8000}, 'Emma': {'designation': 'Developer', 'salary': 8000}}\n"
     ]
    }
   ],
   "source": [
    "employees = ['Kelly', 'Emma']\n",
    "defaults = {\"designation\": 'Developer', \"salary\": 8000}\n",
    "d = {}\n",
    "for i in employees:\n",
    "    d[i] = defaults\n",
    "    \n",
    "print(d)"
   ]
  },
  {
   "cell_type": "markdown",
   "id": "2a6dd6c6",
   "metadata": {},
   "source": [
    "# Create a dictionary by extracting the keys from a given dictionary"
   ]
  },
  {
   "cell_type": "code",
   "execution_count": 40,
   "id": "4688983c",
   "metadata": {},
   "outputs": [
    {
     "name": "stdout",
     "output_type": "stream",
     "text": [
      "{'name': 'Kelly', 'salary': 8000}\n"
     ]
    }
   ],
   "source": [
    "sample_dict = {\n",
    "    \"name\": \"Kelly\",\n",
    "    \"age\": 25,\n",
    "    \"salary\": 8000,\n",
    "    \"city\": \"New york\"}\n",
    "\n",
    "keys = [\"name\", \"salary\"]\n",
    "\n",
    "d = {}\n",
    "\n",
    "for k in keys:\n",
    "    d.update({k:sample_dict[k]})\n",
    "    \n",
    "print(d)"
   ]
  },
  {
   "cell_type": "code",
   "execution_count": 41,
   "id": "f449098a",
   "metadata": {},
   "outputs": [
    {
     "name": "stdout",
     "output_type": "stream",
     "text": [
      "{'age': 25, 'city': 'New york'}\n"
     ]
    }
   ],
   "source": [
    "sample_dict = {\n",
    "    \"name\": \"Kelly\",\n",
    "    \"age\": 25,\n",
    "    \"salary\": 8000,\n",
    "    \"city\": \"New york\"\n",
    "}\n",
    "\n",
    "# Keys to remove\n",
    "keys = [\"name\", \"salary\"]\n",
    "\n",
    "for i in keys:\n",
    "    sample_dict.pop(i)\n",
    "    \n",
    "print(sample_dict)"
   ]
  },
  {
   "cell_type": "markdown",
   "id": "7323e4df",
   "metadata": {},
   "source": [
    "# Check if a value exists in a dictionary"
   ]
  },
  {
   "cell_type": "code",
   "execution_count": 5,
   "id": "35a1dbf6",
   "metadata": {},
   "outputs": [
    {
     "name": "stdout",
     "output_type": "stream",
     "text": [
      "[100, 200, 300]\n",
      "200 is present\n"
     ]
    }
   ],
   "source": [
    "d = {'a': 100, 'b': 200, 'c': 300}\n",
    "l = []\n",
    "\n",
    "for key, value in d.items():\n",
    "    l.append(value)\n",
    "\n",
    "print(l)\n",
    "\n",
    "if 200 in l:\n",
    "    print(\"200 is present\")\n"
   ]
  },
  {
   "cell_type": "code",
   "execution_count": 9,
   "id": "60934cea",
   "metadata": {},
   "outputs": [
    {
     "name": "stdout",
     "output_type": "stream",
     "text": [
      "200 is present\n"
     ]
    }
   ],
   "source": [
    "d = {'a': 100, 'b': 200, 'c': 300}\n",
    " \n",
    "# for value in d.values():\n",
    "#     print(value)\n",
    "if 200 in d.values():\n",
    "    print(\"200 is present\")\n",
    "\n",
    "else:\n",
    "    print(\"200 is not present\")"
   ]
  },
  {
   "cell_type": "markdown",
   "id": "977c0b5d",
   "metadata": {},
   "source": [
    "# Rename key of a dictionary"
   ]
  },
  {
   "cell_type": "code",
   "execution_count": null,
   "id": "9bbc7e39",
   "metadata": {},
   "outputs": [],
   "source": [
    "sample_dict = {\n",
    "  \"name\": \"Kelly\",\n",
    "  \"age\":25,\n",
    "  \"salary\": 8000,\n",
    "  \"city\": \"New york\"\n",
    "}\n",
    "\n"
   ]
  }
 ],
 "metadata": {
  "kernelspec": {
   "display_name": "Python 3 (ipykernel)",
   "language": "python",
   "name": "python3"
  },
  "language_info": {
   "codemirror_mode": {
    "name": "ipython",
    "version": 3
   },
   "file_extension": ".py",
   "mimetype": "text/x-python",
   "name": "python",
   "nbconvert_exporter": "python",
   "pygments_lexer": "ipython3",
   "version": "3.11.3"
  }
 },
 "nbformat": 4,
 "nbformat_minor": 5
}
