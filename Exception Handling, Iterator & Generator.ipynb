{
 "cells": [
  {
   "cell_type": "markdown",
   "id": "c1a26a72",
   "metadata": {},
   "source": [
    "# Exception Handling"
   ]
  },
  {
   "cell_type": "markdown",
   "id": "791fb04a",
   "metadata": {},
   "source": [
    "### Syntax Error"
   ]
  },
  {
   "cell_type": "code",
   "execution_count": 18,
   "id": "35c49a2c",
   "metadata": {},
   "outputs": [
    {
     "ename": "IndentationError",
     "evalue": "unexpected indent (2277858702.py, line 2)",
     "output_type": "error",
     "traceback": [
      "\u001b[1;36m  Cell \u001b[1;32mIn[18], line 2\u001b[1;36m\u001b[0m\n\u001b[1;33m    print(\"Learn Python with us..\")\u001b[0m\n\u001b[1;37m    ^\u001b[0m\n\u001b[1;31mIndentationError\u001b[0m\u001b[1;31m:\u001b[0m unexpected indent\n"
     ]
    }
   ],
   "source": [
    "print(\"Welcome to PYnative\")\n",
    "    print(\"Learn Python with us..\")"
   ]
  },
  {
   "cell_type": "markdown",
   "id": "2f704135",
   "metadata": {},
   "source": [
    "### Logical Error"
   ]
  },
  {
   "cell_type": "code",
   "execution_count": 19,
   "id": "f10016ee",
   "metadata": {},
   "outputs": [
    {
     "ename": "NameError",
     "evalue": "name 'c' is not defined",
     "output_type": "error",
     "traceback": [
      "\u001b[1;31m---------------------------------------------------------------------------\u001b[0m",
      "\u001b[1;31mNameError\u001b[0m                                 Traceback (most recent call last)",
      "Cell \u001b[1;32mIn[19], line 3\u001b[0m\n\u001b[0;32m      1\u001b[0m a \u001b[38;5;241m=\u001b[39m \u001b[38;5;241m10\u001b[39m\n\u001b[0;32m      2\u001b[0m b \u001b[38;5;241m=\u001b[39m \u001b[38;5;241m20\u001b[39m\n\u001b[1;32m----> 3\u001b[0m \u001b[38;5;28mprint\u001b[39m(\u001b[38;5;124m\"\u001b[39m\u001b[38;5;124mAddition:\u001b[39m\u001b[38;5;124m\"\u001b[39m, a \u001b[38;5;241m+\u001b[39m \u001b[43mc\u001b[49m)\n",
      "\u001b[1;31mNameError\u001b[0m: name 'c' is not defined"
     ]
    }
   ],
   "source": [
    "a = 10\n",
    "b = 20\n",
    "print(\"Addition:\", a + c)"
   ]
  },
  {
   "cell_type": "code",
   "execution_count": 21,
   "id": "b621ab1f",
   "metadata": {},
   "outputs": [
    {
     "name": "stdout",
     "output_type": "stream",
     "text": [
      "a/b = 2\n"
     ]
    }
   ],
   "source": [
    "a = 10\n",
    "b = 5\n",
    "\n",
    "c = a/b\n",
    "\n",
    "print('a/b = %d' %c)"
   ]
  },
  {
   "cell_type": "code",
   "execution_count": 22,
   "id": "f640fa77",
   "metadata": {},
   "outputs": [
    {
     "ename": "ZeroDivisionError",
     "evalue": "division by zero",
     "output_type": "error",
     "traceback": [
      "\u001b[1;31m---------------------------------------------------------------------------\u001b[0m",
      "\u001b[1;31mZeroDivisionError\u001b[0m                         Traceback (most recent call last)",
      "Cell \u001b[1;32mIn[22], line 3\u001b[0m\n\u001b[0;32m      1\u001b[0m a \u001b[38;5;241m=\u001b[39m \u001b[38;5;241m10\u001b[39m\n\u001b[0;32m      2\u001b[0m b \u001b[38;5;241m=\u001b[39m \u001b[38;5;241m0\u001b[39m\n\u001b[1;32m----> 3\u001b[0m c \u001b[38;5;241m=\u001b[39m \u001b[43ma\u001b[49m\u001b[43m \u001b[49m\u001b[38;5;241;43m/\u001b[39;49m\u001b[43m \u001b[49m\u001b[43mb\u001b[49m\n\u001b[0;32m      4\u001b[0m \u001b[38;5;28mprint\u001b[39m(\u001b[38;5;124m\"\u001b[39m\u001b[38;5;124ma/b = \u001b[39m\u001b[38;5;132;01m%d\u001b[39;00m\u001b[38;5;124m\"\u001b[39m \u001b[38;5;241m%\u001b[39m c)\n",
      "\u001b[1;31mZeroDivisionError\u001b[0m: division by zero"
     ]
    }
   ],
   "source": [
    "a = 10\n",
    "b = 0\n",
    "c = a / b\n",
    "print(\"a/b = %d\" % c)"
   ]
  },
  {
   "cell_type": "code",
   "execution_count": null,
   "id": "36b53322",
   "metadata": {},
   "outputs": [],
   "source": [
    "a = int(input('Enter num1:'))\n",
    "b = int(input('Enter num2:'))\n",
    "\n",
    "try:\n",
    "    c = a / b\n",
    "    print('The division of two number is:', c)\n",
    "    \n",
    "except:\n",
    "    print(\"Can't divide by zero, please provide another number\")"
   ]
  },
  {
   "cell_type": "markdown",
   "id": "4eaaca38",
   "metadata": {},
   "source": [
    "# Catching Specific Exceptions"
   ]
  },
  {
   "cell_type": "code",
   "execution_count": 27,
   "id": "5643efd8",
   "metadata": {},
   "outputs": [
    {
     "name": "stdout",
     "output_type": "stream",
     "text": [
      "8\n"
     ]
    }
   ],
   "source": [
    "try:\n",
    "    even_num = [2, 4, 6, 8]\n",
    "    print(even_num[-1])\n",
    "    \n",
    "except ZeroDivisionError:\n",
    "    print('Denominator cannot be zero')\n",
    "    \n",
    "except IndexError:\n",
    "    print('Index is out of range')"
   ]
  },
  {
   "cell_type": "markdown",
   "id": "1b24ddd9",
   "metadata": {},
   "source": [
    "# Handle multiple exceptions with a single except clause"
   ]
  },
  {
   "cell_type": "code",
   "execution_count": 30,
   "id": "a2ef98ba",
   "metadata": {},
   "outputs": [
    {
     "name": "stdout",
     "output_type": "stream",
     "text": [
      "Enter num1: 5\n",
      "Enter num2: 0\n",
      "Please enter a valid value\n"
     ]
    }
   ],
   "source": [
    "try:\n",
    "    num1 = int(input(\"Enter num1: \"))\n",
    "    num2 = int(input(\"Enter num2: \"))\n",
    "    result = num1 / num2\n",
    "    print(result)\n",
    "    \n",
    "except (ZeroDivisionError, ValueError):\n",
    "    print(\"Please enter a valid value\")"
   ]
  },
  {
   "cell_type": "code",
   "execution_count": 31,
   "id": "1f2986e6",
   "metadata": {},
   "outputs": [
    {
     "name": "stdout",
     "output_type": "stream",
     "text": [
      "Enter value of a:3\n",
      "Enter value of b:0\n",
      "Can't divide with zero\n",
      "Inside a finally block\n"
     ]
    }
   ],
   "source": [
    "try:\n",
    "    a = int(input(\"Enter value of a:\"))\n",
    "    b = int(input(\"Enter value of b:\"))\n",
    "    c = a / b\n",
    "    print(\"The answer of a divide by b:\", c)\n",
    "\n",
    "except ZeroDivisionError:\n",
    "    print(\"Can't divide with zero\")\n",
    "finally:\n",
    "    print(\"Inside a finally block\")"
   ]
  },
  {
   "cell_type": "markdown",
   "id": "3284c7b0",
   "metadata": {},
   "source": [
    "# Raising an Exceptions"
   ]
  },
  {
   "cell_type": "code",
   "execution_count": 35,
   "id": "39c8107d",
   "metadata": {},
   "outputs": [
    {
     "name": "stdout",
     "output_type": "stream",
     "text": [
      "Case1\n",
      "The Simple Interset is 448.0\n",
      "448.0\n",
      "Case2\n",
      "Interset is out of range 800\n",
      "None\n"
     ]
    }
   ],
   "source": [
    "def simple_interest(amount, year, rate):\n",
    "    try:\n",
    "        if rate > 100:\n",
    "            raise ValueError(rate)\n",
    "            \n",
    "        interest = (amount * year * rate) / 100\n",
    "        print('The Simple Interset is', interest)\n",
    "        return interest\n",
    "    \n",
    "    except ValueError:\n",
    "        print('Interset is out of range', rate)\n",
    "        \n",
    "        \n",
    "print('Case1')\n",
    "r = simple_interest(800, 7, 8)\n",
    "print(r)\n",
    "\n",
    "print('Case2')\n",
    "r = simple_interest(800, 7, 800)\n",
    "print(r)"
   ]
  },
  {
   "cell_type": "markdown",
   "id": "9aca9bba",
   "metadata": {},
   "source": [
    "# Iterator"
   ]
  },
  {
   "cell_type": "code",
   "execution_count": 3,
   "id": "d8af70c9",
   "metadata": {},
   "outputs": [
    {
     "name": "stdout",
     "output_type": "stream",
     "text": [
      "2\n",
      "3\n",
      "4\n"
     ]
    },
    {
     "ename": "StopIteration",
     "evalue": "",
     "output_type": "error",
     "traceback": [
      "\u001b[1;31m---------------------------------------------------------------------------\u001b[0m",
      "\u001b[1;31mStopIteration\u001b[0m                             Traceback (most recent call last)",
      "Cell \u001b[1;32mIn[3], line 10\u001b[0m\n\u001b[0;32m      8\u001b[0m \u001b[38;5;28mprint\u001b[39m(\u001b[38;5;28mnext\u001b[39m(iterator))\n\u001b[0;32m      9\u001b[0m \u001b[38;5;28mprint\u001b[39m(\u001b[38;5;28mnext\u001b[39m(iterator))\n\u001b[1;32m---> 10\u001b[0m \u001b[38;5;28mprint\u001b[39m(\u001b[38;5;28;43mnext\u001b[39;49m\u001b[43m(\u001b[49m\u001b[43miterator\u001b[49m\u001b[43m)\u001b[49m)\n",
      "\u001b[1;31mStopIteration\u001b[0m: "
     ]
    }
   ],
   "source": [
    "l = [2, 3, 4]\n",
    "\n",
    "#creating an iterator from the list\n",
    "iterator = iter(l)\n",
    "\n",
    "#get the first element of the iterator\n",
    "print(next(iterator))\n",
    "print(next(iterator))\n",
    "print(next(iterator))\n",
    "print(next(iterator)) #raises stopIteration exception"
   ]
  },
  {
   "cell_type": "code",
   "execution_count": 6,
   "id": "dbb1f3fb",
   "metadata": {},
   "outputs": [
    {
     "name": "stdout",
     "output_type": "stream",
     "text": [
      "0\n",
      "1\n",
      "2\n",
      "3\n",
      "4\n"
     ]
    },
    {
     "ename": "StopIteration",
     "evalue": "",
     "output_type": "error",
     "traceback": [
      "\u001b[1;31m---------------------------------------------------------------------------\u001b[0m",
      "\u001b[1;31mStopIteration\u001b[0m                             Traceback (most recent call last)",
      "Cell \u001b[1;32mIn[6], line 10\u001b[0m\n\u001b[0;32m      8\u001b[0m \u001b[38;5;28mprint\u001b[39m(\u001b[38;5;28mnext\u001b[39m(i))\n\u001b[0;32m      9\u001b[0m \u001b[38;5;28mprint\u001b[39m(\u001b[38;5;28mnext\u001b[39m(i))\n\u001b[1;32m---> 10\u001b[0m \u001b[38;5;28mprint\u001b[39m(\u001b[38;5;28;43mnext\u001b[39;49m\u001b[43m(\u001b[49m\u001b[43mi\u001b[49m\u001b[43m)\u001b[49m)\n",
      "\u001b[1;31mStopIteration\u001b[0m: "
     ]
    }
   ],
   "source": [
    "n = range(5)\n",
    "\n",
    "i = iter(n)\n",
    "\n",
    "print(next(i))\n",
    "print(next(i))\n",
    "print(next(i))\n",
    "print(next(i))\n",
    "print(next(i))\n",
    "print(next(i))"
   ]
  },
  {
   "cell_type": "markdown",
   "id": "fed38d61",
   "metadata": {},
   "source": [
    "# Working of for loop for Iterators"
   ]
  },
  {
   "cell_type": "code",
   "execution_count": 8,
   "id": "3781d01f",
   "metadata": {},
   "outputs": [
    {
     "name": "stdout",
     "output_type": "stream",
     "text": [
      "Aman\n",
      "22\n",
      "Sid\n",
      "90.0\n"
     ]
    }
   ],
   "source": [
    "lst = ['Aman', 22, 'Sid', 90.0]\n",
    "\n",
    "iterator = iter(lst)\n",
    "\n",
    "while True:\n",
    "    try:\n",
    "        element = next(iterator)\n",
    "        print(element)\n",
    "        \n",
    "    except StopIteration:\n",
    "        break\n",
    "        "
   ]
  },
  {
   "cell_type": "code",
   "execution_count": 11,
   "id": "1f512f39",
   "metadata": {},
   "outputs": [
    {
     "name": "stdout",
     "output_type": "stream",
     "text": [
      "1\n",
      "2\n",
      "4\n",
      "8\n",
      "16\n"
     ]
    },
    {
     "ename": "StopIteration",
     "evalue": "",
     "output_type": "error",
     "traceback": [
      "\u001b[1;31m---------------------------------------------------------------------------\u001b[0m",
      "\u001b[1;31mStopIteration\u001b[0m                             Traceback (most recent call last)",
      "Cell \u001b[1;32mIn[11], line 29\u001b[0m\n\u001b[0;32m     27\u001b[0m \u001b[38;5;28mprint\u001b[39m(\u001b[38;5;28mnext\u001b[39m(iterator))\n\u001b[0;32m     28\u001b[0m \u001b[38;5;28mprint\u001b[39m(\u001b[38;5;28mnext\u001b[39m(iterator))\n\u001b[1;32m---> 29\u001b[0m \u001b[38;5;28mprint\u001b[39m(\u001b[38;5;28;43mnext\u001b[39;49m\u001b[43m(\u001b[49m\u001b[43miterator\u001b[49m\u001b[43m)\u001b[49m)\n",
      "Cell \u001b[1;32mIn[11], line 17\u001b[0m, in \u001b[0;36mPowTwo.__next__\u001b[1;34m(self)\u001b[0m\n\u001b[0;32m     14\u001b[0m     \u001b[38;5;28;01mreturn\u001b[39;00m res\n\u001b[0;32m     16\u001b[0m \u001b[38;5;28;01melse\u001b[39;00m:\n\u001b[1;32m---> 17\u001b[0m     \u001b[38;5;28;01mraise\u001b[39;00m \u001b[38;5;167;01mStopIteration\u001b[39;00m\n",
      "\u001b[1;31mStopIteration\u001b[0m: "
     ]
    }
   ],
   "source": [
    "class PowTwo:\n",
    "    \n",
    "    def __init__(self, max=0):\n",
    "        self.max = max\n",
    "        \n",
    "    def __iter__(self):\n",
    "        self.n = 0\n",
    "        return self\n",
    "    \n",
    "    def __next__(self):\n",
    "        if self.n <= self.max:\n",
    "            res = 2 ** self.n\n",
    "            self.n += 1\n",
    "            return res\n",
    "        \n",
    "        else:\n",
    "            raise StopIteration\n",
    "            \n",
    "            \n",
    "numbers = PowTwo(4)\n",
    "\n",
    "iterator = iter(numbers)\n",
    "\n",
    "print(next(iterator))\n",
    "print(next(iterator))\n",
    "print(next(iterator))\n",
    "print(next(iterator))\n",
    "print(next(iterator))\n",
    "print(next(iterator))"
   ]
  },
  {
   "cell_type": "code",
   "execution_count": 4,
   "id": "0e9bd524",
   "metadata": {},
   "outputs": [
    {
     "ename": "TypeError",
     "evalue": "'function' object is not iterable",
     "output_type": "error",
     "traceback": [
      "\u001b[1;31m---------------------------------------------------------------------------\u001b[0m",
      "\u001b[1;31mTypeError\u001b[0m                                 Traceback (most recent call last)",
      "Cell \u001b[1;32mIn[4], line 5\u001b[0m\n\u001b[0;32m      2\u001b[0m     \u001b[38;5;28;01mfor\u001b[39;00m i \u001b[38;5;129;01min\u001b[39;00m PowTwo:\n\u001b[0;32m      3\u001b[0m         \u001b[38;5;28mprint\u001b[39m(i)\n\u001b[1;32m----> 5\u001b[0m n \u001b[38;5;241m=\u001b[39m \u001b[43mPowTwo\u001b[49m\u001b[43m(\u001b[49m\u001b[38;5;241;43m3\u001b[39;49m\u001b[43m)\u001b[49m\n\u001b[0;32m      6\u001b[0m i \u001b[38;5;241m=\u001b[39m \u001b[38;5;28miter\u001b[39m(n)\n\u001b[0;32m      7\u001b[0m \u001b[38;5;28mprint\u001b[39m(\u001b[38;5;28mnext\u001b[39m(i))\n",
      "Cell \u001b[1;32mIn[4], line 2\u001b[0m, in \u001b[0;36mPowTwo\u001b[1;34m(a)\u001b[0m\n\u001b[0;32m      1\u001b[0m \u001b[38;5;28;01mdef\u001b[39;00m \u001b[38;5;21mPowTwo\u001b[39m(a):\n\u001b[1;32m----> 2\u001b[0m     \u001b[38;5;28;01mfor\u001b[39;00m i \u001b[38;5;129;01min\u001b[39;00m PowTwo:\n\u001b[0;32m      3\u001b[0m         \u001b[38;5;28mprint\u001b[39m(i)\n",
      "\u001b[1;31mTypeError\u001b[0m: 'function' object is not iterable"
     ]
    }
   ],
   "source": [
    "def PowTwo(a):\n",
    "    for i in PowTwo:\n",
    "        print(i)\n",
    "        \n",
    "n = PowTwo(3)\n",
    "i = iter(n)\n",
    "print(next(i))"
   ]
  },
  {
   "cell_type": "markdown",
   "id": "1ab6b1c7",
   "metadata": {},
   "source": [
    "# Python Infinite Iterators"
   ]
  },
  {
   "cell_type": "code",
   "execution_count": 5,
   "id": "66b31036",
   "metadata": {},
   "outputs": [
    {
     "name": "stdout",
     "output_type": "stream",
     "text": [
      "1\n",
      "2\n",
      "3\n",
      "4\n",
      "5\n"
     ]
    }
   ],
   "source": [
    "from itertools import count\n",
    "\n",
    "# create an infinite iterator that starts at 1 and increments by 1 each time\n",
    "infinite_iterator = count(1)\n",
    "\n",
    "# print the first 5 elements of the infinite iterator\n",
    "for i in range(5):\n",
    "    print(next(infinite_iterator))"
   ]
  },
  {
   "cell_type": "markdown",
   "id": "c091d887",
   "metadata": {},
   "source": [
    "# Generator"
   ]
  },
  {
   "cell_type": "code",
   "execution_count": 8,
   "id": "200c286d",
   "metadata": {},
   "outputs": [
    {
     "name": "stdout",
     "output_type": "stream",
     "text": [
      "0\n",
      "1\n",
      "2\n"
     ]
    }
   ],
   "source": [
    "def my_generator(n):\n",
    "    # initialize counter\n",
    "    value = 0\n",
    "    \n",
    "    # loop until counter is less than n\n",
    "    while value < n:\n",
    "        yield value\n",
    "        \n",
    "        # increment the counter\n",
    "        value += 1\n",
    "# using for loop        \n",
    "values = my_generator(3)\n",
    "\n",
    "# iterate over the generator object produced by my_generator\n",
    "for value in values:\n",
    "    print(value)"
   ]
  },
  {
   "cell_type": "code",
   "execution_count": 17,
   "id": "d35561d7",
   "metadata": {},
   "outputs": [
    {
     "name": "stdout",
     "output_type": "stream",
     "text": [
      "1\n",
      "2\n",
      "4\n"
     ]
    },
    {
     "ename": "StopIteration",
     "evalue": "",
     "output_type": "error",
     "traceback": [
      "\u001b[1;31m---------------------------------------------------------------------------\u001b[0m",
      "\u001b[1;31mStopIteration\u001b[0m                             Traceback (most recent call last)",
      "Cell \u001b[1;32mIn[17], line 13\u001b[0m\n\u001b[0;32m     11\u001b[0m \u001b[38;5;28mprint\u001b[39m(\u001b[38;5;28mnext\u001b[39m(num))\n\u001b[0;32m     12\u001b[0m \u001b[38;5;28mprint\u001b[39m(\u001b[38;5;28mnext\u001b[39m(num))\n\u001b[1;32m---> 13\u001b[0m \u001b[38;5;28mprint\u001b[39m(\u001b[38;5;28;43mnext\u001b[39;49m\u001b[43m(\u001b[49m\u001b[43mnum\u001b[49m\u001b[43m)\u001b[49m)\n",
      "\u001b[1;31mStopIteration\u001b[0m: "
     ]
    }
   ],
   "source": [
    "def PowTwoGen(max = 0):\n",
    "    n = 0 \n",
    "    \n",
    "    while n < max:\n",
    "        yield 2 ** n\n",
    "        n += 1\n",
    "        \n",
    "num = PowTwoGen(3)\n",
    "\n",
    "print(next(num))\n",
    "print(next(num))\n",
    "print(next(num))\n",
    "print(next(num))"
   ]
  },
  {
   "cell_type": "code",
   "execution_count": null,
   "id": "defa8da9",
   "metadata": {},
   "outputs": [],
   "source": []
  }
 ],
 "metadata": {
  "kernelspec": {
   "display_name": "Python 3 (ipykernel)",
   "language": "python",
   "name": "python3"
  },
  "language_info": {
   "codemirror_mode": {
    "name": "ipython",
    "version": 3
   },
   "file_extension": ".py",
   "mimetype": "text/x-python",
   "name": "python",
   "nbconvert_exporter": "python",
   "pygments_lexer": "ipython3",
   "version": "3.11.3"
  }
 },
 "nbformat": 4,
 "nbformat_minor": 5
}
