{
 "cells": [
  {
   "cell_type": "markdown",
   "id": "e9d7c8ae",
   "metadata": {},
   "source": [
    "# Python program to interchange first and last elements in a list"
   ]
  },
  {
   "cell_type": "code",
   "execution_count": 4,
   "id": "51eeb17a",
   "metadata": {},
   "outputs": [
    {
     "name": "stdout",
     "output_type": "stream",
     "text": [
      "[6, 2, 3, 4, 5, 1]\n"
     ]
    }
   ],
   "source": [
    "l = [1, 2, 3, 4, 5, 6]\n",
    "\n",
    "if len(l) > 2:\n",
    "    temp = l[0]\n",
    "    l[0] = l[-1]\n",
    "    l[-1] = temp\n",
    "    \n",
    "    \n",
    "print(l)"
   ]
  },
  {
   "cell_type": "code",
   "execution_count": 6,
   "id": "bf9671ba",
   "metadata": {},
   "outputs": [
    {
     "name": "stdout",
     "output_type": "stream",
     "text": [
      "[6, 2, 3, 4, 5, 1]\n"
     ]
    }
   ],
   "source": [
    "l = [1, 2, 3, 4, 5, 6]\n",
    "\n",
    "first = l.pop(0)\n",
    "last = l.pop(-1)\n",
    "\n",
    "l.insert(0, last)\n",
    "l.append(first)\n",
    "\n",
    "print(l)"
   ]
  },
  {
   "cell_type": "code",
   "execution_count": 7,
   "id": "336deb76",
   "metadata": {},
   "outputs": [
    {
     "name": "stdout",
     "output_type": "stream",
     "text": [
      "[6, 2, 3, 4, 5, 1]\n"
     ]
    }
   ],
   "source": [
    "l = [1, 2, 3, 4, 5, 6]\n",
    "\n",
    "if len(l) > 2:\n",
    "    l = l[-1:] + l[1:-1] +l[:1]\n",
    "    \n",
    "    \n",
    "print(l)"
   ]
  },
  {
   "cell_type": "markdown",
   "id": "4009650d",
   "metadata": {},
   "source": [
    "# Python program to swap two elements in a list"
   ]
  },
  {
   "cell_type": "code",
   "execution_count": 17,
   "id": "b021edae",
   "metadata": {},
   "outputs": [
    {
     "name": "stdout",
     "output_type": "stream",
     "text": [
      "[3, 2, 1, 4]\n"
     ]
    }
   ],
   "source": [
    "l = [1, 2, 3, 4]\n",
    "\n",
    "if len(l) > 2:\n",
    "    temp = l[0]\n",
    "    l[0] = l[2]\n",
    "    l[2] = temp\n",
    "    \n",
    "    \n",
    "print(l)"
   ]
  },
  {
   "cell_type": "code",
   "execution_count": 26,
   "id": "bc8128fe",
   "metadata": {},
   "outputs": [
    {
     "name": "stdout",
     "output_type": "stream",
     "text": [
      "Enter position1 to swap:1\n",
      "Enter position2 to swap:5\n",
      "[5, 2, 3, 4, 1, 6]\n"
     ]
    }
   ],
   "source": [
    "def swap(lst, pos1, pos2):\n",
    "    temp = lst[pos1]\n",
    "    lst[pos1] = lst[pos2]\n",
    "    lst[pos2] = temp\n",
    "    \n",
    "    return lst\n",
    "    \n",
    "l = [1, 2, 3, 4, 5, 6]\n",
    "pos1 = int(input(\"Enter position1 to swap:\"))\n",
    "pos2 = int(input(\"Enter position2 to swap:\"))\n",
    "\n",
    "res = swap(l, pos1-1, pos2-1)\n",
    "print(res)"
   ]
  },
  {
   "cell_type": "code",
   "execution_count": 28,
   "id": "a5567456",
   "metadata": {},
   "outputs": [
    {
     "name": "stdout",
     "output_type": "stream",
     "text": [
      "Enter position1 to swap:1\n",
      "Enter position2 to swap:2\n",
      "[2, 1, 3, 4, 5, 6]\n"
     ]
    }
   ],
   "source": [
    "def swap(list, pos1, pos2):\n",
    "    list[pos1], list[pos2] = list[pos2], list[pos1]\n",
    "    \n",
    "    return list\n",
    "    \n",
    "l = [1, 2, 3, 4, 5, 6]\n",
    "pos1 = int(input(\"Enter position1 to swap:\"))\n",
    "pos2 = int(input(\"Enter position2 to swap:\"))\n",
    "\n",
    "res = swap(l, pos1-1, pos2-1)\n",
    "print(res)"
   ]
  },
  {
   "cell_type": "markdown",
   "id": "33008cb9",
   "metadata": {},
   "source": [
    "# Python | Reversing a List"
   ]
  },
  {
   "cell_type": "code",
   "execution_count": 3,
   "id": "6c0e3d33",
   "metadata": {},
   "outputs": [
    {
     "name": "stdout",
     "output_type": "stream",
     "text": [
      "[5, 4, 3, 2, 1]\n"
     ]
    }
   ],
   "source": [
    "l = [1, 2, 3, 4, 5]\n",
    "\n",
    "l.reverse()\n",
    "print(l)"
   ]
  },
  {
   "cell_type": "code",
   "execution_count": 6,
   "id": "e16c4e6d",
   "metadata": {},
   "outputs": [
    {
     "name": "stdout",
     "output_type": "stream",
     "text": [
      "[5, 4, 3, 2, 1]\n"
     ]
    }
   ],
   "source": [
    "l = [1, 2, 3, 4, 5]\n",
    "rev = []\n",
    "\n",
    "for i in range(len(l)-1, -1, -1):\n",
    "    rev.append(l[i])\n",
    "    \n",
    "print(rev)"
   ]
  },
  {
   "cell_type": "markdown",
   "id": "7f513efb",
   "metadata": {},
   "source": [
    "# Python program to find sum of elements in list"
   ]
  },
  {
   "cell_type": "code",
   "execution_count": 7,
   "id": "393ae3a5",
   "metadata": {},
   "outputs": [
    {
     "name": "stdout",
     "output_type": "stream",
     "text": [
      "150\n"
     ]
    }
   ],
   "source": [
    "l = [10, 20, 30, 40, 50]\n",
    "sum = 0\n",
    "\n",
    "for i in l:\n",
    "    sum = sum + i\n",
    "    \n",
    "print(sum)"
   ]
  },
  {
   "cell_type": "markdown",
   "id": "ecd08ea1",
   "metadata": {},
   "source": [
    "# Python | Multiply all numbers in the list"
   ]
  },
  {
   "cell_type": "code",
   "execution_count": 10,
   "id": "c57ac9d6",
   "metadata": {},
   "outputs": [
    {
     "name": "stdout",
     "output_type": "stream",
     "text": [
      "384\n"
     ]
    }
   ],
   "source": [
    "l = [2, 4, 6, 8]\n",
    "mul = 1\n",
    "\n",
    "for i in l:\n",
    "    mul = mul * i\n",
    "    \n",
    "print(mul)"
   ]
  },
  {
   "cell_type": "markdown",
   "id": "847cc56c",
   "metadata": {},
   "source": [
    "# Python program to find smallest number in a list"
   ]
  },
  {
   "cell_type": "code",
   "execution_count": 12,
   "id": "62fcd926",
   "metadata": {},
   "outputs": [
    {
     "name": "stdout",
     "output_type": "stream",
     "text": [
      "3\n"
     ]
    }
   ],
   "source": [
    "l = [10, 12, 3, 94, 35]\n",
    "\n",
    "min = l[0]\n",
    "\n",
    "for i in l:\n",
    "    if i < min:\n",
    "        min = i\n",
    "        \n",
    "print(min)"
   ]
  },
  {
   "cell_type": "markdown",
   "id": "ea8c3cfa",
   "metadata": {},
   "source": [
    "# Python program to find largest number in a list"
   ]
  },
  {
   "cell_type": "code",
   "execution_count": 1,
   "id": "5d9dacb7",
   "metadata": {},
   "outputs": [
    {
     "name": "stdout",
     "output_type": "stream",
     "text": [
      "94\n"
     ]
    }
   ],
   "source": [
    "l = [10, 12, 3, 94, 35]\n",
    "mx = l[0]\n",
    "\n",
    "for i in l:\n",
    "    if i > mx:\n",
    "        mx = i\n",
    "        \n",
    "print(mx)"
   ]
  },
  {
   "cell_type": "code",
   "execution_count": 5,
   "id": "09bae90c",
   "metadata": {},
   "outputs": [
    {
     "name": "stdout",
     "output_type": "stream",
     "text": [
      "94\n"
     ]
    }
   ],
   "source": [
    "l = [10, 12, 3, 94, 35]\n",
    "\n",
    "l.sort()\n",
    "\n",
    "print(l[-1])"
   ]
  },
  {
   "cell_type": "code",
   "execution_count": 6,
   "id": "b4111f50",
   "metadata": {},
   "outputs": [
    {
     "name": "stdout",
     "output_type": "stream",
     "text": [
      "94\n"
     ]
    }
   ],
   "source": [
    "l = [10, 12, 3, 94, 35]\n",
    "\n",
    "print(max(l))"
   ]
  },
  {
   "cell_type": "code",
   "execution_count": 8,
   "id": "ce68ee79",
   "metadata": {},
   "outputs": [
    {
     "name": "stdout",
     "output_type": "stream",
     "text": [
      "94\n"
     ]
    }
   ],
   "source": [
    "from functools import reduce\n",
    "\n",
    "l = [10, 12, 3, 94, 35]\n",
    "mx = reduce(max, l)\n",
    "print(mx)"
   ]
  },
  {
   "cell_type": "markdown",
   "id": "880c39c0",
   "metadata": {},
   "source": [
    "# Python program to find second largest number in a list"
   ]
  },
  {
   "cell_type": "code",
   "execution_count": 9,
   "id": "fcfa734b",
   "metadata": {},
   "outputs": [
    {
     "name": "stdout",
     "output_type": "stream",
     "text": [
      "35\n"
     ]
    }
   ],
   "source": [
    "l = [10, 12, 3, 94, 35]\n",
    "mx = l[0]\n",
    "mx1 = l[1]\n",
    "\n",
    "\n",
    "for i in l:\n",
    "    if i > mx:\n",
    "        mx1 = mx\n",
    "        mx = i\n",
    "        \n",
    "    elif i > mx1 and mx1 != mx:\n",
    "        mx1 = i\n",
    "        \n",
    "        \n",
    "print(mx1)"
   ]
  },
  {
   "cell_type": "code",
   "execution_count": null,
   "id": "ae0ccab9",
   "metadata": {},
   "outputs": [],
   "source": []
  }
 ],
 "metadata": {
  "kernelspec": {
   "display_name": "Python 3 (ipykernel)",
   "language": "python",
   "name": "python3"
  },
  "language_info": {
   "codemirror_mode": {
    "name": "ipython",
    "version": 3
   },
   "file_extension": ".py",
   "mimetype": "text/x-python",
   "name": "python",
   "nbconvert_exporter": "python",
   "pygments_lexer": "ipython3",
   "version": "3.11.3"
  }
 },
 "nbformat": 4,
 "nbformat_minor": 5
}
