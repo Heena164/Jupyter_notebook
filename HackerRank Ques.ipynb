{
 "cells": [
  {
   "cell_type": "markdown",
   "id": "bb8f242f",
   "metadata": {},
   "source": [
    "##  Print Weird if the number is weird. Otherwise, print Not Weird."
   ]
  },
  {
   "cell_type": "code",
   "execution_count": 1,
   "id": "d60cd111",
   "metadata": {},
   "outputs": [
    {
     "name": "stdout",
     "output_type": "stream",
     "text": [
      "Enter Number: 4\n",
      "Not Weird\n"
     ]
    }
   ],
   "source": [
    "n = int(input('Enter Number: '))\n",
    "if n%2 != 0:\n",
    "    print(\"Weird\")\n",
    "elif n%2 == 0 and n>2 and n<=5:\n",
    "    print(\"Not Weird\")\n",
    "elif n%2 ==0 and n > 6 and n <=20:\n",
    "    print(\"Weird\")\n",
    "else:\n",
    "    print(\"Not Weird\")\n"
   ]
  },
  {
   "cell_type": "code",
   "execution_count": 2,
   "id": "56c3813d",
   "metadata": {},
   "outputs": [
    {
     "name": "stdout",
     "output_type": "stream",
     "text": [
      "Enter num1: 3\n",
      "Enter num2: 4\n",
      "Sum:  7\n",
      "Difference:  -1\n",
      "Product:  12\n"
     ]
    }
   ],
   "source": [
    "a = int(input(\"Enter num1: \"))\n",
    "b = int(input(\"Enter num2: \"))\n",
    "c = a + b\n",
    "print(\"Sum: \", c)\n",
    "d = a - b\n",
    "print(\"Difference: \",d)\n",
    "e = a * b\n",
    "print(\"Product: \", e)"
   ]
  },
  {
   "cell_type": "code",
   "execution_count": 12,
   "id": "d4f3035f",
   "metadata": {},
   "outputs": [
    {
     "name": "stdout",
     "output_type": "stream",
     "text": [
      "Enter your number:5\n",
      "0\n",
      "1\n",
      "4\n",
      "9\n",
      "16\n"
     ]
    }
   ],
   "source": [
    "n = int(input(\"Enter your number:\"))\n",
    "for i in range(0, n):\n",
    "        print( i ** 2)\n",
    "         "
   ]
  },
  {
   "cell_type": "markdown",
   "id": "ef5cf462",
   "metadata": {},
   "source": [
    "### Leap year Using is else"
   ]
  },
  {
   "cell_type": "code",
   "execution_count": 3,
   "id": "87b4ab4f",
   "metadata": {},
   "outputs": [
    {
     "name": "stdout",
     "output_type": "stream",
     "text": [
      "Enter Your Input: 122\n",
      "False\n"
     ]
    }
   ],
   "source": [
    "def is_leap(year):\n",
    "    leap = False\n",
    "    \n",
    "    if (year % 400 == 0) and (year % 100 == 0):\n",
    "        leap = True\n",
    "        \n",
    "    elif (year % 4 == 0) and (year % 100 != 0):\n",
    "        leap = True\n",
    "        \n",
    "    else: \n",
    "        pass\n",
    "    return leap\n",
    "\n",
    "\n",
    "year = int(input(\"Enter Your Input: \"))\n",
    "print(is_leap(year))"
   ]
  },
  {
   "cell_type": "markdown",
   "id": "3f957a73",
   "metadata": {},
   "source": [
    "### Leap year Using import"
   ]
  },
  {
   "cell_type": "code",
   "execution_count": 5,
   "id": "58c42f5d",
   "metadata": {},
   "outputs": [
    {
     "name": "stdout",
     "output_type": "stream",
     "text": [
      "Enter your input: 1200\n",
      "True\n"
     ]
    }
   ],
   "source": [
    "import calendar\n",
    "\n",
    "\n",
    "def is_leap(year):\n",
    "    leap = False\n",
    "    \n",
    "    if calendar.isleap(year):\n",
    "        leap = True\n",
    "        \n",
    "    return leap\n",
    "\n",
    "\n",
    "year = int(input(\"Enter your input: \"))\n",
    "\n",
    "print(is_leap(year))"
   ]
  },
  {
   "cell_type": "markdown",
   "id": "ca7ad74b",
   "metadata": {},
   "source": [
    "# Print the list of integers from 1 through n as a string, without spaces."
   ]
  },
  {
   "cell_type": "code",
   "execution_count": 6,
   "id": "6702219d",
   "metadata": {},
   "outputs": [
    {
     "name": "stdout",
     "output_type": "stream",
     "text": [
      "Enter a number:5\n",
      "12345"
     ]
    }
   ],
   "source": [
    "n = int(input(\"Enter a number:\"))\n",
    "\n",
    "for i in range(1, n+1):\n",
    "    print(i, end='')"
   ]
  },
  {
   "cell_type": "markdown",
   "id": "ef03da31",
   "metadata": {},
   "source": [
    "# Print the concatenated array of size (N + M) X P."
   ]
  },
  {
   "cell_type": "code",
   "execution_count": null,
   "id": "1a468b83",
   "metadata": {},
   "outputs": [],
   "source": [
    "n, m, p = map(int, input().split())\n",
    "nps = [list(map(int, input().split())) for _ in range(n)]\n",
    "mps = [list(map(int, input().split())) for _ in range(m)]\n",
    "\n",
    "concatenated = nps  + mps \n",
    "for row in concatenated:\n",
    "    print(\" \".join(map(str, row)))"
   ]
  },
  {
   "cell_type": "code",
   "execution_count": 1,
   "id": "cd6c67ce",
   "metadata": {},
   "outputs": [
    {
     "name": "stdout",
     "output_type": "stream",
     "text": [
      "1\n",
      "1\n",
      "1\n",
      "2\n",
      "[[0, 0, 0], [0, 0, 1], [0, 1, 0], [1, 0, 0], [1, 1, 1]]\n"
     ]
    }
   ],
   "source": [
    "x = int(input())\n",
    "y = int(input())\n",
    "z = int(input())\n",
    "n = int(input())\n",
    "l = []\n",
    "for i in range(x+1):\n",
    "    for j in range(y+1):\n",
    "        for k in range(z+1):\n",
    "            if i+j+k == n:\n",
    "                continue\n",
    "            l.append([i, j, k])\n",
    "            \n",
    "print(l)"
   ]
  },
  {
   "cell_type": "markdown",
   "id": "2a8d8e01",
   "metadata": {},
   "source": [
    "# Swapcase"
   ]
  },
  {
   "cell_type": "code",
   "execution_count": 10,
   "id": "a3574e75",
   "metadata": {},
   "outputs": [
    {
     "name": "stdout",
     "output_type": "stream",
     "text": [
      "hACKERrANK.COM PRESENTS 'pYTHONIST 2'\n"
     ]
    }
   ],
   "source": [
    "s = \"HackerRank.com presents 'Pythonist 2'\"\n",
    "swap = s.swapcase()\n",
    "print(swap)"
   ]
  },
  {
   "cell_type": "code",
   "execution_count": 12,
   "id": "73d80008",
   "metadata": {},
   "outputs": [
    {
     "name": "stdout",
     "output_type": "stream",
     "text": [
      "hACKERrANK.COM PRESENTS 'pYTHONIST 2'\n"
     ]
    }
   ],
   "source": [
    "s = \"HackerRank.com presents 'Pythonist 2'\"\n",
    "swap = \"\"\n",
    "\n",
    "for char in s:\n",
    "    if char.isupper():\n",
    "        swap += char.lower()\n",
    "    else:\n",
    "        swap += char.upper()\n",
    "print(swap)"
   ]
  },
  {
   "cell_type": "code",
   "execution_count": 16,
   "id": "acb2f8ed",
   "metadata": {},
   "outputs": [
    {
     "name": "stdout",
     "output_type": "stream",
     "text": [
      "['this', 'is', 'a', 'string', '']\n",
      "this-is-a-string-\n"
     ]
    }
   ],
   "source": [
    "s = \"this is a string\"\n",
    "\n",
    "s = s.split(\" \")\n",
    "\n",
    "\n",
    "s = \"-\".join(s)\n"
   ]
  },
  {
   "cell_type": "code",
   "execution_count": 18,
   "id": "a9cebb67",
   "metadata": {},
   "outputs": [
    {
     "name": "stdout",
     "output_type": "stream",
     "text": [
      "Hi my name is heena\n",
      "Hi-my-name-is-heena\n"
     ]
    }
   ],
   "source": [
    "def split_join(line):\n",
    "    line = line.split(\" \")\n",
    "    line = \"-\".join(line)\n",
    "    return line\n",
    "\n",
    "s = input()\n",
    "res = split_join(s)\n",
    "print(res)"
   ]
  },
  {
   "cell_type": "markdown",
   "id": "64f5eff0",
   "metadata": {},
   "source": [
    "# Print full name"
   ]
  },
  {
   "cell_type": "code",
   "execution_count": 1,
   "id": "55ff6a4f",
   "metadata": {},
   "outputs": [
    {
     "name": "stdout",
     "output_type": "stream",
     "text": [
      "Enter your first name:Salman\n",
      "Enter your last name:Khan\n",
      "Hello Salman Khan! You just delved into python.\n"
     ]
    }
   ],
   "source": [
    "f_name = input(\"Enter your first name:\")\n",
    "l_name = input(\"Enter your last name:\")\n",
    "\n",
    "print(f\"Hello {f_name} {l_name}! You just delved into python.\")"
   ]
  },
  {
   "cell_type": "code",
   "execution_count": 2,
   "id": "e72c70b7",
   "metadata": {},
   "outputs": [
    {
     "name": "stdout",
     "output_type": "stream",
     "text": [
      "Salman\n",
      "Khan\n",
      "Hello Salman Khan! You just delved into python.\n"
     ]
    }
   ],
   "source": [
    "def print_full_name(first, last):\n",
    "    print(f\"Hello {first} {last}! You just delved into python.\")\n",
    "    \n",
    "\n",
    "if __name__ == '__main__':\n",
    "    first_name = input()\n",
    "    last_name = input()\n",
    "    print_full_name(first_name, last_name)"
   ]
  },
  {
   "cell_type": "code",
   "execution_count": 3,
   "id": "e9323c8c",
   "metadata": {},
   "outputs": [
    {
     "name": "stdout",
     "output_type": "stream",
     "text": [
      "abrackdabra\n"
     ]
    }
   ],
   "source": [
    "s = \"abracadabra\"\n",
    "\n",
    "s1 = s[:5] + 'k' + s[6:]\n",
    "print(s1)"
   ]
  },
  {
   "cell_type": "code",
   "execution_count": 5,
   "id": "9408f58c",
   "metadata": {},
   "outputs": [
    {
     "name": "stdout",
     "output_type": "stream",
     "text": [
      "abracadacra\n",
      "5 k\n",
      "abrackdacra\n"
     ]
    }
   ],
   "source": [
    "def mutate_string(string, position, character):\n",
    "    return string[:position] + character + string[(position + 1):]\n",
    "\n",
    "if __name__ == '__main__':\n",
    "    s = input()\n",
    "    i, c = input().split()\n",
    "    s_new = mutate_string(s, int(i), c)\n",
    "    print(s_new)"
   ]
  },
  {
   "cell_type": "code",
   "execution_count": 7,
   "id": "0732b9e2",
   "metadata": {},
   "outputs": [
    {
     "name": "stdout",
     "output_type": "stream",
     "text": [
      "2\n"
     ]
    }
   ],
   "source": [
    "s = \"ABCDCCDC\"\n",
    "s1 = \"CDC\"\n",
    "\n",
    "res = s.count(s1)\n",
    "print(res)"
   ]
  },
  {
   "cell_type": "code",
   "execution_count": 8,
   "id": "fbbde84c",
   "metadata": {},
   "outputs": [
    {
     "name": "stdout",
     "output_type": "stream",
     "text": [
      "ABCDCDC\n",
      "CDC\n",
      "1\n"
     ]
    }
   ],
   "source": [
    "string = input().strip()\n",
    "sub_string = input().strip()\n",
    "\n",
    "count = string.count(sub_string)\n",
    "print(count)"
   ]
  },
  {
   "cell_type": "code",
   "execution_count": 14,
   "id": "42d501c3",
   "metadata": {},
   "outputs": [
    {
     "name": "stdout",
     "output_type": "stream",
     "text": [
      "ABCDCDC\n",
      "CDC\n",
      "2\n"
     ]
    }
   ],
   "source": [
    "def count_substring(string, sub_string):\n",
    "    count = 0\n",
    "    n = len(sub_string)\n",
    "    for i in range(len(string)):\n",
    "        if string[i:n] == sub_string:\n",
    "            count += 1\n",
    "        n += 1\n",
    "    return count\n",
    "\n",
    "if __name__ == '__main__':\n",
    "    string = input().strip()\n",
    "    sub_string = input().strip()\n",
    "    \n",
    "    count = count_substring(string, sub_string)\n",
    "    print(count)"
   ]
  },
  {
   "cell_type": "markdown",
   "id": "74362123",
   "metadata": {},
   "source": [
    "# Your task is to find out if the string  contains: alphanumeric characters, alphabetical characters, digits, lowercase and uppercase characters."
   ]
  },
  {
   "cell_type": "code",
   "execution_count": 4,
   "id": "81e6627d",
   "metadata": {},
   "outputs": [
    {
     "name": "stdout",
     "output_type": "stream",
     "text": [
      "True\n",
      "True\n",
      "True\n",
      "True\n",
      "True\n"
     ]
    }
   ],
   "source": [
    "s = \"qA2\"\n",
    "\n",
    "print (any(i.isalnum() for i in s))\n",
    "print (any(i.isalpha() for i in s))\n",
    "print (any(i.isdigit() for i in s))\n",
    "print (any(i.islower() for i in s))\n",
    "print (any(i.isupper() for i in s))"
   ]
  },
  {
   "cell_type": "code",
   "execution_count": 7,
   "id": "606bcf61",
   "metadata": {},
   "outputs": [
    {
     "name": "stdout",
     "output_type": "stream",
     "text": [
      "4\n",
      "ABCD\n",
      "EFGH\n",
      "IJKL\n",
      "MNOP\n",
      "QRST\n",
      "UVWX\n",
      "YZ\n"
     ]
    }
   ],
   "source": [
    "import textwrap\n",
    "s = \"ABCDEFGHIJKLMNOPQRSTUVWXYZ\"\n",
    "w = int(input())\n",
    "\n",
    "\n",
    "wrapper = textwrap.TextWrapper(w)\n",
    "  \n",
    "# word_list = wrapper.wrap(text=s)\n",
    "word_list = wrapper.fill(text=s)\n",
    "\n",
    "print(word_list)\n",
    "\n",
    "# for i in word_list:\n",
    "#     print(i)\n",
    "\n",
    "\n"
   ]
  },
  {
   "cell_type": "code",
   "execution_count": 7,
   "id": "f17915c4",
   "metadata": {},
   "outputs": [
    {
     "name": "stdout",
     "output_type": "stream",
     "text": [
      "This function returns the\n",
      "answer as STRING and not LIST.\n"
     ]
    }
   ],
   "source": [
    "import textwrap\n",
    "  \n",
    "value = \"\"\"This function returns the answer as STRING and not LIST.\"\"\"\n",
    "  \n",
    "# Wrap this text.\n",
    "wrapper = textwrap.TextWrapper(width=30)\n",
    "  \n",
    "string = wrapper.fill(text=value)\n",
    "  \n",
    "print (string)"
   ]
  },
  {
   "cell_type": "code",
   "execution_count": 2,
   "id": "19dd3aec",
   "metadata": {},
   "outputs": [
    {
     "name": "stdout",
     "output_type": "stream",
     "text": [
      "ABCD\n",
      "EFGH\n",
      "IJKL\n",
      "MNOP\n",
      "QRST\n",
      "UVWX\n",
      "YZ\n"
     ]
    }
   ],
   "source": [
    "s1=\"ABCDEFGHIJKLMNOPQRSTUVWXYZ\"\n",
    "a=4\n",
    "for i in range(0,len(s1),a):\n",
    "    b=s1[i:i+a]\n",
    "    if len(b)==a:\n",
    "        print(b)\n",
    "    else:\n",
    "        print(b)"
   ]
  },
  {
   "cell_type": "code",
   "execution_count": 8,
   "id": "af992442",
   "metadata": {},
   "outputs": [
    {
     "name": "stdout",
     "output_type": "stream",
     "text": [
      "Enter a number: 17\n",
      " 1  1  1  1\n",
      " 2  2  2 10\n",
      " 3  3  3 11\n",
      " 4  4  4 100\n",
      " 5  5  5 101\n",
      " 6  6  6 110\n",
      " 7  7  7 111\n",
      " 8 10  8 1000\n",
      " 9 11  9 1001\n",
      "10 12  A 1010\n",
      "11 13  B 1011\n",
      "12 14  C 1100\n",
      "13 15  D 1101\n",
      "14 16  E 1110\n",
      "15 17  F 1111\n",
      "16 20 10 10000\n",
      "17 21 11 10001\n"
     ]
    }
   ],
   "source": [
    "def print_formatted(number):\n",
    "    width = len(str(number))\n",
    "\n",
    "    for i in range(1, number + 1):\n",
    "        decimal = str(i)\n",
    "        octal = oct(i)[2:]\n",
    "        hexadecimal = hex(i)[2:].upper()\n",
    "        binary = bin(i)[2:]\n",
    "\n",
    "        print(f\"{decimal.rjust(width)} {octal.rjust(width)} {hexadecimal.rjust(width)} {binary.rjust(width)}\")\n",
    "\n",
    "if __name__ == '__main__':\n",
    "    n = int(input(\"Enter a number: \"))\n",
    "    print_formatted(n)\n"
   ]
  },
  {
   "cell_type": "code",
   "execution_count": null,
   "id": "73d5123d",
   "metadata": {},
   "outputs": [],
   "source": []
  }
 ],
 "metadata": {
  "kernelspec": {
   "display_name": "Python 3 (ipykernel)",
   "language": "python",
   "name": "python3"
  },
  "language_info": {
   "codemirror_mode": {
    "name": "ipython",
    "version": 3
   },
   "file_extension": ".py",
   "mimetype": "text/x-python",
   "name": "python",
   "nbconvert_exporter": "python",
   "pygments_lexer": "ipython3",
   "version": "3.11.3"
  }
 },
 "nbformat": 4,
 "nbformat_minor": 5
}
