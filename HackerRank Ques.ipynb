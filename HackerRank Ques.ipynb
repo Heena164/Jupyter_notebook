{
 "cells": [
  {
   "cell_type": "markdown",
   "id": "bb8f242f",
   "metadata": {},
   "source": [
    "##  Print Weird if the number is weird. Otherwise, print Not Weird."
   ]
  },
  {
   "cell_type": "code",
   "execution_count": 1,
   "id": "d60cd111",
   "metadata": {},
   "outputs": [
    {
     "name": "stdout",
     "output_type": "stream",
     "text": [
      "Enter Number: 4\n",
      "Not Weird\n"
     ]
    }
   ],
   "source": [
    "n = int(input('Enter Number: '))\n",
    "if n%2 != 0:\n",
    "    print(\"Weird\")\n",
    "elif n%2 == 0 and n>2 and n<=5:\n",
    "    print(\"Not Weird\")\n",
    "elif n%2 ==0 and n > 6 and n <=20:\n",
    "    print(\"Weird\")\n",
    "else:\n",
    "    print(\"Not Weird\")\n"
   ]
  },
  {
   "cell_type": "code",
   "execution_count": 2,
   "id": "56c3813d",
   "metadata": {},
   "outputs": [
    {
     "name": "stdout",
     "output_type": "stream",
     "text": [
      "Enter num1: 3\n",
      "Enter num2: 4\n",
      "Sum:  7\n",
      "Difference:  -1\n",
      "Product:  12\n"
     ]
    }
   ],
   "source": [
    "a = int(input(\"Enter num1: \"))\n",
    "b = int(input(\"Enter num2: \"))\n",
    "c = a + b\n",
    "print(\"Sum: \", c)\n",
    "d = a - b\n",
    "print(\"Difference: \",d)\n",
    "e = a * b\n",
    "print(\"Product: \", e)"
   ]
  },
  {
   "cell_type": "code",
   "execution_count": 12,
   "id": "d4f3035f",
   "metadata": {},
   "outputs": [
    {
     "name": "stdout",
     "output_type": "stream",
     "text": [
      "Enter your number:5\n",
      "0\n",
      "1\n",
      "4\n",
      "9\n",
      "16\n"
     ]
    }
   ],
   "source": [
    "n = int(input(\"Enter your number:\"))\n",
    "for i in range(0, n):\n",
    "        print( i ** 2)\n",
    "         "
   ]
  },
  {
   "cell_type": "markdown",
   "id": "ef5cf462",
   "metadata": {},
   "source": [
    "### Leap year Using is else"
   ]
  },
  {
   "cell_type": "code",
   "execution_count": 3,
   "id": "87b4ab4f",
   "metadata": {},
   "outputs": [
    {
     "name": "stdout",
     "output_type": "stream",
     "text": [
      "Enter Your Input: 122\n",
      "False\n"
     ]
    }
   ],
   "source": [
    "def is_leap(year):\n",
    "    leap = False\n",
    "    \n",
    "    if (year % 400 == 0) and (year % 100 == 0):\n",
    "        leap = True\n",
    "        \n",
    "    elif (year % 4 == 0) and (year % 100 != 0):\n",
    "        leap = True\n",
    "        \n",
    "    else: \n",
    "        pass\n",
    "    return leap\n",
    "\n",
    "\n",
    "year = int(input(\"Enter Your Input: \"))\n",
    "print(is_leap(year))"
   ]
  },
  {
   "cell_type": "markdown",
   "id": "3f957a73",
   "metadata": {},
   "source": [
    "### Leap year Using import"
   ]
  },
  {
   "cell_type": "code",
   "execution_count": 5,
   "id": "58c42f5d",
   "metadata": {},
   "outputs": [
    {
     "name": "stdout",
     "output_type": "stream",
     "text": [
      "Enter your input: 1200\n",
      "True\n"
     ]
    }
   ],
   "source": [
    "import calendar\n",
    "\n",
    "\n",
    "def is_leap(year):\n",
    "    leap = False\n",
    "    \n",
    "    if calendar.isleap(year):\n",
    "        leap = True\n",
    "        \n",
    "    return leap\n",
    "\n",
    "\n",
    "year = int(input(\"Enter your input: \"))\n",
    "\n",
    "print(is_leap(year))"
   ]
  },
  {
   "cell_type": "markdown",
   "id": "ca7ad74b",
   "metadata": {},
   "source": [
    "# Print the list of integers from 1 through n as a string, without spaces."
   ]
  },
  {
   "cell_type": "code",
   "execution_count": 6,
   "id": "6702219d",
   "metadata": {},
   "outputs": [
    {
     "name": "stdout",
     "output_type": "stream",
     "text": [
      "Enter a number:5\n",
      "12345"
     ]
    }
   ],
   "source": [
    "n = int(input(\"Enter a number:\"))\n",
    "\n",
    "for i in range(1, n+1):\n",
    "    print(i, end='')"
   ]
  },
  {
   "cell_type": "markdown",
   "id": "ef03da31",
   "metadata": {},
   "source": [
    "# Print the concatenated array of size (N + M) X P."
   ]
  },
  {
   "cell_type": "code",
   "execution_count": 13,
   "id": "1a468b83",
   "metadata": {},
   "outputs": [
    {
     "name": "stdout",
     "output_type": "stream",
     "text": [
      "4 3 2\n",
      "1 2\n",
      "1 2\n",
      "1 2\n",
      "1 2\n",
      "3 4\n",
      "3 4\n",
      "3 4\n",
      "1 2\n",
      "1 2\n",
      "1 2\n",
      "1 2\n",
      "1 2\n",
      "1 2\n",
      "1 2\n",
      "1 2\n",
      "1 2\n",
      "1 2\n",
      "1 2\n",
      "1 2\n",
      "3 4\n",
      "3 4\n",
      "3 4\n",
      "3 4\n",
      "3 4\n",
      "3 4\n",
      "3 4\n",
      "3 4\n",
      "3 4\n",
      "3 4\n",
      "3 4\n",
      "3 4\n"
     ]
    }
   ],
   "source": [
    "n, m, p = map(int, input().split())\n",
    "nps = [list(map(int, input().split())) for _ in range(n)]\n",
    "mps = [list(map(int, input().split())) for _ in range(m)]\n",
    "\n",
    "concatenated = nps * m + mps * n\n",
    "for row in concatenated:\n",
    "    print(\" \".join(map(str, row)))"
   ]
  },
  {
   "cell_type": "code",
   "execution_count": null,
   "id": "cd6c67ce",
   "metadata": {},
   "outputs": [],
   "source": []
  },
  {
   "cell_type": "code",
   "execution_count": null,
   "id": "a3574e75",
   "metadata": {},
   "outputs": [],
   "source": []
  }
 ],
 "metadata": {
  "kernelspec": {
   "display_name": "Python 3 (ipykernel)",
   "language": "python",
   "name": "python3"
  },
  "language_info": {
   "codemirror_mode": {
    "name": "ipython",
    "version": 3
   },
   "file_extension": ".py",
   "mimetype": "text/x-python",
   "name": "python",
   "nbconvert_exporter": "python",
   "pygments_lexer": "ipython3",
   "version": "3.11.3"
  }
 },
 "nbformat": 4,
 "nbformat_minor": 5
}
