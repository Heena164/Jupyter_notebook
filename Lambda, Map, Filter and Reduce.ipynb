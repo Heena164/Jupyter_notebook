{
 "cells": [
  {
   "cell_type": "markdown",
   "id": "a3f96fef",
   "metadata": {},
   "source": [
    "# Write a Python program to create a lambda function that adds 15 to a given number passed in as an argument, also create a lambda function that multiplies argument x with argument y and prints the result."
   ]
  },
  {
   "cell_type": "code",
   "execution_count": 12,
   "id": "28093b8b",
   "metadata": {},
   "outputs": [
    {
     "name": "stdout",
     "output_type": "stream",
     "text": [
      "20\n",
      "50\n"
     ]
    }
   ],
   "source": [
    "num1 = 5\n",
    "num2 = 10\n",
    "\n",
    "res = lambda a: a + 15\n",
    "print(res(num1))\n",
    "\n",
    "res = lambda x, y: x * y\n",
    "print(res(num1, num2))"
   ]
  },
  {
   "cell_type": "markdown",
   "id": "c479da41",
   "metadata": {},
   "source": [
    "# Write a Python program to create a function that takes one argument, and that argument will be multiplied with an unknown given number."
   ]
  },
  {
   "cell_type": "code",
   "execution_count": null,
   "id": "dbf96556",
   "metadata": {},
   "outputs": [],
   "source": []
  },
  {
   "cell_type": "markdown",
   "id": "d355d2b5",
   "metadata": {},
   "source": [
    "# Write a Python code snippet to find and print the product of all the even numbers in the list, after doubling each even number.\n"
   ]
  },
  {
   "cell_type": "code",
   "execution_count": 22,
   "id": "623324ab",
   "metadata": {},
   "outputs": [
    {
     "name": "stdout",
     "output_type": "stream",
     "text": [
      "[4, 8, 12]\n"
     ]
    }
   ],
   "source": [
    "from functools import reduce\n",
    "l =  [1, 2, 3, 4, 5, 6]\n",
    "\n",
    "even = list(filter(lambda x: x%2==0, l))\n",
    "\n",
    "res = reduce(lambda x, y: x*y, x)\n",
    "x = list(map(lambda x: x*2, even))\n",
    "print(x)"
   ]
  },
  {
   "cell_type": "code",
   "execution_count": 20,
   "id": "a26e7454",
   "metadata": {},
   "outputs": [
    {
     "name": "stdout",
     "output_type": "stream",
     "text": [
      "The product of doubled even numbers is 384\n"
     ]
    }
   ],
   "source": [
    "from functools import reduce\n",
    "\n",
    "numbers = [1, 2, 3, 4, 5, 6]\n",
    "\n",
    "# Filter the even numbers from the list\n",
    "even_numbers = filter(lambda x: x % 2 == 0, numbers)\n",
    "\n",
    "# Double each even number\n",
    "doubled_numbers = list(map(lambda x: x * 2, even_numbers))\n",
    "\n",
    "# Calculate the product of doubled even numbers using reduce\n",
    "product = reduce(lambda x, y: x * y, doubled_numbers)\n",
    "\n",
    "# Print the product of doubled even numbers\n",
    "print(\"The product of doubled even numbers is\", product)\n"
   ]
  },
  {
   "cell_type": "markdown",
   "id": "9d2f8c47",
   "metadata": {},
   "source": [
    "# Given a list of numbers [1, 2, 3, 4, 5], use map to multiply each number by 2. What will be the output?\n"
   ]
  },
  {
   "cell_type": "code",
   "execution_count": 23,
   "id": "2e277235",
   "metadata": {},
   "outputs": [
    {
     "name": "stdout",
     "output_type": "stream",
     "text": [
      "[2, 4, 6, 8, 10]\n"
     ]
    }
   ],
   "source": [
    "l = [1, 2, 3, 4, 5]\n",
    "\n",
    "x = list(map(lambda x: x*2, l))\n",
    "print(x)"
   ]
  },
  {
   "cell_type": "markdown",
   "id": "01ab976f",
   "metadata": {},
   "source": [
    "# You have a list of strings ['apple', 'banana', 'orange', 'mango']. Use map and a lambda function to convert each string to uppercase.\n"
   ]
  },
  {
   "cell_type": "code",
   "execution_count": 24,
   "id": "cc1bbab4",
   "metadata": {},
   "outputs": [
    {
     "name": "stdout",
     "output_type": "stream",
     "text": [
      "['APPLE', 'BANANA', 'ORANGE', 'MANGO']\n"
     ]
    }
   ],
   "source": [
    "l = ['apple', 'banana', 'orange', 'mango']\n",
    "\n",
    "x = list(map(lambda x: x.upper(), l))\n",
    "print(x)"
   ]
  },
  {
   "cell_type": "markdown",
   "id": "70bcb2e4",
   "metadata": {},
   "source": [
    "# Write a Python program to use the map function to multiply each element in the list by 2 and return a new list containing the modified elements."
   ]
  },
  {
   "cell_type": "code",
   "execution_count": 8,
   "id": "1d79d56e",
   "metadata": {},
   "outputs": [
    {
     "name": "stdout",
     "output_type": "stream",
     "text": [
      "[2, 4, 6, 8, 10]\n"
     ]
    }
   ],
   "source": [
    "l = [1, 2, 3, 4, 5]\n",
    "\n",
    "res = list(map(lambda x: x *2, l))\n",
    "print(res)"
   ]
  },
  {
   "cell_type": "markdown",
   "id": "36df01f4",
   "metadata": {},
   "source": [
    "# write a Python program to filter out the even numbers and return a new list containing only the odd numbers."
   ]
  },
  {
   "cell_type": "code",
   "execution_count": 9,
   "id": "c115fc5d",
   "metadata": {},
   "outputs": [
    {
     "name": "stdout",
     "output_type": "stream",
     "text": [
      "[1, 3, 5, 7]\n"
     ]
    }
   ],
   "source": [
    "l = [1, 2, 3, 4, 5, 6, 7, 8]\n",
    "\n",
    "res = list(filter(lambda x: x % 2 != 0, l ))\n",
    "print(res)"
   ]
  },
  {
   "cell_type": "markdown",
   "id": "de26899e",
   "metadata": {},
   "source": [
    "# write a Python program to create a new list that contains the squares of the numbers from the original list."
   ]
  },
  {
   "cell_type": "code",
   "execution_count": 10,
   "id": "cf225f2b",
   "metadata": {},
   "outputs": [
    {
     "name": "stdout",
     "output_type": "stream",
     "text": [
      "[1, 4, 9, 16, 25, 36]\n"
     ]
    }
   ],
   "source": [
    "l = [1, 2, 3, 4, 5, 6]\n",
    "\n",
    "res = list(map(lambda x: x ** 2, l))\n",
    "print(res)"
   ]
  },
  {
   "cell_type": "markdown",
   "id": "9fd462c2",
   "metadata": {},
   "source": [
    "# write a Python program to create a new list that contains the lengths of each string from the original list."
   ]
  },
  {
   "cell_type": "code",
   "execution_count": 13,
   "id": "00e6b93f",
   "metadata": {},
   "outputs": [
    {
     "name": "stdout",
     "output_type": "stream",
     "text": [
      "[5, 6, 6, 4]\n"
     ]
    }
   ],
   "source": [
    "l = [\"apple\", \"banana\", \"cherry\", \"date\"]\n",
    "\n",
    "res = list(map(len, l))\n",
    "print(res)"
   ]
  },
  {
   "cell_type": "markdown",
   "id": "f76e18a5",
   "metadata": {},
   "source": [
    "# Write a Python program to calculate the sum of all the numbers."
   ]
  },
  {
   "cell_type": "code",
   "execution_count": 14,
   "id": "ca4f2484",
   "metadata": {},
   "outputs": [
    {
     "name": "stdout",
     "output_type": "stream",
     "text": [
      "15\n"
     ]
    }
   ],
   "source": [
    "from functools import reduce\n",
    "l = [1, 2, 3, 4, 5]\n",
    "\n",
    "res = reduce(lambda x, y: x+y, l)\n",
    "print(res)"
   ]
  },
  {
   "cell_type": "code",
   "execution_count": null,
   "id": "922b534d",
   "metadata": {},
   "outputs": [],
   "source": []
  }
 ],
 "metadata": {
  "kernelspec": {
   "display_name": "Python 3 (ipykernel)",
   "language": "python",
   "name": "python3"
  },
  "language_info": {
   "codemirror_mode": {
    "name": "ipython",
    "version": 3
   },
   "file_extension": ".py",
   "mimetype": "text/x-python",
   "name": "python",
   "nbconvert_exporter": "python",
   "pygments_lexer": "ipython3",
   "version": "3.11.3"
  }
 },
 "nbformat": 4,
 "nbformat_minor": 5
}
