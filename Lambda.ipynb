{
 "cells": [
  {
   "cell_type": "markdown",
   "id": "98e65088",
   "metadata": {},
   "source": [
    "# Write a Python program to create a lambda function that adds 15 to a given number passed in as an argument, also create a lambda function that multiplies argument x with argument y and prints the result."
   ]
  },
  {
   "cell_type": "code",
   "execution_count": 12,
   "id": "1fc84f8d",
   "metadata": {},
   "outputs": [
    {
     "name": "stdout",
     "output_type": "stream",
     "text": [
      "20\n",
      "50\n"
     ]
    }
   ],
   "source": [
    "num1 = 5\n",
    "num2 = 10\n",
    "\n",
    "res = lambda a: a + 15\n",
    "print(res(num1))\n",
    "\n",
    "res = lambda x, y: x * y\n",
    "print(res(num1, num2))"
   ]
  },
  {
   "cell_type": "code",
   "execution_count": null,
   "id": "e67fa0fd",
   "metadata": {},
   "outputs": [],
   "source": []
  }
 ],
 "metadata": {
  "kernelspec": {
   "display_name": "Python 3 (ipykernel)",
   "language": "python",
   "name": "python3"
  },
  "language_info": {
   "codemirror_mode": {
    "name": "ipython",
    "version": 3
   },
   "file_extension": ".py",
   "mimetype": "text/x-python",
   "name": "python",
   "nbconvert_exporter": "python",
   "pygments_lexer": "ipython3",
   "version": "3.11.3"
  }
 },
 "nbformat": 4,
 "nbformat_minor": 5
}
