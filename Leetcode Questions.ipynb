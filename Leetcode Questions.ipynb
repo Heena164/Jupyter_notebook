{
 "cells": [
  {
   "cell_type": "markdown",
   "id": "8167ef4f",
   "metadata": {},
   "source": [
    "# 1. Two Sum"
   ]
  },
  {
   "cell_type": "code",
   "execution_count": 7,
   "id": "ec5c6b5f",
   "metadata": {},
   "outputs": [
    {
     "name": "stdout",
     "output_type": "stream",
     "text": [
      "[0, 1]\n"
     ]
    }
   ],
   "source": [
    "from typing import List\n",
    "class Solution:\n",
    "    def twoSum(self, nums, target):\n",
    "        two_sum = []\n",
    "        for i in range(len(nums)):\n",
    "            for j in range(i + 1, len(nums)):\n",
    "                sum = nums[i] + nums[j]\n",
    "                if sum == target:\n",
    "                    two_sum.append(i)\n",
    "                    two_sum.append(j)\n",
    "        return two_sum\n",
    "        \n",
    "        \n",
    "nums = [2,7,11,15]\n",
    "target = 9\n",
    "\n",
    "solution = Solution()\n",
    "res = solution.twoSum(nums, target)\n",
    "\n",
    "        \n",
    "print(res)"
   ]
  },
  {
   "cell_type": "markdown",
   "id": "44372e46",
   "metadata": {},
   "source": [
    "# 2. Add Two Numbers"
   ]
  },
  {
   "cell_type": "code",
   "execution_count": null,
   "id": "30fc20bb",
   "metadata": {},
   "outputs": [],
   "source": [
    "class Solution:\n",
    "    def addTwoNumbers(self, l1, l2):\n",
    "        for i in ran\n",
    "\n",
    "\n",
    "l1 = [2,4,3]\n",
    "l2 = [5,6,4]\n",
    "\n"
   ]
  },
  {
   "cell_type": "code",
   "execution_count": 3,
   "id": "5273c7d7",
   "metadata": {},
   "outputs": [
    {
     "name": "stdout",
     "output_type": "stream",
     "text": [
      "7\n"
     ]
    }
   ],
   "source": [
    "l1 = [2,4,3]\n",
    "l2 = [5,6,4]\n",
    "sum = 0\n",
    "\n",
    "\n",
    "for i in range(len(l1)):\n",
    "    for j in range(len(l2)):\n",
    "        sum = l1[i] + l2[j]\n",
    "        \n",
    "print(sum)\n"
   ]
  },
  {
   "cell_type": "code",
   "execution_count": 5,
   "id": "01764434",
   "metadata": {},
   "outputs": [
    {
     "name": "stdout",
     "output_type": "stream",
     "text": [
      "The sum of the numbers: 807\n"
     ]
    }
   ],
   "source": [
    "l1 = [2, 4, 3]\n",
    "l2 = [5, 6, 4]\n",
    "num1 = int(''.join(map(str, l1)))\n",
    "num2 = int(''.join(map(str, l2)))\n",
    "total_sum = num1 + num2\n",
    "\n",
    "print(\"The sum of the numbers:\", total_sum)\n",
    "\n"
   ]
  },
  {
   "cell_type": "code",
   "execution_count": null,
   "id": "8541f242",
   "metadata": {},
   "outputs": [],
   "source": []
  }
 ],
 "metadata": {
  "kernelspec": {
   "display_name": "Python 3 (ipykernel)",
   "language": "python",
   "name": "python3"
  },
  "language_info": {
   "codemirror_mode": {
    "name": "ipython",
    "version": 3
   },
   "file_extension": ".py",
   "mimetype": "text/x-python",
   "name": "python",
   "nbconvert_exporter": "python",
   "pygments_lexer": "ipython3",
   "version": "3.11.3"
  }
 },
 "nbformat": 4,
 "nbformat_minor": 5
}
