{
 "cells": [
  {
   "cell_type": "code",
   "execution_count": 1,
   "id": "3f93453b",
   "metadata": {},
   "outputs": [
    {
     "ename": "IndentationError",
     "evalue": "expected an indented block after function definition on line 17 (4129662541.py, line 20)",
     "output_type": "error",
     "traceback": [
      "\u001b[1;36m  Cell \u001b[1;32mIn[1], line 20\u001b[1;36m\u001b[0m\n\u001b[1;33m    def addbook(self, book, count):\u001b[0m\n\u001b[1;37m    ^\u001b[0m\n\u001b[1;31mIndentationError\u001b[0m\u001b[1;31m:\u001b[0m expected an indented block after function definition on line 17\n"
     ]
    }
   ],
   "source": [
    "class Library:\n",
    "    def __init__(self, name, book):\n",
    "        self.name = name\n",
    "        self.books = book\n",
    "        self.lendbooks = {}\n",
    "        print(f\"{self.name} Libraray successfully created\")\n",
    "    \n",
    "    \n",
    "    def display(self):\n",
    "        print(f\"We have these books available in {self.name}\")\n",
    "        print(\"Books \\t\\t Count\")\n",
    "        print(\"----------------------\")\n",
    "        for key_value in self.books.items():\n",
    "            print(key_value[2], \"\\t\", key_value[1])\n",
    "    \n",
    "    \n",
    "    def lendbook(self, book, user):\n",
    "        \n",
    "        \n",
    "    def addbook(self, book, count):\n",
    "        \n",
    "        \n",
    "    def issuedbook(self):\n",
    "        \n",
    "    \n",
    "    def returnbook(self, book, user):"
   ]
  },
  {
   "cell_type": "code",
   "execution_count": null,
   "id": "b4b7aa8e",
   "metadata": {},
   "outputs": [],
   "source": []
  }
 ],
 "metadata": {
  "kernelspec": {
   "display_name": "Python 3 (ipykernel)",
   "language": "python",
   "name": "python3"
  },
  "language_info": {
   "codemirror_mode": {
    "name": "ipython",
    "version": 3
   },
   "file_extension": ".py",
   "mimetype": "text/x-python",
   "name": "python",
   "nbconvert_exporter": "python",
   "pygments_lexer": "ipython3",
   "version": "3.11.2"
  }
 },
 "nbformat": 4,
 "nbformat_minor": 5
}
