{
 "cells": [
  {
   "cell_type": "markdown",
   "id": "035a2534",
   "metadata": {},
   "source": [
    "# Creating a Python list"
   ]
  },
  {
   "cell_type": "code",
   "execution_count": 2,
   "id": "7dfb13e3",
   "metadata": {},
   "outputs": [
    {
     "name": "stdout",
     "output_type": "stream",
     "text": [
      "[2, 3, 4]\n"
     ]
    }
   ],
   "source": [
    "l = list((2, 3, 4))       #Using list Constructor\n",
    "print(l)"
   ]
  },
  {
   "cell_type": "code",
   "execution_count": 3,
   "id": "fa015e1f",
   "metadata": {},
   "outputs": [
    {
     "name": "stdout",
     "output_type": "stream",
     "text": [
      "[2, 3, 4]\n"
     ]
    }
   ],
   "source": [
    "l = [2, 3, 4]            #using square brackets\n",
    "print(l)"
   ]
  },
  {
   "cell_type": "code",
   "execution_count": 5,
   "id": "a9b6b6e6",
   "metadata": {},
   "outputs": [
    {
     "name": "stdout",
     "output_type": "stream",
     "text": [
      "[]\n",
      "<class 'list'>\n"
     ]
    }
   ],
   "source": [
    "l = []                   #Empty list\n",
    "print(l)\n",
    "print(type(l))"
   ]
  },
  {
   "cell_type": "code",
   "execution_count": 6,
   "id": "8ebbced2",
   "metadata": {},
   "outputs": [
    {
     "name": "stdout",
     "output_type": "stream",
     "text": [
      "[1, 'Abc', 23.9]\n"
     ]
    }
   ],
   "source": [
    "l = [1, 'Abc', 23.90]   #with hetrogeneous items\n",
    "print(l)"
   ]
  },
  {
   "cell_type": "code",
   "execution_count": 7,
   "id": "84933561",
   "metadata": {},
   "outputs": [
    {
     "name": "stdout",
     "output_type": "stream",
     "text": [
      "[1, (2, 3), 9]\n"
     ]
    }
   ],
   "source": [
    "l = [1, (2, 3), 9]     \n",
    "print(l)"
   ]
  },
  {
   "cell_type": "code",
   "execution_count": 4,
   "id": "1ada119f",
   "metadata": {},
   "outputs": [
    {
     "ename": "TypeError",
     "evalue": "unhashable type: 'set'",
     "output_type": "error",
     "traceback": [
      "\u001b[1;31m---------------------------------------------------------------------------\u001b[0m",
      "\u001b[1;31mTypeError\u001b[0m                                 Traceback (most recent call last)",
      "Cell \u001b[1;32mIn[4], line 1\u001b[0m\n\u001b[1;32m----> 1\u001b[0m s \u001b[38;5;241m=\u001b[39m {\u001b[38;5;241m1\u001b[39m, \u001b[38;5;241m2\u001b[39m, {\u001b[38;5;241m2\u001b[39m, \u001b[38;5;241m3\u001b[39m}, \u001b[38;5;241m8\u001b[39m}\n\u001b[0;32m      2\u001b[0m \u001b[38;5;28mprint\u001b[39m(s)\n",
      "\u001b[1;31mTypeError\u001b[0m: unhashable type: 'set'"
     ]
    }
   ],
   "source": [
    "s = {1, 2, {2, 3}, 8}\n",
    "print(s)"
   ]
  },
  {
   "cell_type": "code",
   "execution_count": 8,
   "id": "7dfd280e",
   "metadata": {},
   "outputs": [
    {
     "name": "stdout",
     "output_type": "stream",
     "text": [
      "[1, {2: 3}, 9]\n"
     ]
    }
   ],
   "source": [
    "l = [1, {2 : 3}, 9]\n",
    "print(l)"
   ]
  },
  {
   "cell_type": "markdown",
   "id": "1cbcd4d5",
   "metadata": {},
   "source": [
    "# Length of a List"
   ]
  },
  {
   "cell_type": "code",
   "execution_count": 9,
   "id": "e3bae5ec",
   "metadata": {},
   "outputs": [
    {
     "name": "stdout",
     "output_type": "stream",
     "text": [
      "3\n"
     ]
    }
   ],
   "source": [
    "print(len(l))"
   ]
  },
  {
   "cell_type": "markdown",
   "id": "2a11514d",
   "metadata": {},
   "source": [
    "# Accessing items of a List"
   ]
  },
  {
   "cell_type": "code",
   "execution_count": 12,
   "id": "fe4b4e01",
   "metadata": {},
   "outputs": [
    {
     "name": "stdout",
     "output_type": "stream",
     "text": [
      "sarfraz\n",
      "10\n"
     ]
    },
    {
     "ename": "IndexError",
     "evalue": "list index out of range",
     "output_type": "error",
     "traceback": [
      "\u001b[1;31m---------------------------------------------------------------------------\u001b[0m",
      "\u001b[1;31mIndexError\u001b[0m                                Traceback (most recent call last)",
      "Cell \u001b[1;32mIn[12], line 4\u001b[0m\n\u001b[0;32m      2\u001b[0m \u001b[38;5;28mprint\u001b[39m(l[\u001b[38;5;241m2\u001b[39m])\n\u001b[0;32m      3\u001b[0m \u001b[38;5;28mprint\u001b[39m(l[\u001b[38;5;241m0\u001b[39m])\n\u001b[1;32m----> 4\u001b[0m \u001b[38;5;28mprint\u001b[39m(\u001b[43ml\u001b[49m\u001b[43m[\u001b[49m\u001b[38;5;241;43m9\u001b[39;49m\u001b[43m]\u001b[49m)\n",
      "\u001b[1;31mIndexError\u001b[0m: list index out of range"
     ]
    }
   ],
   "source": [
    "l = [10, 20, 'sarfraz', 12.50, 'suhail']     #using Indexing\n",
    "print(l[2])\n",
    "print(l[0])\n",
    "print(l[9])"
   ]
  },
  {
   "cell_type": "code",
   "execution_count": 14,
   "id": "ecf57032",
   "metadata": {},
   "outputs": [
    {
     "name": "stdout",
     "output_type": "stream",
     "text": [
      "[10, 20, 'sarfraz', 12.5, 'suhail', 20, 19, 'ABC']\n",
      "[20, 'sarfraz', 12.5, 'suhail', 20, 19, 'ABC']\n",
      "['sarfraz', 12.5, 'suhail', 20, 19, 'ABC']\n",
      "[20, 'sarfraz', 12.5]\n",
      "[12.5, 'suhail', 20, 19]\n",
      "[12.5, 'suhail', 20, 19, 'ABC']\n",
      "['sarfraz', 'suhail', 19]\n"
     ]
    }
   ],
   "source": [
    "l = [10, 20, 'sarfraz', 12.50, 'suhail', 20, 19, 'ABC']     #using slicing\n",
    "print(l[0:])\n",
    "print(l[1:])\n",
    "print(l[2:])\n",
    "print(l[1:4])\n",
    "print(l[3:7])\n",
    "print(l[3:10])\n",
    "print(l[2:8:2])"
   ]
  },
  {
   "cell_type": "markdown",
   "id": "6d4c5a09",
   "metadata": {},
   "source": [
    "# Write a Python program to sum all the items in a list."
   ]
  },
  {
   "cell_type": "code",
   "execution_count": 3,
   "id": "c6f510c7",
   "metadata": {},
   "outputs": [
    {
     "name": "stdout",
     "output_type": "stream",
     "text": [
      "Sum is:  12\n"
     ]
    }
   ],
   "source": [
    "lst = [3, 3, 3, 3]\n",
    "\n",
    "sum1 = 0\n",
    "\n",
    "for i in lst:\n",
    "    sum1 = sum1 + i\n",
    "    \n",
    "print(\"Sum is: \", sum1)"
   ]
  },
  {
   "cell_type": "markdown",
   "id": "dec8ca95",
   "metadata": {},
   "source": [
    "# Write a Python program to multiply all the items in a list."
   ]
  },
  {
   "cell_type": "code",
   "execution_count": 5,
   "id": "1972d220",
   "metadata": {},
   "outputs": [
    {
     "name": "stdout",
     "output_type": "stream",
     "text": [
      "Multiple of all items in the list are:  6\n"
     ]
    }
   ],
   "source": [
    "lst = [2, 3]\n",
    "\n",
    "mul = 1\n",
    "\n",
    "for i in lst:\n",
    "    mul = mul * i\n",
    "    \n",
    "print('Multiple of all items in the list are: ', mul)"
   ]
  },
  {
   "cell_type": "markdown",
   "id": "11142ccd",
   "metadata": {},
   "source": [
    "# Write a Python program to get the largest number from a list."
   ]
  },
  {
   "cell_type": "code",
   "execution_count": 15,
   "id": "04597cf7",
   "metadata": {},
   "outputs": [
    {
     "name": "stdout",
     "output_type": "stream",
     "text": [
      "89\n"
     ]
    }
   ],
   "source": [
    "lst = [23, 45, 89, 54, 12, 67]\n",
    "\n",
    "mx = lst[0]\n",
    "\n",
    "for i in lst:\n",
    "    if i>mx:\n",
    "        mx = i\n",
    "print('Largest Number is :',mx)"
   ]
  },
  {
   "cell_type": "markdown",
   "id": "83ad113d",
   "metadata": {},
   "source": [
    "# Write a Python program to get the smallest number from a list."
   ]
  },
  {
   "cell_type": "code",
   "execution_count": 17,
   "id": "26135c9e",
   "metadata": {},
   "outputs": [
    {
     "name": "stdout",
     "output_type": "stream",
     "text": [
      "12\n"
     ]
    }
   ],
   "source": [
    "lst = [23, 45, 89, 54, 12, 67]\n",
    "\n",
    "mi = lst[0]\n",
    "\n",
    "for i in lst:\n",
    "    if i < mi:\n",
    "        mi = i\n",
    "        \n",
    "print(mi)"
   ]
  },
  {
   "cell_type": "markdown",
   "id": "4ff23702",
   "metadata": {},
   "source": [
    "# Write a Python program to count the number of strings from a given list of strings. The string length is 2 or more and the first and last characters are the same."
   ]
  },
  {
   "cell_type": "code",
   "execution_count": 25,
   "id": "03d6ee6c",
   "metadata": {},
   "outputs": [
    {
     "name": "stdout",
     "output_type": "stream",
     "text": [
      "2\n"
     ]
    }
   ],
   "source": [
    "lst = ['abc', 'xyz', 'aba', '1221']\n",
    "\n",
    "count = 0\n",
    "\n",
    "for i in lst:\n",
    "    if len(i) > 1 and i[0] == i[-1]:\n",
    "        count = count + 1\n",
    "        \n",
    "print(count)"
   ]
  },
  {
   "cell_type": "markdown",
   "id": "3e7740cb",
   "metadata": {},
   "source": [
    "# Write a Python program to get a list, sorted in increasing order by the last element in each tuple from a given list of non-empty tuples. "
   ]
  },
  {
   "cell_type": "code",
   "execution_count": 9,
   "id": "7c6e831d",
   "metadata": {},
   "outputs": [
    {
     "name": "stdout",
     "output_type": "stream",
     "text": [
      "[(2, 5), (1, 2), (4, 4), (2, 3), (2, 1)]\n"
     ]
    }
   ],
   "source": [
    "lst = [(2, 5), (1, 2), (4, 4), (2, 3), (2, 1)]\n",
    "\n",
    "def last(l):\n",
    "    return i[-1]\n",
    "\n",
    "def sort(tuple):\n",
    "    return sorted(tuple, key=last)\n",
    "\n",
    "x = sort(lst)\n",
    "print(x)\n",
    "        \n",
    "\n",
    "    "
   ]
  },
  {
   "cell_type": "markdown",
   "id": "adc6f2f2",
   "metadata": {},
   "source": [
    "# Write a Python program to remove duplicates from a list."
   ]
  },
  {
   "cell_type": "code",
   "execution_count": 11,
   "id": "8f6f7550",
   "metadata": {},
   "outputs": [
    {
     "name": "stdout",
     "output_type": "stream",
     "text": [
      "[2, 4, 6, 8]\n"
     ]
    }
   ],
   "source": [
    "lst = [2, 4, 6, 8, 2, 4, 8]\n",
    "\n",
    "# duplicate = set()\n",
    "unique = []\n",
    "\n",
    "for i in lst:\n",
    "    if i not in unique:\n",
    "        unique.append(i)\n",
    "#         duplicate.add(i)\n",
    "        \n",
    "print(unique)\n",
    "# print(duplicate)"
   ]
  },
  {
   "cell_type": "markdown",
   "id": "b6412f53",
   "metadata": {},
   "source": [
    "# Write a Python program to check if a list is empty or not. "
   ]
  },
  {
   "cell_type": "code",
   "execution_count": 14,
   "id": "8e2abf4d",
   "metadata": {},
   "outputs": [
    {
     "name": "stdout",
     "output_type": "stream",
     "text": [
      "element is present\n"
     ]
    }
   ],
   "source": [
    "lst = [1, 2, 3]\n",
    "\n",
    "if not lst:\n",
    "    print('element not is present')\n",
    "    \n",
    "else:\n",
    "    print('element is present')"
   ]
  },
  {
   "cell_type": "markdown",
   "id": "4c085a57",
   "metadata": {},
   "source": [
    "# Write a Python program to clone or copy a list."
   ]
  },
  {
   "cell_type": "code",
   "execution_count": 17,
   "id": "774ae953",
   "metadata": {},
   "outputs": [
    {
     "name": "stdout",
     "output_type": "stream",
     "text": [
      "Original list [23, 43, 12]\n",
      "New list [23, 43, 12]\n"
     ]
    }
   ],
   "source": [
    "lst = [23, 43, 12]\n",
    "print(\"Original list\", lst)\n",
    "\n",
    "\n",
    "# lst1 = list(lst)\n",
    "lst1 = lst.copy()\n",
    "\n",
    "print(\"New list\", lst1)"
   ]
  },
  {
   "cell_type": "markdown",
   "id": "e6975751",
   "metadata": {},
   "source": [
    "# Write a Python program to find the list of words that are longer than n from a given list of words."
   ]
  },
  {
   "cell_type": "code",
   "execution_count": 22,
   "id": "cda65147",
   "metadata": {},
   "outputs": [
    {
     "name": "stdout",
     "output_type": "stream",
     "text": [
      "['Apple', 'Mango', 'Banana', 'Pineapple']\n"
     ]
    }
   ],
   "source": [
    "def long_words(words, n):\n",
    "    long_word = []\n",
    "    for word in words:\n",
    "        if len(word) > n:\n",
    "            long_word.append(word)\n",
    "            \n",
    "    return long_word\n",
    "    \n",
    "words = ['Apple', 'Mango', 'Banana', 'Pineapple', 'Fig']\n",
    "\n",
    "x = long_words(words, 3)\n",
    "print(x)"
   ]
  },
  {
   "cell_type": "markdown",
   "id": "f86016ae",
   "metadata": {},
   "source": [
    "# Write a Python function that takes two lists and returns True if they have at least one common member."
   ]
  },
  {
   "cell_type": "code",
   "execution_count": 19,
   "id": "472891f2",
   "metadata": {},
   "outputs": [
    {
     "name": "stdout",
     "output_type": "stream",
     "text": [
      "False\n"
     ]
    }
   ],
   "source": [
    "l1 = [2, 4, 6, 8]\n",
    "l2 = [3, 1, 5, 1, 10]\n",
    "\n",
    "\n",
    "def common_element(a, b):\n",
    "    for x in l1:\n",
    "        for y in l2:\n",
    "            if x == y:\n",
    "                return True\n",
    "    return False\n",
    "            \n",
    "            \n",
    "r = common_element(l1, l2)\n",
    "print(r)            \n"
   ]
  },
  {
   "cell_type": "markdown",
   "id": "4d885a41",
   "metadata": {},
   "source": [
    "# Write a Python program to print a specified list after removing the 0th, 4th and 5th elements.\n"
   ]
  },
  {
   "cell_type": "code",
   "execution_count": 24,
   "id": "eaa5fe8e",
   "metadata": {},
   "outputs": [
    {
     "name": "stdout",
     "output_type": "stream",
     "text": [
      "['Red', 'Green', 'White', 'Black', 'Pink', 'Yellow']\n",
      "['Green', 'White', 'Black']\n"
     ]
    }
   ],
   "source": [
    "l1 = ['Red', 'Green', 'White', 'Black', 'Pink', 'Yellow']\n",
    "print(l1)\n",
    "\n",
    "l1.pop(0)\n",
    "l1.pop(4)\n",
    "l1.pop(-1)\n",
    "\n",
    "print(l1)"
   ]
  },
  {
   "cell_type": "code",
   "execution_count": 28,
   "id": "f1be2ba8",
   "metadata": {},
   "outputs": [
    {
     "name": "stdout",
     "output_type": "stream",
     "text": [
      "['Green', 'White', 'Black']\n"
     ]
    }
   ],
   "source": [
    "l1 = ['Red', 'Green', 'White', 'Black', 'Pink', 'Yellow']\n",
    "\n",
    "remove = [0, 4, 5]\n",
    "new_list = []\n",
    "\n",
    "for i in range(len(l1)):\n",
    "    if i not in remove:\n",
    "        new_list.append(l1[i])\n",
    "        \n",
    "print(new_list)\n",
    "        \n",
    "        \n"
   ]
  },
  {
   "cell_type": "markdown",
   "id": "3f8570e0",
   "metadata": {},
   "source": [
    "# Write a Python program to generate a 3*4*6 3D array whose each element is *."
   ]
  },
  {
   "cell_type": "code",
   "execution_count": 32,
   "id": "62c96280",
   "metadata": {},
   "outputs": [
    {
     "name": "stdout",
     "output_type": "stream",
     "text": [
      "[[['*', '*', '*', '*', '*', '*'], ['*', '*', '*', '*', '*', '*'], ['*', '*', '*', '*', '*', '*'], ['*', '*', '*', '*', '*', '*']], [['*', '*', '*', '*', '*', '*'], ['*', '*', '*', '*', '*', '*'], ['*', '*', '*', '*', '*', '*'], ['*', '*', '*', '*', '*', '*']], [['*', '*', '*', '*', '*', '*'], ['*', '*', '*', '*', '*', '*'], ['*', '*', '*', '*', '*', '*'], ['*', '*', '*', '*', '*', '*']]]\n"
     ]
    }
   ],
   "source": [
    "array = [[['*' for col in range(6)] for col in range(4)] for row in range(3)]\n",
    "\n",
    "print(array)"
   ]
  },
  {
   "cell_type": "markdown",
   "id": "b676eef1",
   "metadata": {},
   "source": [
    "# Write a Python program to print the numbers of a specified list after removing even numbers from it."
   ]
  },
  {
   "cell_type": "code",
   "execution_count": 38,
   "id": "03f09620",
   "metadata": {},
   "outputs": [
    {
     "name": "stdout",
     "output_type": "stream",
     "text": [
      "Odd numbers from the list: [1, 3, 5, 7, 9]\n"
     ]
    }
   ],
   "source": [
    "l1 = [1, 2, 3, 4, 5, 6, 7, 8, 9, 10]\n",
    "\n",
    "l2 = []\n",
    "\n",
    "for i in l1:\n",
    "    if i%2!=0:\n",
    "        l2.append(i)\n",
    "print(\"Odd numbers from the list:\", l2)\n",
    "        "
   ]
  },
  {
   "cell_type": "code",
   "execution_count": 10,
   "id": "a41aa051",
   "metadata": {},
   "outputs": [
    {
     "name": "stdout",
     "output_type": "stream",
     "text": [
      "[True, False, True, False, True, False]\n"
     ]
    }
   ],
   "source": [
    "lst = [2, 3, 4, 5, 6, 7]\n",
    "\n",
    "r = list(map(lambda num: num%2==0, lst))\n",
    "print(r)"
   ]
  },
  {
   "cell_type": "markdown",
   "id": "d8361442",
   "metadata": {},
   "source": [
    "# Write a Python program to swap first and last element of the list."
   ]
  },
  {
   "cell_type": "code",
   "execution_count": 2,
   "id": "afbb6385",
   "metadata": {},
   "outputs": [
    {
     "name": "stdout",
     "output_type": "stream",
     "text": [
      "[3, 2, 1]\n"
     ]
    }
   ],
   "source": [
    "l = [1, 2, 3]\n",
    "\n",
    "if len(l) >=2:\n",
    "    temp = l[0]\n",
    "    l[0] = l[-1]\n",
    "    l[-1] = temp\n",
    "    \n",
    "print(l)\n",
    "    "
   ]
  },
  {
   "cell_type": "code",
   "execution_count": 4,
   "id": "f44c62b7",
   "metadata": {},
   "outputs": [
    {
     "name": "stdout",
     "output_type": "stream",
     "text": [
      "{10: 3, 50: 1, 20: 1, 30: 2, 40: 1}\n"
     ]
    }
   ],
   "source": [
    "lst = [10, 50, 10, 10, 20, 30, 30, 40]\n",
    "\n",
    "dic = {}\n",
    "\n",
    "for i in lst:\n",
    "    if i in dic:\n",
    "        dic[i] += 1\n",
    "        \n",
    "    else:\n",
    "        dic[i] = 1\n",
    "        \n",
    "print(dic)"
   ]
  },
  {
   "cell_type": "markdown",
   "id": "544fdf99",
   "metadata": {},
   "source": [
    "# Write a Python program to shuffle and print a specified list."
   ]
  },
  {
   "cell_type": "code",
   "execution_count": 7,
   "id": "64ff68f4",
   "metadata": {},
   "outputs": [
    {
     "name": "stdout",
     "output_type": "stream",
     "text": [
      "['Black', 'Pink', 'Orange', 'Blue', 'Yellow']\n"
     ]
    }
   ],
   "source": [
    "from random import shuffle\n",
    "lst = ['Orange', 'Black', 'Blue', 'Yellow', 'Pink']\n",
    "\n",
    "shuffle(lst)\n",
    "print(lst)\n"
   ]
  },
  {
   "cell_type": "markdown",
   "id": "629b9d2c",
   "metadata": {},
   "source": [
    "# Write a Python function that returns the sum of all the even numbers in the list."
   ]
  },
  {
   "cell_type": "code",
   "execution_count": 12,
   "id": "376054f8",
   "metadata": {},
   "outputs": [
    {
     "name": "stdout",
     "output_type": "stream",
     "text": [
      "Sum of all even numbers from the list: 30\n"
     ]
    }
   ],
   "source": [
    "def sum(a):\n",
    "    res = 0\n",
    "    for i in a:\n",
    "        if i%2==0:\n",
    "            res = res + i\n",
    "    return res\n",
    "            \n",
    "\n",
    "\n",
    "lst = [1, 2, 3, 4, 5, 6, 7, 8, 9, 10]\n",
    "r = sum(lst)\n",
    "print(\"Sum of all even numbers from the list:\", r)"
   ]
  },
  {
   "cell_type": "markdown",
   "id": "e4d8d681",
   "metadata": {},
   "source": [
    "# Write a Python program that returns the sum of all the positive numbers in the list."
   ]
  },
  {
   "cell_type": "code",
   "execution_count": 14,
   "id": "8df14140",
   "metadata": {},
   "outputs": [
    {
     "name": "stdout",
     "output_type": "stream",
     "text": [
      "Sum of all positive number is 25\n"
     ]
    }
   ],
   "source": [
    "l = [-2, 3, -5, 7, -1, 9, -4, 6]\n",
    "sum = 0\n",
    "\n",
    "for i in l:\n",
    "    if i > 0:\n",
    "        sum = sum + i\n",
    "        \n",
    "print('Sum of all positive number is',sum)\n",
    "        "
   ]
  },
  {
   "cell_type": "markdown",
   "id": "4c9f5f36",
   "metadata": {},
   "source": [
    "# Write a Python program that returns the count of strings in the list that have a length greater than or equal to a given threshold."
   ]
  },
  {
   "cell_type": "code",
   "execution_count": 31,
   "id": "cfd1d00a",
   "metadata": {},
   "outputs": [
    {
     "name": "stdout",
     "output_type": "stream",
     "text": [
      "3\n"
     ]
    }
   ],
   "source": [
    "strings = ['apple', 'banana', 'pear', 'orange', 'kiwi']\n",
    "threshold = 5\n",
    "count = 0\n",
    "\n",
    "for i in strings:\n",
    "\n",
    "        if len(i) >= threshold:\n",
    "            count = count + 1\n",
    "            \n",
    "print(count)"
   ]
  },
  {
   "cell_type": "markdown",
   "id": "457d7585",
   "metadata": {},
   "source": [
    "# Write a Python code snippet that calculates and prints the average of all the positive numbers in the list."
   ]
  },
  {
   "cell_type": "code",
   "execution_count": 54,
   "id": "1a43e62c",
   "metadata": {},
   "outputs": [
    {
     "name": "stdout",
     "output_type": "stream",
     "text": [
      "The average of positive number is 5.6\n"
     ]
    }
   ],
   "source": [
    "l = [2, 5, -3, 8, -1, 6, 0, 7]\n",
    "sum = 0\n",
    "count = 0\n",
    "\n",
    "for i in l:\n",
    "  if i > 0:\n",
    "    sum = sum + i\n",
    "    count += 1\n",
    "\n",
    "if count > 0:\n",
    "  avg = sum / count\n",
    "  print('The average of positive number is', avg)\n",
    "else:\n",
    "  print('No positive number found in the list')\n",
    "        "
   ]
  },
  {
   "cell_type": "markdown",
   "id": "750628ae",
   "metadata": {},
   "source": [
    "# Write a Python code snippet that finds and prints the shortest string in the list."
   ]
  },
  {
   "cell_type": "code",
   "execution_count": 58,
   "id": "a7493604",
   "metadata": {},
   "outputs": [
    {
     "name": "stdout",
     "output_type": "stream",
     "text": [
      "pear\n"
     ]
    }
   ],
   "source": [
    "s = ['apple', 'banana', 'pear', 'orange', 'kiwi']\n",
    "     \n",
    "shortest_string = min(s, key=len)\n",
    "print(shortest_string)\n",
    "\n"
   ]
  },
  {
   "cell_type": "code",
   "execution_count": 2,
   "id": "a51588aa",
   "metadata": {},
   "outputs": [
    {
     "name": "stdout",
     "output_type": "stream",
     "text": [
      "['pear', 'kiwi']\n"
     ]
    }
   ],
   "source": [
    "strings = ['apple', 'banana', 'pear', 'orange', 'kiwi']\n",
    "\n",
    "length = len(strings[0])\n",
    "\n",
    "shortest_string = [strings[0]]\n",
    "\n",
    "\n",
    "for string in strings:\n",
    "    if len(string) < length:\n",
    "        length = len(string)\n",
    "        shortest_string = [string]\n",
    "        \n",
    "        \n",
    "    elif len(string) == length:\n",
    "        shortest_string.append(string)\n",
    "        \n",
    "print(shortest_string)\n"
   ]
  },
  {
   "cell_type": "markdown",
   "id": "3aefa7c3",
   "metadata": {},
   "source": [
    "# Write a Python code snippet that finds and prints the largest even number in the list. If there are no even numbers in the list, print a message indicating that."
   ]
  },
  {
   "cell_type": "code",
   "execution_count": 4,
   "id": "a486d81c",
   "metadata": {},
   "outputs": [
    {
     "name": "stdout",
     "output_type": "stream",
     "text": [
      "No even numbers found in the list\n"
     ]
    }
   ],
   "source": [
    "l = [5, 7, 3, 1, 7, 3, 1]\n",
    "\n",
    "largest_even = None\n",
    "\n",
    "for i in l:\n",
    "    if i % 2 == 0 and i > largest_even:\n",
    "        largest_even = i\n",
    "    \n",
    "if largest_even is not None:\n",
    "    print('The largest even number from the list is',largest_even)\n",
    "    \n",
    "else:\n",
    "    print('No even numbers found in the list')"
   ]
  },
  {
   "cell_type": "markdown",
   "id": "7efdc226",
   "metadata": {},
   "source": [
    "# Write a Python code snippet that finds and prints the longest string in the list. If there are multiple strings with the same longest length, print all of them."
   ]
  },
  {
   "cell_type": "code",
   "execution_count": 1,
   "id": "3a6c3bfd",
   "metadata": {},
   "outputs": [
    {
     "name": "stdout",
     "output_type": "stream",
     "text": [
      "['banana', 'orange']\n"
     ]
    }
   ],
   "source": [
    "strings = ['apple', 'banana', 'pear', 'orange', 'kiwi']\n",
    "\n",
    "length = len(strings[0])\n",
    "\n",
    "shortest_string = [strings[0]]\n",
    "\n",
    "\n",
    "for string in strings:\n",
    "    if len(string) > length:\n",
    "        length = len(string)\n",
    "        shortest_string = [string]\n",
    "        \n",
    "        \n",
    "    elif len(string) == length:\n",
    "        shortest_string.append(string)\n",
    "        \n",
    "print(shortest_string)\n",
    "\n"
   ]
  },
  {
   "cell_type": "markdown",
   "id": "d4d20f6b",
   "metadata": {},
   "source": [
    "# Write a Python code snippet that finds and prints the sum of all the even numbers in the list."
   ]
  },
  {
   "cell_type": "code",
   "execution_count": 5,
   "id": "9b000b88",
   "metadata": {},
   "outputs": [
    {
     "name": "stdout",
     "output_type": "stream",
     "text": [
      "26\n"
     ]
    }
   ],
   "source": [
    "l = [3, 8, 5, 12, 7, 6, 1]\n",
    "sum = 0\n",
    "\n",
    "for i in l:\n",
    "    if i%2==0:\n",
    "        sum = sum + i\n",
    "                \n",
    "print(sum)\n",
    "        \n",
    "\n",
    "    "
   ]
  },
  {
   "cell_type": "markdown",
   "id": "43572943",
   "metadata": {},
   "source": [
    "# Write a Python code snippet that finds and prints the second largest number in the list."
   ]
  },
  {
   "cell_type": "code",
   "execution_count": 8,
   "id": "6f8f53bc",
   "metadata": {},
   "outputs": [
    {
     "name": "stdout",
     "output_type": "stream",
     "text": [
      "First Largest Number: 55\n",
      "Second Largest Number: 12\n",
      "Third Largest Number: 8\n"
     ]
    }
   ],
   "source": [
    "lst = [55, 8, 3, 12, 7, 6, 1]\n",
    "\n",
    "max1 = lst[0]\n",
    "\n",
    "max2 = lst[1]\n",
    "\n",
    "max3 = lst[2]\n",
    "\n",
    "\n",
    "for num in lst:\n",
    "    if num > max1:\n",
    "        max3 = max2\n",
    "        max2 = max1\n",
    "        max1 = num\n",
    "        \n",
    "    elif num > max2 and num != mx1:\n",
    "        max2 = num\n",
    "        \n",
    "    elif num > max3 and num != mx1:\n",
    "        max3 = num\n",
    "        \n",
    "print('First Largest Number:', max1)\n",
    "print('Second Largest Number:', max2)\n",
    "print('Third Largest Number:', max3)"
   ]
  },
  {
   "cell_type": "markdown",
   "id": "0af6f667",
   "metadata": {},
   "source": [
    "# Write a Python code snippet to find and print the product of all the positive numbers in the list."
   ]
  },
  {
   "cell_type": "code",
   "execution_count": 9,
   "id": "8dbaae46",
   "metadata": {},
   "outputs": [
    {
     "name": "stdout",
     "output_type": "stream",
     "text": [
      "384\n"
     ]
    }
   ],
   "source": [
    "lst = [2, -3, 4, -5, 6, -7, 8]\n",
    "\n",
    "pro = 1\n",
    "\n",
    "for i in lst:\n",
    "    if i > 0:\n",
    "        pro = pro * i\n",
    "        \n",
    "print(pro)"
   ]
  },
  {
   "cell_type": "markdown",
   "id": "2ce80684",
   "metadata": {},
   "source": [
    "# Write a Python code snippet to find and print the average of all the numbers in the list."
   ]
  },
  {
   "cell_type": "code",
   "execution_count": 10,
   "id": "7d439621",
   "metadata": {},
   "outputs": [
    {
     "name": "stdout",
     "output_type": "stream",
     "text": [
      "The average of all number is 6.0\n"
     ]
    }
   ],
   "source": [
    "lst =  [5, 8, 3, 12, 7, 6, 1]\n",
    "sum = 0\n",
    "count = 0\n",
    "\n",
    "for i in  lst:\n",
    "    sum = sum + i\n",
    "    count = count + 1\n",
    "    \n",
    "if count > 0:\n",
    "    avg = sum / count\n",
    "    print(\"The average of all number is\", avg)\n",
    "    \n",
    "else:\n",
    "    print(\"None\")\n",
    "    "
   ]
  },
  {
   "cell_type": "markdown",
   "id": "800a27c1",
   "metadata": {},
   "source": [
    "# Write a Python code snippet to find and print the frequency of each unique number in the list."
   ]
  },
  {
   "cell_type": "code",
   "execution_count": 3,
   "id": "2cc505ee",
   "metadata": {},
   "outputs": [
    {
     "name": "stdout",
     "output_type": "stream",
     "text": [
      "Number 2 appears 3 times\n",
      "Number 5 appears 3 times\n",
      "Number 3 appears 2 times\n",
      "Number 8 appears 1 times\n",
      "Number 7 appears 1 times\n"
     ]
    }
   ],
   "source": [
    "lst = [2, 5, 3, 2, 8, 5, 7, 2, 3, 5]\n",
    "\n",
    "res = {}\n",
    "\n",
    "for i in lst:\n",
    "    if i in res:\n",
    "        res[i] +=1\n",
    "        \n",
    "    else:\n",
    "        res[i] = 1\n",
    "        \n",
    "        \n",
    "for num, count in res.items():\n",
    "    print(\"Number\", num, \"appears\", count, \"times\")"
   ]
  },
  {
   "cell_type": "markdown",
   "id": "02a45409",
   "metadata": {},
   "source": [
    "# Write a Python code snippet to find and print the maximum difference between any two numbers in the list."
   ]
  },
  {
   "cell_type": "code",
   "execution_count": 11,
   "id": "b3133b4d",
   "metadata": {},
   "outputs": [
    {
     "name": "stdout",
     "output_type": "stream",
     "text": [
      "19\n"
     ]
    }
   ],
   "source": [
    "lst = [20, 5, 8, 3, 12, 7, 6, 1]\n",
    "\n",
    "max = lst[0]\n",
    "min = lst[1]\n",
    "\n",
    "for i in lst:\n",
    "    if i > max:\n",
    "        max = i\n",
    "        \n",
    "    if i < min:\n",
    "        min = i\n",
    "        \n",
    "diff = max - min\n",
    "\n",
    "print(diff)\n",
    "        \n",
    "        \n",
    "    "
   ]
  },
  {
   "cell_type": "markdown",
   "id": "d08786b1",
   "metadata": {},
   "source": [
    "# Write a Python code snippet to count the number of vowels (a, e, i, o, u) in each string of the list."
   ]
  },
  {
   "cell_type": "code",
   "execution_count": null,
   "id": "916cf25b",
   "metadata": {},
   "outputs": [],
   "source": [
    "lst = [\"apple\", \"banana\", \"pear\", \"orange\", \"grapefruit\"]\n",
    "\n"
   ]
  },
  {
   "cell_type": "markdown",
   "id": "bd9b0fc4",
   "metadata": {},
   "source": [
    "# Write a Python code snippet to group the positive and negative numbers separately in separate lists, maintaining their relative order in the original list."
   ]
  },
  {
   "cell_type": "code",
   "execution_count": 1,
   "id": "4d5f004a",
   "metadata": {},
   "outputs": [
    {
     "name": "stdout",
     "output_type": "stream",
     "text": [
      "[1, 3, 5]\n",
      "[-2, -4, -6]\n"
     ]
    }
   ],
   "source": [
    "l = [1, -2, 3, -4, 5, -6]\n",
    "p = []\n",
    "n = []\n",
    "\n",
    "for i in l:\n",
    "    if i > 0:\n",
    "        p.append(i)\n",
    "    else:\n",
    "        n.append(i)\n",
    "        \n",
    "print(p)\n",
    "print(n)\n"
   ]
  },
  {
   "cell_type": "markdown",
   "id": "3f383f77",
   "metadata": {},
   "source": [
    "# Write a Python code snippet to find and print the second smallest number in the list."
   ]
  },
  {
   "cell_type": "code",
   "execution_count": 6,
   "id": "bac694c9",
   "metadata": {},
   "outputs": [
    {
     "name": "stdout",
     "output_type": "stream",
     "text": [
      "The seconde smallest number in the list: 2\n"
     ]
    }
   ],
   "source": [
    "l = [1, 5, 2, 9, 1, 7, 3]\n",
    "\n",
    "min1 = l[0]\n",
    "min2 = l[1]\n",
    "\n",
    "for i in l:\n",
    "    if i < min1:\n",
    "        min2 = min1\n",
    "        min1 = i\n",
    "        \n",
    "    elif i < min2 and i != min1:\n",
    "        min2 = i\n",
    "        \n",
    "print(\"The seconde smallest number in the list:\", min2)"
   ]
  },
  {
   "cell_type": "markdown",
   "id": "b0e012a4",
   "metadata": {},
   "source": [
    "# Write a Python code snippet to find and print the two numbers from the list that have the maximum sum."
   ]
  },
  {
   "cell_type": "code",
   "execution_count": 3,
   "id": "b2ee3156",
   "metadata": {},
   "outputs": [
    {
     "name": "stdout",
     "output_type": "stream",
     "text": [
      "The two numbers with the maximum sum are 8 and 10\n"
     ]
    }
   ],
   "source": [
    "l = [2, 5, 3, 8, 10, 1]\n",
    "max_sum = 0\n",
    "l2 = []\n",
    "\n",
    "for i in range(len(l)):\n",
    "    for j in range(i + 1, len(l)):\n",
    "        sum = l[i] + l[j]\n",
    "        if sum > max_sum:\n",
    "            max_sum = sum\n",
    "            l2 = l[i] , l[j]\n",
    "            \n",
    "print(\"The two numbers with the maximum sum are\", l2[0], \"and\", l2[1])\n",
    "    "
   ]
  },
  {
   "cell_type": "markdown",
   "id": "8f935f64",
   "metadata": {},
   "source": [
    "# Write a Python code snippet to find and print the count of distinct numbers in the list."
   ]
  },
  {
   "cell_type": "code",
   "execution_count": 8,
   "id": "f0f4c783",
   "metadata": {},
   "outputs": [
    {
     "name": "stdout",
     "output_type": "stream",
     "text": [
      "Unique values: [5, 2, 9, 1, 7, 3, 8]\n",
      "Duplicate vaues: [5, 2, 9]\n",
      "The count of distinct numbers in a list: 7\n"
     ]
    }
   ],
   "source": [
    "l = [5, 2, 9, 1, 7, 3, 5, 2, 8, 9]\n",
    "\n",
    "u = []\n",
    "d = []\n",
    "count = 0\n",
    "\n",
    "for i in l:\n",
    "    if i not in u:\n",
    "        u.append(i)\n",
    "        count += 1\n",
    "    else:\n",
    "        d.append(i)\n",
    "        \n",
    "print(\"Unique values:\", u)\n",
    "print(\"Duplicate vaues:\", d)\n",
    "print(\"The count of distinct numbers in a list:\", count)"
   ]
  },
  {
   "cell_type": "markdown",
   "id": "1fed9fdd",
   "metadata": {},
   "source": [
    "# Write a Python program to generate and print a list of the first and last 5 elements where the values are square numbers between 1 and 30 (both included)."
   ]
  },
  {
   "cell_type": "code",
   "execution_count": 5,
   "id": "1fe5a235",
   "metadata": {},
   "outputs": [
    {
     "name": "stdout",
     "output_type": "stream",
     "text": [
      "[1, 4, 9, 16, 25]\n",
      "[676, 729, 784, 841, 900]\n"
     ]
    }
   ],
   "source": [
    "l = []\n",
    "for i in range(1, 31):\n",
    "    power = i ** 2\n",
    "    l.append(power)\n",
    "    \n",
    "print(l[:5])\n",
    "print(l[-5:])"
   ]
  },
  {
   "cell_type": "markdown",
   "id": "44f4c5b3",
   "metadata": {},
   "source": [
    "# Write a Python program to check if each number is prime in a given list of numbers. Return True if all numbers are prime otherwise False."
   ]
  },
  {
   "cell_type": "code",
   "execution_count": 7,
   "id": "002101a8",
   "metadata": {},
   "outputs": [
    {
     "name": "stdout",
     "output_type": "stream",
     "text": [
      "All numbers are prime\n"
     ]
    }
   ],
   "source": [
    "l = [3, 5, 7, 13]\n",
    "\n",
    "all_prime = True\n",
    "\n",
    "for num in l:\n",
    "    if num < 2:\n",
    "        all_prime = False\n",
    "        break\n",
    "        \n",
    "    for i in range(2, num):\n",
    "        if num % i == 0:\n",
    "            all_prime = False\n",
    "            break\n",
    "            \n",
    "if all_prime:\n",
    "    print(\"All numbers are prime\")\n",
    "    \n",
    "else:\n",
    "    print(\"All numbers are not prime\")\n",
    "        "
   ]
  },
  {
   "cell_type": "markdown",
   "id": "abd304da",
   "metadata": {},
   "source": [
    "# Write a Python program to generate all permutations of a list in Python."
   ]
  },
  {
   "cell_type": "code",
   "execution_count": 8,
   "id": "81797e6a",
   "metadata": {},
   "outputs": [
    {
     "name": "stdout",
     "output_type": "stream",
     "text": [
      "[(1, 2, 3), (1, 3, 2), (2, 1, 3), (2, 3, 1), (3, 1, 2), (3, 2, 1)]\n"
     ]
    }
   ],
   "source": [
    "import itertools\n",
    "\n",
    "print(list(itertools.permutations([1, 2, 3])))"
   ]
  },
  {
   "cell_type": "markdown",
   "id": "c31ab330",
   "metadata": {},
   "source": [
    "# Write a Python program to calculate the difference between the two lists."
   ]
  },
  {
   "cell_type": "code",
   "execution_count": 13,
   "id": "0e7aedd7",
   "metadata": {},
   "outputs": [
    {
     "name": "stdout",
     "output_type": "stream",
     "text": [
      "[4, 6]\n"
     ]
    }
   ],
   "source": [
    "l1 = [2, 4, 6, 3, 5]\n",
    "l2 = [1, 3, 5, 2]\n",
    "\n",
    "l = list(set(l1) - set(l2))\n",
    "\n",
    "print(l)"
   ]
  },
  {
   "cell_type": "markdown",
   "id": "9c5ac07c",
   "metadata": {},
   "source": [
    "# Write a Python program to access the index of a list."
   ]
  },
  {
   "cell_type": "code",
   "execution_count": 14,
   "id": "2eeb94b8",
   "metadata": {},
   "outputs": [
    {
     "name": "stdout",
     "output_type": "stream",
     "text": [
      "Num 2 has 0 index\n",
      "Num 3 has 1 index\n",
      "Num 4 has 2 index\n",
      "Num 5 has 3 index\n"
     ]
    }
   ],
   "source": [
    "l = [2, 3, 4, 5]\n",
    "\n",
    "for index, value in enumeratemerate(l):\n",
    "    print(\"Num\", value, \"has\", index, \"index\")"
   ]
  },
  {
   "cell_type": "code",
   "execution_count": null,
   "id": "deace825",
   "metadata": {},
   "outputs": [],
   "source": []
  }
 ],
 "metadata": {
  "kernelspec": {
   "display_name": "Python 3 (ipykernel)",
   "language": "python",
   "name": "python3"
  },
  "language_info": {
   "codemirror_mode": {
    "name": "ipython",
    "version": 3
   },
   "file_extension": ".py",
   "mimetype": "text/x-python",
   "name": "python",
   "nbconvert_exporter": "python",
   "pygments_lexer": "ipython3",
   "version": "3.11.3"
  }
 },
 "nbformat": 4,
 "nbformat_minor": 5
}
