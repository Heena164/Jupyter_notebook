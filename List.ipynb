{
 "cells": [
  {
   "cell_type": "markdown",
   "id": "035a2534",
   "metadata": {},
   "source": [
    "# Creating a Python list"
   ]
  },
  {
   "cell_type": "code",
   "execution_count": 2,
   "id": "7dfb13e3",
   "metadata": {},
   "outputs": [
    {
     "name": "stdout",
     "output_type": "stream",
     "text": [
      "[2, 3, 4]\n"
     ]
    }
   ],
   "source": [
    "l = list((2, 3, 4))       #Using list Constructor\n",
    "print(l)"
   ]
  },
  {
   "cell_type": "code",
   "execution_count": 3,
   "id": "fa015e1f",
   "metadata": {},
   "outputs": [
    {
     "name": "stdout",
     "output_type": "stream",
     "text": [
      "[2, 3, 4]\n"
     ]
    }
   ],
   "source": [
    "l = [2, 3, 4]            #using square brackets\n",
    "print(l)"
   ]
  },
  {
   "cell_type": "code",
   "execution_count": 5,
   "id": "a9b6b6e6",
   "metadata": {},
   "outputs": [
    {
     "name": "stdout",
     "output_type": "stream",
     "text": [
      "[]\n",
      "<class 'list'>\n"
     ]
    }
   ],
   "source": [
    "l = []                   #Empty list\n",
    "print(l)\n",
    "print(type(l))"
   ]
  },
  {
   "cell_type": "code",
   "execution_count": 6,
   "id": "8ebbced2",
   "metadata": {},
   "outputs": [
    {
     "name": "stdout",
     "output_type": "stream",
     "text": [
      "[1, 'Abc', 23.9]\n"
     ]
    }
   ],
   "source": [
    "l = [1, 'Abc', 23.90]   #with hetrogeneous items\n",
    "print(l)"
   ]
  },
  {
   "cell_type": "code",
   "execution_count": 7,
   "id": "84933561",
   "metadata": {},
   "outputs": [
    {
     "name": "stdout",
     "output_type": "stream",
     "text": [
      "[1, (2, 3), 9]\n"
     ]
    }
   ],
   "source": [
    "l = [1, (2, 3), 9]     \n",
    "print(l)"
   ]
  },
  {
   "cell_type": "code",
   "execution_count": 8,
   "id": "7dfd280e",
   "metadata": {},
   "outputs": [
    {
     "name": "stdout",
     "output_type": "stream",
     "text": [
      "[1, {2: 3}, 9]\n"
     ]
    }
   ],
   "source": [
    "l = [1, {2 : 3}, 9]\n",
    "print(l)"
   ]
  },
  {
   "cell_type": "markdown",
   "id": "1cbcd4d5",
   "metadata": {},
   "source": [
    "# Length of a List"
   ]
  },
  {
   "cell_type": "code",
   "execution_count": 9,
   "id": "e3bae5ec",
   "metadata": {},
   "outputs": [
    {
     "name": "stdout",
     "output_type": "stream",
     "text": [
      "3\n"
     ]
    }
   ],
   "source": [
    "print(len(l))"
   ]
  },
  {
   "cell_type": "markdown",
   "id": "2a11514d",
   "metadata": {},
   "source": [
    "# Accessing items of a List"
   ]
  },
  {
   "cell_type": "code",
   "execution_count": 12,
   "id": "fe4b4e01",
   "metadata": {},
   "outputs": [
    {
     "name": "stdout",
     "output_type": "stream",
     "text": [
      "sarfraz\n",
      "10\n"
     ]
    },
    {
     "ename": "IndexError",
     "evalue": "list index out of range",
     "output_type": "error",
     "traceback": [
      "\u001b[1;31m---------------------------------------------------------------------------\u001b[0m",
      "\u001b[1;31mIndexError\u001b[0m                                Traceback (most recent call last)",
      "Cell \u001b[1;32mIn[12], line 4\u001b[0m\n\u001b[0;32m      2\u001b[0m \u001b[38;5;28mprint\u001b[39m(l[\u001b[38;5;241m2\u001b[39m])\n\u001b[0;32m      3\u001b[0m \u001b[38;5;28mprint\u001b[39m(l[\u001b[38;5;241m0\u001b[39m])\n\u001b[1;32m----> 4\u001b[0m \u001b[38;5;28mprint\u001b[39m(\u001b[43ml\u001b[49m\u001b[43m[\u001b[49m\u001b[38;5;241;43m9\u001b[39;49m\u001b[43m]\u001b[49m)\n",
      "\u001b[1;31mIndexError\u001b[0m: list index out of range"
     ]
    }
   ],
   "source": [
    "l = [10, 20, 'sarfraz', 12.50, 'suhail']     #using Indexing\n",
    "print(l[2])\n",
    "print(l[0])\n",
    "print(l[9])"
   ]
  },
  {
   "cell_type": "code",
   "execution_count": 14,
   "id": "ecf57032",
   "metadata": {},
   "outputs": [
    {
     "name": "stdout",
     "output_type": "stream",
     "text": [
      "[10, 20, 'sarfraz', 12.5, 'suhail', 20, 19, 'ABC']\n",
      "[20, 'sarfraz', 12.5, 'suhail', 20, 19, 'ABC']\n",
      "['sarfraz', 12.5, 'suhail', 20, 19, 'ABC']\n",
      "[20, 'sarfraz', 12.5]\n",
      "[12.5, 'suhail', 20, 19]\n",
      "[12.5, 'suhail', 20, 19, 'ABC']\n",
      "['sarfraz', 'suhail', 19]\n"
     ]
    }
   ],
   "source": [
    "l = [10, 20, 'sarfraz', 12.50, 'suhail', 20, 19, 'ABC']     #using slicing\n",
    "print(l[0:])\n",
    "print(l[1:])\n",
    "print(l[2:])\n",
    "print(l[1:4])\n",
    "print(l[3:7])\n",
    "print(l[3:10])\n",
    "print(l[2:8:2])"
   ]
  },
  {
   "cell_type": "markdown",
   "id": "6d4c5a09",
   "metadata": {},
   "source": [
    "# Write a Python program to sum all the items in a list."
   ]
  },
  {
   "cell_type": "code",
   "execution_count": 3,
   "id": "c6f510c7",
   "metadata": {},
   "outputs": [
    {
     "name": "stdout",
     "output_type": "stream",
     "text": [
      "Sum is:  12\n"
     ]
    }
   ],
   "source": [
    "lst = [3, 3, 3, 3]\n",
    "\n",
    "sum1 = 0\n",
    "\n",
    "for i in lst:\n",
    "    sum1 = sum1 + i\n",
    "    \n",
    "print(\"Sum is: \", sum1)"
   ]
  },
  {
   "cell_type": "markdown",
   "id": "dec8ca95",
   "metadata": {},
   "source": [
    "# Write a Python program to multiply all the items in a list."
   ]
  },
  {
   "cell_type": "code",
   "execution_count": 5,
   "id": "1972d220",
   "metadata": {},
   "outputs": [
    {
     "name": "stdout",
     "output_type": "stream",
     "text": [
      "Multiple of all items in the list are:  6\n"
     ]
    }
   ],
   "source": [
    "lst = [2, 3]\n",
    "\n",
    "mul = 1\n",
    "\n",
    "for i in lst:\n",
    "    mul = mul * i\n",
    "    \n",
    "print('Multiple of all items in the list are: ', mul)"
   ]
  },
  {
   "cell_type": "markdown",
   "id": "11142ccd",
   "metadata": {},
   "source": [
    "# Write a Python program to get the largest number from a list."
   ]
  },
  {
   "cell_type": "code",
   "execution_count": 15,
   "id": "04597cf7",
   "metadata": {},
   "outputs": [
    {
     "name": "stdout",
     "output_type": "stream",
     "text": [
      "89\n"
     ]
    }
   ],
   "source": [
    "lst = [23, 45, 89, 54, 12, 67]\n",
    "\n",
    "mx = lst[0]\n",
    "\n",
    "for i in lst:\n",
    "    if i>mx:\n",
    "        mx = i\n",
    "print('Largest Number is :',mx)"
   ]
  },
  {
   "cell_type": "markdown",
   "id": "83ad113d",
   "metadata": {},
   "source": [
    "# Write a Python program to get the smallest number from a list."
   ]
  },
  {
   "cell_type": "code",
   "execution_count": 17,
   "id": "26135c9e",
   "metadata": {},
   "outputs": [
    {
     "name": "stdout",
     "output_type": "stream",
     "text": [
      "12\n"
     ]
    }
   ],
   "source": [
    "lst = [23, 45, 89, 54, 12, 67]\n",
    "\n",
    "mi = lst[0]\n",
    "\n",
    "for i in lst:\n",
    "    if i < mi:\n",
    "        mi = i\n",
    "        \n",
    "print(mi)"
   ]
  },
  {
   "cell_type": "markdown",
   "id": "4ff23702",
   "metadata": {},
   "source": [
    "# Write a Python program to count the number of strings from a given list of strings. The string length is 2 or more and the first and last characters are the same."
   ]
  },
  {
   "cell_type": "code",
   "execution_count": 25,
   "id": "03d6ee6c",
   "metadata": {},
   "outputs": [
    {
     "name": "stdout",
     "output_type": "stream",
     "text": [
      "2\n"
     ]
    }
   ],
   "source": [
    "lst = ['abc', 'xyz', 'aba', '1221']\n",
    "\n",
    "count = 0\n",
    "\n",
    "for i in lst:\n",
    "    if len(i) > 1 and i[0] == i[-1]:\n",
    "        count = count + 1\n",
    "        \n",
    "print(count)"
   ]
  },
  {
   "cell_type": "code",
   "execution_count": null,
   "id": "263e5ad3",
   "metadata": {},
   "outputs": [],
   "source": []
  }
 ],
 "metadata": {
  "kernelspec": {
   "display_name": "Python 3 (ipykernel)",
   "language": "python",
   "name": "python3"
  },
  "language_info": {
   "codemirror_mode": {
    "name": "ipython",
    "version": 3
   },
   "file_extension": ".py",
   "mimetype": "text/x-python",
   "name": "python",
   "nbconvert_exporter": "python",
   "pygments_lexer": "ipython3",
   "version": "3.11.2"
  }
 },
 "nbformat": 4,
 "nbformat_minor": 5
}
