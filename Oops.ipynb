{
 "cells": [
  {
   "cell_type": "markdown",
   "id": "812a9e88",
   "metadata": {},
   "source": [
    "# Define a class in Python"
   ]
  },
  {
   "cell_type": "code",
   "execution_count": null,
   "id": "3f204249",
   "metadata": {},
   "outputs": [],
   "source": [
    "class Person:\n",
    "    \n",
    "    def __init__(self, name, age, profession):\n",
    "        #data members (instance variables)\n",
    "        self.name = name\n",
    "        self.age = age\n",
    "        \n",
    "    #Behaviour (instance method)    \n",
    "    def show(self):\n",
    "        print('Name:', self.name, 'Age': self.age)\n",
    "        \n",
    "        \n",
    "    def show(self):\n",
    "        print('Working as', self.profession, 'in ABC company')\n",
    "        \n",
    "        \n"
   ]
  }
 ],
 "metadata": {
  "kernelspec": {
   "display_name": "Python 3 (ipykernel)",
   "language": "python",
   "name": "python3"
  },
  "language_info": {
   "codemirror_mode": {
    "name": "ipython",
    "version": 3
   },
   "file_extension": ".py",
   "mimetype": "text/x-python",
   "name": "python",
   "nbconvert_exporter": "python",
   "pygments_lexer": "ipython3",
   "version": "3.11.3"
  }
 },
 "nbformat": 4,
 "nbformat_minor": 5
}
