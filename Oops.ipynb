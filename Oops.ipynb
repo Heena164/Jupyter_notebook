{
 "cells": [
  {
   "cell_type": "markdown",
   "id": "812a9e88",
   "metadata": {},
   "source": [
    "# Define a class in Python"
   ]
  },
  {
   "cell_type": "code",
   "execution_count": 8,
   "id": "3f204249",
   "metadata": {},
   "outputs": [
    {
     "name": "stdout",
     "output_type": "stream",
     "text": [
      "Name: ABC Age: 21\n",
      "Working as PQR\n"
     ]
    }
   ],
   "source": [
    "class Person:\n",
    "    \n",
    "    def __init__(self, name, age, profession):\n",
    "        #data members (instance variables)\n",
    "        self.name = name\n",
    "        self.age = age\n",
    "        self.profession = profession\n",
    "        \n",
    "    #Behaviour (instance method)    \n",
    "    def show(self):\n",
    "        print('Name:', self.name, 'Age:', self.age)\n",
    "        \n",
    "        \n",
    "    def work(self):\n",
    "        print('Working as', self.profession)\n",
    "        \n",
    "        \n",
    "#create instance of a class\n",
    "obj1 = Person('ABC', 21, 'PQR')\n",
    "\n",
    "\n",
    "#call methods\n",
    "obj1.show()\n",
    "obj1.work()\n",
    "        \n",
    "        \n"
   ]
  },
  {
   "cell_type": "markdown",
   "id": "0c290a74",
   "metadata": {},
   "source": [
    "# Modify object properties"
   ]
  },
  {
   "cell_type": "code",
   "execution_count": 1,
   "id": "e5f157a9",
   "metadata": {},
   "outputs": [
    {
     "name": "stdout",
     "output_type": "stream",
     "text": [
      "Name: Aman Age: 21\n",
      "Working as PQR\n"
     ]
    }
   ],
   "source": [
    "class Person:\n",
    "    \n",
    "    def __init__(self, name, age, profession):\n",
    "        #data members (instance variables)\n",
    "        self.name = name\n",
    "        self.age = age\n",
    "        self.profession = profession\n",
    "        \n",
    "    #Behaviour (instance method)    \n",
    "    def show(self):\n",
    "        print('Name:', self.name, 'Age:', self.age)\n",
    "        \n",
    "        \n",
    "    def work(self):\n",
    "        print('Working as', self.profession)\n",
    "        \n",
    "        \n",
    "#create instance of a class\n",
    "obj1 = Person('ABC', 21, 'PQR')\n",
    "\n",
    "#Modifying object properties\n",
    "obj1.name = 'Aman'\n",
    "\n",
    "#call methods\n",
    "obj1.show()\n",
    "obj1.work()"
   ]
  },
  {
   "cell_type": "markdown",
   "id": "8c74331c",
   "metadata": {},
   "source": [
    "# Delete bject properties"
   ]
  },
  {
   "cell_type": "code",
   "execution_count": 2,
   "id": "41b4183c",
   "metadata": {},
   "outputs": [
    {
     "ename": "AttributeError",
     "evalue": "'Person' object has no attribute 'name'",
     "output_type": "error",
     "traceback": [
      "\u001b[1;31m---------------------------------------------------------------------------\u001b[0m",
      "\u001b[1;31mAttributeError\u001b[0m                            Traceback (most recent call last)",
      "Cell \u001b[1;32mIn[2], line 28\u001b[0m\n\u001b[0;32m     25\u001b[0m \u001b[38;5;28;01mdel\u001b[39;00m obj1\u001b[38;5;241m.\u001b[39mname\n\u001b[0;32m     27\u001b[0m \u001b[38;5;66;03m#call methods\u001b[39;00m\n\u001b[1;32m---> 28\u001b[0m \u001b[43mobj1\u001b[49m\u001b[38;5;241;43m.\u001b[39;49m\u001b[43mshow\u001b[49m\u001b[43m(\u001b[49m\u001b[43m)\u001b[49m\n\u001b[0;32m     29\u001b[0m obj1\u001b[38;5;241m.\u001b[39mwork()\n",
      "Cell \u001b[1;32mIn[2], line 11\u001b[0m, in \u001b[0;36mPerson.show\u001b[1;34m(self)\u001b[0m\n\u001b[0;32m     10\u001b[0m \u001b[38;5;28;01mdef\u001b[39;00m \u001b[38;5;21mshow\u001b[39m(\u001b[38;5;28mself\u001b[39m):\n\u001b[1;32m---> 11\u001b[0m     \u001b[38;5;28mprint\u001b[39m(\u001b[38;5;124m'\u001b[39m\u001b[38;5;124mName:\u001b[39m\u001b[38;5;124m'\u001b[39m, \u001b[38;5;28;43mself\u001b[39;49m\u001b[38;5;241;43m.\u001b[39;49m\u001b[43mname\u001b[49m, \u001b[38;5;124m'\u001b[39m\u001b[38;5;124mAge:\u001b[39m\u001b[38;5;124m'\u001b[39m, \u001b[38;5;28mself\u001b[39m\u001b[38;5;241m.\u001b[39mage)\n",
      "\u001b[1;31mAttributeError\u001b[0m: 'Person' object has no attribute 'name'"
     ]
    }
   ],
   "source": [
    "class Person:\n",
    "    \n",
    "    def __init__(self, name, age, profession):\n",
    "        #data members (instance variables)\n",
    "        self.name = name\n",
    "        self.age = age\n",
    "        self.profession = profession\n",
    "        \n",
    "    #Behaviour (instance method)    \n",
    "    def show(self):\n",
    "        print('Name:', self.name, 'Age:', self.age)\n",
    "        \n",
    "        \n",
    "    def work(self):\n",
    "        print('Working as', self.profession)\n",
    "        \n",
    "        \n",
    "#create instance of a class\n",
    "obj1 = Person('ABC', 21, 'PQR')\n",
    "\n",
    "#Modifying object properties\n",
    "obj1.name = 'Aman'\n",
    "\n",
    "#Delete Object properties\n",
    "del obj1.name\n",
    "\n",
    "#call methods\n",
    "obj1.show()\n",
    "obj1.work()"
   ]
  },
  {
   "cell_type": "markdown",
   "id": "82208c02",
   "metadata": {},
   "source": [
    "# Instance variable"
   ]
  },
  {
   "cell_type": "code",
   "execution_count": 2,
   "id": "58e806bb",
   "metadata": {},
   "outputs": [
    {
     "name": "stdout",
     "output_type": "stream",
     "text": [
      "Name: ABC Age: 22\n",
      "Leave in: Sakinaka\n"
     ]
    }
   ],
   "source": [
    "class Person:\n",
    "    #contructor\n",
    "    def __init__(self, name, age, add):\n",
    "        #Instance variable\n",
    "        self.name = name\n",
    "        self.age = age\n",
    "        self.add = add\n",
    "    #Instance method \n",
    "    def show(self):\n",
    "        print('Name:', self.name, 'Age:', self.age)\n",
    "        \n",
    "    def show1(self):\n",
    "        print('Leave in:', self.add)\n",
    "        \n",
    "p1 = Person('ABC', 22, 'Sakinaka')\n",
    "p1.show()\n",
    "p1.show1()\n",
    "\n",
    "p2 = Person('')"
   ]
  },
  {
   "cell_type": "markdown",
   "id": "ef05affd",
   "metadata": {},
   "source": [
    "# Inheritance"
   ]
  },
  {
   "cell_type": "markdown",
   "id": "709bb994",
   "metadata": {},
   "source": [
    "## Single Inheritance"
   ]
  },
  {
   "cell_type": "code",
   "execution_count": 8,
   "id": "eb123cf1",
   "metadata": {},
   "outputs": [
    {
     "name": "stdout",
     "output_type": "stream",
     "text": [
      "The vehicle is a parent class\n",
      "The car is a child class\n"
     ]
    }
   ],
   "source": [
    "#Base Class\n",
    "class Vehicle:\n",
    "    def Vehicle_info(self):\n",
    "        print(\"The vehicle is a parent class\")\n",
    "   \n",
    "\n",
    "\n",
    "#Child Class\n",
    "class Car(Vehicle):\n",
    "    def Car_info(self):\n",
    "        print(\"The car is a child class\")\n",
    "\n",
    "#creating object of a car\n",
    "car = Car()\n",
    "\n",
    "\n",
    "# access Vehicle's info using car object\n",
    "car.Vehicle_info()\n",
    "car.Car_info()\n"
   ]
  },
  {
   "cell_type": "markdown",
   "id": "f2326e96",
   "metadata": {},
   "source": [
    "## Multiple Inheritance"
   ]
  },
  {
   "cell_type": "code",
   "execution_count": 9,
   "id": "4a0f1eb3",
   "metadata": {},
   "outputs": [
    {
     "name": "stdout",
     "output_type": "stream",
     "text": [
      "Name: Aman Age: 22\n",
      "Company name: Wipro Location: Powai\n",
      "Employee Designation: Developer Salary: 350000\n"
     ]
    }
   ],
   "source": [
    "#Parent class 1\n",
    "\n",
    "class Person:\n",
    "    def person_info(self, name, age):\n",
    "        print(\"Name:\", name, 'Age:', age)\n",
    "        \n",
    "class Company:\n",
    "    def company_info(self, comp_name, location):\n",
    "        print(\"Company name:\", comp_name, \"Location:\", location)\n",
    "         \n",
    "        \n",
    "class Employee(Person, Company):\n",
    "    def employee_info(self, designation, salary):\n",
    "        print(\"Employee Designation:\", designation, \"Salary:\", salary)\n",
    "        \n",
    "        \n",
    "emp = Employee()\n",
    "\n",
    "emp.person_info('Aman', 22)\n",
    "emp.company_info('Wipro', 'Powai')\n",
    "emp.employee_info('Developer', 350000)"
   ]
  },
  {
   "cell_type": "markdown",
   "id": "8fdbcdfa",
   "metadata": {},
   "source": [
    "# Abstraction"
   ]
  },
  {
   "cell_type": "code",
   "execution_count": 1,
   "id": "da20ff9a",
   "metadata": {},
   "outputs": [
    {
     "name": "stdout",
     "output_type": "stream",
     "text": [
      "The mileage is 30kmph\n",
      "The mileage is 27kmph \n",
      "The mileage is 25kmph \n",
      "The mileage is 24kmph \n"
     ]
    }
   ],
   "source": [
    "# Python program demonstrate  \n",
    "# abstract base class work \n",
    "  \n",
    "from abc import ABC, abstractmethod   \n",
    "class Car(ABC):   \n",
    "    def mileage(self):   \n",
    "        pass  \n",
    "  \n",
    "class Tesla(Car):   \n",
    "    def mileage(self):   \n",
    "        print(\"The mileage is 30kmph\")   \n",
    "class Suzuki(Car):   \n",
    "    def mileage(self):   \n",
    "        print(\"The mileage is 25kmph \")   \n",
    "class Duster(Car):   \n",
    "     def mileage(self):   \n",
    "          print(\"The mileage is 24kmph \")   \n",
    "  \n",
    "class Renault(Car):   \n",
    "    def mileage(self):   \n",
    "            print(\"The mileage is 27kmph \")   \n",
    "          \n",
    "# Driver code   \n",
    "t= Tesla ()   \n",
    "t.mileage()   \n",
    "  \n",
    "r = Renault()   \n",
    "r.mileage()   \n",
    "  \n",
    "s = Suzuki()   \n",
    "s.mileage()   \n",
    "d = Duster()   \n",
    "d.mileage()  "
   ]
  },
  {
   "cell_type": "code",
   "execution_count": 8,
   "id": "c822b568",
   "metadata": {},
   "outputs": [
    {
     "name": "stdout",
     "output_type": "stream",
     "text": [
      "Square have 4 sides\n",
      "Traingles have 3 sides\n"
     ]
    }
   ],
   "source": [
    "from abc import ABC, abstractmethod\n",
    "\n",
    "class Shapes(ABC):\n",
    "    def sides(self):\n",
    "        pass\n",
    "    \n",
    "    \n",
    "class Square(Shapes):\n",
    "    def sides(self):\n",
    "        print(\"Square have 4 sides\")\n",
    "        \n",
    "\n",
    "class Traingle(Shapes):\n",
    "    def sides(self):\n",
    "        print(\"Traingles have 3 sides\")\n",
    "        \n",
    "        \n",
    "s = Square()\n",
    "s.sides()\n",
    "       \n",
    "t = Traingle()\n",
    "t.sides()"
   ]
  },
  {
   "cell_type": "code",
   "execution_count": null,
   "id": "c186f914",
   "metadata": {},
   "outputs": [],
   "source": []
  }
 ],
 "metadata": {
  "kernelspec": {
   "display_name": "Python 3 (ipykernel)",
   "language": "python",
   "name": "python3"
  },
  "language_info": {
   "codemirror_mode": {
    "name": "ipython",
    "version": 3
   },
   "file_extension": ".py",
   "mimetype": "text/x-python",
   "name": "python",
   "nbconvert_exporter": "python",
   "pygments_lexer": "ipython3",
   "version": "3.11.3"
  }
 },
 "nbformat": 4,
 "nbformat_minor": 5
}
