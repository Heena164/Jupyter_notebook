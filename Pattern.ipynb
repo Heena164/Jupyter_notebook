{
 "cells": [
  {
   "cell_type": "markdown",
   "id": "7dd340b2",
   "metadata": {},
   "source": [
    "## Python program to print the following simple number pattern using a for loop"
   ]
  },
  {
   "cell_type": "code",
   "execution_count": 8,
   "id": "c6574f6f",
   "metadata": {},
   "outputs": [
    {
     "name": "stdout",
     "output_type": "stream",
     "text": [
      "0 0 0 0 0 0  \n",
      "1 1 1 1 1 1  \n",
      "2 2 2 2 2 2  \n",
      "3 3 3 3 3 3  \n",
      "4 4 4 4 4 4  \n",
      "5 5 5 5 5 5  \n"
     ]
    }
   ],
   "source": [
    "row = 6\n",
    "\n",
    "for i in range(row):\n",
    "    for j in range(row):\n",
    "        print(i, end = ' ')\n",
    "    print(' ')"
   ]
  },
  {
   "cell_type": "code",
   "execution_count": 24,
   "id": "5ff6457c",
   "metadata": {},
   "outputs": [
    {
     "name": "stdout",
     "output_type": "stream",
     "text": [
      " \n",
      "1  \n",
      "2 2  \n",
      "3 3 3  \n",
      "4 4 4 4  \n",
      "5 5 5 5 5  \n"
     ]
    }
   ],
   "source": [
    "row = 6\n",
    "\n",
    "for i in range(row):\n",
    "    for j in range(i):\n",
    "        print(i, end = ' ')\n",
    "    print(' ')"
   ]
  },
  {
   "cell_type": "code",
   "execution_count": 44,
   "id": "f1ad7b47",
   "metadata": {},
   "outputs": [
    {
     "name": "stdout",
     "output_type": "stream",
     "text": [
      "1  \n",
      "1 2  \n",
      "1 2 3  \n",
      "1 2 3 4  \n",
      "1 2 3 4 5  \n",
      "1 2 3 4 5 6  \n"
     ]
    }
   ],
   "source": [
    "row = 6\n",
    "for i in range(1, row + 1):\n",
    "    for j in range(1, i + 1):\n",
    "        print(j, end = ' ')\n",
    "        \n",
    "    print(' ')\n"
   ]
  },
  {
   "cell_type": "code",
   "execution_count": 1,
   "id": "ae6bd2f1",
   "metadata": {},
   "outputs": [
    {
     "name": "stdout",
     "output_type": "stream",
     "text": [
      " \n",
      "0  \n",
      "0 1  \n",
      "0 1 2  \n",
      "0 1 2 3  \n",
      "0 1 2 3 4  \n"
     ]
    }
   ],
   "source": [
    "row = 6\n",
    "\n",
    "for i in range(row):\n",
    "  for j in range(i):\n",
    "    print(j, end = ' ')\n",
    "  print(' ')"
   ]
  },
  {
   "cell_type": "code",
   "execution_count": 49,
   "id": "15ede5e1",
   "metadata": {
    "scrolled": true
   },
   "outputs": [
    {
     "name": "stdout",
     "output_type": "stream",
     "text": [
      "1\n",
      "22\n",
      "333\n",
      "4444\n",
      "55555\n"
     ]
    }
   ],
   "source": [
    "a=5\n",
    "for i in range(1,a+1):\n",
    "    print(i*str(i))"
   ]
  },
  {
   "cell_type": "code",
   "execution_count": 5,
   "id": "9ef4708d",
   "metadata": {
    "scrolled": true
   },
   "outputs": [
    {
     "name": "stdout",
     "output_type": "stream",
     "text": [
      "\n",
      " * \n",
      " *  * \n",
      " *  *  * \n",
      " *  *  *  * \n",
      " *  *  *  *  * \n"
     ]
    }
   ],
   "source": [
    "a=5\n",
    "for i in range(0,a+1):\n",
    "    print(\" * \"*i)"
   ]
  },
  {
   "cell_type": "code",
   "execution_count": 3,
   "id": "a5475be4",
   "metadata": {},
   "outputs": [
    {
     "name": "stdout",
     "output_type": "stream",
     "text": [
      "* * * * * \n",
      "* * * * \n",
      "* * * \n",
      "* * \n",
      "* \n"
     ]
    }
   ],
   "source": [
    "n = 5\n",
    "\n",
    "for i in range(n):\n",
    "    for j in range(n - i):\n",
    "        print('*', end=' ')\n",
    "    print('')"
   ]
  },
  {
   "cell_type": "code",
   "execution_count": null,
   "id": "39f5bea3",
   "metadata": {},
   "outputs": [],
   "source": []
  }
 ],
 "metadata": {
  "kernelspec": {
   "display_name": "Python 3 (ipykernel)",
   "language": "python",
   "name": "python3"
  },
  "language_info": {
   "codemirror_mode": {
    "name": "ipython",
    "version": 3
   },
   "file_extension": ".py",
   "mimetype": "text/x-python",
   "name": "python",
   "nbconvert_exporter": "python",
   "pygments_lexer": "ipython3",
   "version": "3.11.3"
  }
 },
 "nbformat": 4,
 "nbformat_minor": 5
}
