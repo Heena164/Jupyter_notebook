{
 "cells": [
  {
   "cell_type": "code",
   "execution_count": 7,
   "id": "5e32a8d2",
   "metadata": {},
   "outputs": [
    {
     "name": "stdout",
     "output_type": "stream",
     "text": [
      "{1, 4}\n",
      "{1, 2, 4}\n",
      "{1, 2, 3, 4, 5, 6}\n",
      "{1, 2, 3, 4, 5, 6, 7, 8, 10, 11, 12}\n"
     ]
    }
   ],
   "source": [
    "my_set = {1, 4}\n",
    "\n",
    "print(my_set)\n",
    "\n",
    "#to add single element\n",
    "my_set.add(2)\n",
    "print(my_set)\n",
    "\n",
    "#to add multiple element \n",
    "my_set.update([3, 5, 6])\n",
    "print(my_set)\n",
    "\n",
    "#to add list and set\n",
    "my_set.update([7, 8], {10, 11, 12})\n",
    "print(my_set)"
   ]
  },
  {
   "cell_type": "code",
   "execution_count": 22,
   "id": "4cd53177",
   "metadata": {},
   "outputs": [
    {
     "name": "stdout",
     "output_type": "stream",
     "text": [
      "{'e', 'l', 'a', 'p'}\n",
      "{'l', 'a', 'p'}\n"
     ]
    }
   ],
   "source": [
    "my_set = set(\"apple\") \n",
    "print(my_set)\n",
    "\n",
    "my_set.pop()\n",
    "print(my_set)"
   ]
  },
  {
   "cell_type": "markdown",
   "id": "34ac03ce",
   "metadata": {},
   "source": [
    "# Difference between discard, remove, pop and clear"
   ]
  },
  {
   "cell_type": "markdown",
   "id": "e2d9a653",
   "metadata": {},
   "source": [
    "## discard"
   ]
  },
  {
   "cell_type": "code",
   "execution_count": 16,
   "id": "b3b1dcb9",
   "metadata": {},
   "outputs": [
    {
     "name": "stdout",
     "output_type": "stream",
     "text": [
      "{1, 2, 3, 5, 6, 7, 8, 10, 11, 12}\n",
      "{1, 2, 3, 5, 6, 7, 8, 10, 11, 12}\n"
     ]
    }
   ],
   "source": [
    "s = {1, 2, 3, 4, 5, 6, 7, 8, 10, 11, 12}\n",
    "\n",
    "s.discard(4)\n",
    "print(s)\n",
    "\n",
    "#discard multiple items\n",
    "# s.discard({6, 7})\n",
    "# print(s)\n",
    "\n",
    "s.discard(13)\n",
    "print(s)"
   ]
  },
  {
   "cell_type": "markdown",
   "id": "b8326b1e",
   "metadata": {},
   "source": [
    "## remove"
   ]
  },
  {
   "cell_type": "code",
   "execution_count": 18,
   "id": "e5e12fc8",
   "metadata": {},
   "outputs": [
    {
     "name": "stdout",
     "output_type": "stream",
     "text": [
      "{1, 2, 3, 4, 5, 6, 8, 10, 11, 12}\n"
     ]
    },
    {
     "ename": "KeyError",
     "evalue": "13",
     "output_type": "error",
     "traceback": [
      "\u001b[1;31m---------------------------------------------------------------------------\u001b[0m",
      "\u001b[1;31mKeyError\u001b[0m                                  Traceback (most recent call last)",
      "Cell \u001b[1;32mIn[18], line 6\u001b[0m\n\u001b[0;32m      3\u001b[0m s\u001b[38;5;241m.\u001b[39mremove(\u001b[38;5;241m7\u001b[39m)\n\u001b[0;32m      4\u001b[0m \u001b[38;5;28mprint\u001b[39m(s)\n\u001b[1;32m----> 6\u001b[0m \u001b[43ms\u001b[49m\u001b[38;5;241;43m.\u001b[39;49m\u001b[43mremove\u001b[49m\u001b[43m(\u001b[49m\u001b[38;5;241;43m13\u001b[39;49m\u001b[43m)\u001b[49m\n\u001b[0;32m      7\u001b[0m \u001b[38;5;28mprint\u001b[39m(s)\n",
      "\u001b[1;31mKeyError\u001b[0m: 13"
     ]
    }
   ],
   "source": [
    "s = {1, 2, 3, 4, 5, 6, 7, 8, 10, 11, 12}\n",
    "\n",
    "s.remove(7)\n",
    "print(s)\n",
    "\n",
    "s.remove(13)\n",
    "print(s)"
   ]
  },
  {
   "cell_type": "markdown",
   "id": "1633e1b4",
   "metadata": {},
   "source": [
    "## pop"
   ]
  },
  {
   "cell_type": "code",
   "execution_count": 27,
   "id": "37481e25",
   "metadata": {},
   "outputs": [
    {
     "name": "stdout",
     "output_type": "stream",
     "text": [
      "{2, 3, 4, 5, 6, 7, 8, 10, 11, 12}\n",
      "{3, 4, 5, 6, 7, 8, 10, 11, 12}\n",
      "{4, 5, 6, 7, 8, 10, 11, 12}\n",
      "{5, 6, 7, 8, 10, 11, 12}\n"
     ]
    },
    {
     "ename": "TypeError",
     "evalue": "set.pop() takes no arguments (1 given)",
     "output_type": "error",
     "traceback": [
      "\u001b[1;31m---------------------------------------------------------------------------\u001b[0m",
      "\u001b[1;31mTypeError\u001b[0m                                 Traceback (most recent call last)",
      "Cell \u001b[1;32mIn[27], line 15\u001b[0m\n\u001b[0;32m     12\u001b[0m s\u001b[38;5;241m.\u001b[39mpop()\n\u001b[0;32m     13\u001b[0m \u001b[38;5;28mprint\u001b[39m(s)\n\u001b[1;32m---> 15\u001b[0m \u001b[43ms\u001b[49m\u001b[38;5;241;43m.\u001b[39;49m\u001b[43mpop\u001b[49m\u001b[43m(\u001b[49m\u001b[38;5;241;43m11\u001b[39;49m\u001b[43m)\u001b[49m\n\u001b[0;32m     16\u001b[0m \u001b[38;5;28mprint\u001b[39m(s)\n\u001b[0;32m     18\u001b[0m s\u001b[38;5;241m.\u001b[39mclear()\n",
      "\u001b[1;31mTypeError\u001b[0m: set.pop() takes no arguments (1 given)"
     ]
    }
   ],
   "source": [
    "s = {1,2, 3, 4, 5, 6, 7, 8, 10, 11, 12}\n",
    "\n",
    "s.pop()\n",
    "print(s)\n",
    "\n",
    "s.pop()\n",
    "print(s)\n",
    "\n",
    "s.pop()\n",
    "print(s)\n",
    "\n",
    "s.pop()\n",
    "print(s)\n",
    "\n",
    "s.pop(11)\n",
    "print(s)\n",
    "\n"
   ]
  },
  {
   "cell_type": "code",
   "execution_count": 28,
   "id": "319c2e23",
   "metadata": {},
   "outputs": [
    {
     "name": "stdout",
     "output_type": "stream",
     "text": [
      "set()\n"
     ]
    }
   ],
   "source": [
    "s.clear()\n",
    "print(s)"
   ]
  },
  {
   "cell_type": "markdown",
   "id": "95c4bfeb",
   "metadata": {},
   "source": [
    "# Python set operations"
   ]
  },
  {
   "cell_type": "markdown",
   "id": "addc79b9",
   "metadata": {},
   "source": [
    "## Union"
   ]
  },
  {
   "cell_type": "code",
   "execution_count": 33,
   "id": "678b859e",
   "metadata": {},
   "outputs": [
    {
     "name": "stdout",
     "output_type": "stream",
     "text": [
      "{1, 2, 3, 4, 5, 6, 7, 8}\n",
      "{1, 2, 3, 4, 5, 6, 7, 8}\n"
     ]
    }
   ],
   "source": [
    "A ={1, 2, 3, 4, 5}\n",
    "B = {4, 5, 6, 7, 8}\n",
    "\n",
    "C = A.union(B)\n",
    "print(C)\n",
    "\n",
    "print(A | B)"
   ]
  },
  {
   "cell_type": "markdown",
   "id": "a6689c10",
   "metadata": {},
   "source": [
    "## Intersection"
   ]
  },
  {
   "cell_type": "code",
   "execution_count": 34,
   "id": "cd4e2654",
   "metadata": {},
   "outputs": [
    {
     "name": "stdout",
     "output_type": "stream",
     "text": [
      "{4, 5}\n"
     ]
    }
   ],
   "source": [
    "A ={1, 2, 3, 4, 5}\n",
    "B = {4, 5, 6, 7, 8}\n",
    "\n",
    "print(A & B)"
   ]
  },
  {
   "cell_type": "markdown",
   "id": "59b4e2fd",
   "metadata": {},
   "source": [
    "## Intersection Update"
   ]
  },
  {
   "cell_type": "code",
   "execution_count": 46,
   "id": "92b205f2",
   "metadata": {},
   "outputs": [
    {
     "name": "stdout",
     "output_type": "stream",
     "text": [
      "C =  {4, 5}\n",
      "A =  {1, 2, 3, 4, 5}\n",
      "B = {4, 5, 6, 7, 8}\n",
      "A =  {4, 5}\n",
      "B = {4, 5, 6, 7, 8}\n",
      "B = {4, 5}\n",
      "A =  {4, 5}\n"
     ]
    }
   ],
   "source": [
    "A ={1, 2, 3, 4, 5}\n",
    "B = {4, 5, 6, 7, 8}\n",
    "\n",
    "C = A.intersection(B)\n",
    "print(\"C = \", C)\n",
    "\n",
    "print(\"A = \", A)\n",
    "print(\"B =\", B)\n",
    "\n",
    "A.intersection_update(B)\n",
    "print(\"A = \", A)\n",
    "print(\"B =\", B)\n",
    "\n",
    "B.intersection_update(A)\n",
    "print(\"B =\", B)\n",
    "print(\"A = \", A)\n"
   ]
  },
  {
   "cell_type": "code",
   "execution_count": null,
   "id": "7a64dfcb",
   "metadata": {},
   "outputs": [],
   "source": []
  },
  {
   "cell_type": "markdown",
   "id": "c04c96a6",
   "metadata": {},
   "source": [
    "# Write a Python code snippet to find and print the common elements between set A and set B."
   ]
  },
  {
   "cell_type": "code",
   "execution_count": 30,
   "id": "b297a9e8",
   "metadata": {},
   "outputs": [
    {
     "name": "stdout",
     "output_type": "stream",
     "text": [
      "{4, 5}\n"
     ]
    }
   ],
   "source": [
    "A ={1, 2, 3, 4, 5}\n",
    "B = {4, 5, 6, 7, 8}\n",
    "\n",
    "\n",
    "C = A.intersection(B)\n",
    "print(C)\n"
   ]
  },
  {
   "cell_type": "code",
   "execution_count": null,
   "id": "fd64a108",
   "metadata": {},
   "outputs": [],
   "source": []
  }
 ],
 "metadata": {
  "kernelspec": {
   "display_name": "Python 3 (ipykernel)",
   "language": "python",
   "name": "python3"
  },
  "language_info": {
   "codemirror_mode": {
    "name": "ipython",
    "version": 3
   },
   "file_extension": ".py",
   "mimetype": "text/x-python",
   "name": "python",
   "nbconvert_exporter": "python",
   "pygments_lexer": "ipython3",
   "version": "3.11.3"
  }
 },
 "nbformat": 4,
 "nbformat_minor": 5
}
