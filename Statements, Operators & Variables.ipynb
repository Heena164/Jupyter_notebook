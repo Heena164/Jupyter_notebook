{
 "cells": [
  {
   "cell_type": "markdown",
   "id": "342461ff",
   "metadata": {},
   "source": [
    "# Statements"
   ]
  },
  {
   "cell_type": "code",
   "execution_count": 1,
   "id": "9d09f4ea",
   "metadata": {},
   "outputs": [
    {
     "name": "stdout",
     "output_type": "stream",
     "text": [
      "Hello\n",
      "10\n"
     ]
    }
   ],
   "source": [
    "print(\"Hello\")  #print statement\n",
    "\n",
    "\n",
    "a = 10         #assignment statemenr\n",
    "\n",
    "\n",
    "print(10)"
   ]
  },
  {
   "cell_type": "markdown",
   "id": "7d9bea1d",
   "metadata": {},
   "source": [
    "# Multiline Statements"
   ]
  },
  {
   "cell_type": "code",
   "execution_count": 3,
   "id": "94469c7d",
   "metadata": {},
   "outputs": [
    {
     "name": "stdout",
     "output_type": "stream",
     "text": [
      "150\n",
      "-110\n"
     ]
    }
   ],
   "source": [
    "#explicit continuation\n",
    "add = 20 + 50 + \\\n",
    "      30 + 10 + 30 + \\\n",
    "      10\n",
    "\n",
    "print(add)\n",
    "\n",
    "#implicit continuation\n",
    "sub = (20 - 50 - \n",
    "      30 - 10 - 30 -\n",
    "      10)\n",
    "\n",
    "print(sub)"
   ]
  },
  {
   "cell_type": "markdown",
   "id": "768f8165",
   "metadata": {},
   "source": [
    "# Expression Statements"
   ]
  },
  {
   "cell_type": "code",
   "execution_count": 7,
   "id": "43372ab1",
   "metadata": {},
   "outputs": [
    {
     "name": "stdout",
     "output_type": "stream",
     "text": [
      "5\n",
      "15\n"
     ]
    }
   ],
   "source": [
    "# right hand side of = is a expression statement\n",
    "x = 5\n",
    "print(x)\n",
    "\n",
    "\n",
    "# x = x + 10 is a complete statement\n",
    "x = x + 10\n",
    "print(x)"
   ]
  },
  {
   "cell_type": "markdown",
   "id": "8a603f3f",
   "metadata": {},
   "source": [
    "# Pass Statements"
   ]
  },
  {
   "cell_type": "code",
   "execution_count": null,
   "id": "eba382a8",
   "metadata": {},
   "outputs": [],
   "source": [
    "def function():\n",
    "    pass"
   ]
  },
  {
   "cell_type": "markdown",
   "id": "b2650eed",
   "metadata": {},
   "source": [
    "# Del Statements"
   ]
  },
  {
   "cell_type": "code",
   "execution_count": 9,
   "id": "dae4a596",
   "metadata": {},
   "outputs": [
    {
     "name": "stdout",
     "output_type": "stream",
     "text": [
      "30\n"
     ]
    },
    {
     "ename": "NameError",
     "evalue": "name 'x' is not defined",
     "output_type": "error",
     "traceback": [
      "\u001b[1;31m---------------------------------------------------------------------------\u001b[0m",
      "\u001b[1;31mNameError\u001b[0m                                 Traceback (most recent call last)",
      "Cell \u001b[1;32mIn[9], line 9\u001b[0m\n\u001b[0;32m      4\u001b[0m \u001b[38;5;28mprint\u001b[39m(x \u001b[38;5;241m+\u001b[39m y)\n\u001b[0;32m      7\u001b[0m \u001b[38;5;28;01mdel\u001b[39;00m x\n\u001b[1;32m----> 9\u001b[0m \u001b[38;5;28mprint\u001b[39m(\u001b[43mx\u001b[49m \u001b[38;5;241m+\u001b[39m y)\n",
      "\u001b[1;31mNameError\u001b[0m: name 'x' is not defined"
     ]
    }
   ],
   "source": [
    "x = 10 \n",
    "y = 20 \n",
    "\n",
    "print(x + y)\n",
    "\n",
    "\n",
    "del x\n",
    "\n",
    "print(x + y)"
   ]
  },
  {
   "cell_type": "markdown",
   "id": "b850dfa8",
   "metadata": {},
   "source": [
    "# Return Statements"
   ]
  },
  {
   "cell_type": "code",
   "execution_count": 11,
   "id": "3c6de780",
   "metadata": {},
   "outputs": [
    {
     "name": "stdout",
     "output_type": "stream",
     "text": [
      "15\n"
     ]
    }
   ],
   "source": [
    "def add(a, b):\n",
    "    return a + b\n",
    "\n",
    "\n",
    "r = add(10, 5)\n",
    "print(r)"
   ]
  },
  {
   "cell_type": "markdown",
   "id": "69931a6e",
   "metadata": {},
   "source": [
    "# Import Statements"
   ]
  },
  {
   "cell_type": "code",
   "execution_count": 12,
   "id": "6028e020",
   "metadata": {},
   "outputs": [
    {
     "name": "stdout",
     "output_type": "stream",
     "text": [
      "2023-05-10 06:52:05.342812\n"
     ]
    }
   ],
   "source": [
    "import datetime\n",
    "\n",
    "\n",
    "now = datetime.datetime.now()\n",
    "print(now)"
   ]
  },
  {
   "cell_type": "markdown",
   "id": "73cda5a3",
   "metadata": {},
   "source": [
    "# Operatos"
   ]
  },
  {
   "cell_type": "markdown",
   "id": "517a5f1a",
   "metadata": {},
   "source": [
    "## (1)Arithmetic Operators"
   ]
  },
  {
   "cell_type": "code",
   "execution_count": 12,
   "id": "391359b1",
   "metadata": {},
   "outputs": [
    {
     "name": "stdout",
     "output_type": "stream",
     "text": [
      "Addition: 15\n",
      "Subtraction: 5\n",
      "Multiplication: 50\n",
      "String Multiplication: HeenaHeenaHeenaHeena\n",
      "Division: 2.0\n",
      "Floor Division: 2\n",
      "Modulus: 0\n",
      "Exponentiation: 25\n"
     ]
    }
   ],
   "source": [
    "x = 10\n",
    "y = 5\n",
    "name = 'Heena'\n",
    "\n",
    "print(\"Addition:\", x + y)\n",
    "print(\"Subtraction:\", x - y)\n",
    "print(\"Multiplication:\", x * y)\n",
    "print(\"String Multiplication:\", name*4)\n",
    "print(\"Division:\", x / y)\n",
    "print(\"Floor Division:\", x // y)\n",
    "print(\"Modulus:\", x % y)\n",
    "print(\"Exponentiation:\", y**2)"
   ]
  },
  {
   "cell_type": "markdown",
   "id": "904421cd",
   "metadata": {},
   "source": [
    "# (2)Assignment Operators"
   ]
  },
  {
   "cell_type": "code",
   "execution_count": null,
   "id": "8f950ed9",
   "metadata": {},
   "outputs": [],
   "source": []
  },
  {
   "cell_type": "code",
   "execution_count": null,
   "id": "c73dff7b",
   "metadata": {},
   "outputs": [],
   "source": []
  },
  {
   "cell_type": "code",
   "execution_count": null,
   "id": "1d998099",
   "metadata": {},
   "outputs": [],
   "source": []
  },
  {
   "cell_type": "code",
   "execution_count": null,
   "id": "b4be49c6",
   "metadata": {},
   "outputs": [],
   "source": []
  },
  {
   "cell_type": "markdown",
   "id": "26add718",
   "metadata": {},
   "source": [
    "# Variables"
   ]
  },
  {
   "cell_type": "code",
   "execution_count": null,
   "id": "00eaa302",
   "metadata": {},
   "outputs": [],
   "source": []
  },
  {
   "cell_type": "code",
   "execution_count": null,
   "id": "679de317",
   "metadata": {},
   "outputs": [],
   "source": []
  }
 ],
 "metadata": {
  "kernelspec": {
   "display_name": "Python 3 (ipykernel)",
   "language": "python",
   "name": "python3"
  },
  "language_info": {
   "codemirror_mode": {
    "name": "ipython",
    "version": 3
   },
   "file_extension": ".py",
   "mimetype": "text/x-python",
   "name": "python",
   "nbconvert_exporter": "python",
   "pygments_lexer": "ipython3",
   "version": "3.11.3"
  }
 },
 "nbformat": 4,
 "nbformat_minor": 5
}
