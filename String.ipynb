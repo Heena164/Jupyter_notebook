{
 "cells": [
  {
   "cell_type": "markdown",
   "id": "367e54b9",
   "metadata": {},
   "source": [
    "# Creating String in Python"
   ]
  },
  {
   "cell_type": "code",
   "execution_count": 6,
   "id": "e99780a1",
   "metadata": {},
   "outputs": [
    {
     "name": "stdout",
     "output_type": "stream",
     "text": [
      "Hi Python\n",
      "Hi Python !\n",
      "Triple quotes are generally used for  \n",
      "    represent the multiline or \n",
      "    docstring\n"
     ]
    }
   ],
   "source": [
    "s1 = 'Hi Python'\n",
    "\n",
    "print(s1)  #Using single quote\n",
    "\n",
    "s2 = \"Hi Python !\"\n",
    "\n",
    "print(s2)  #Using double quote\n",
    "\n",
    "s3 = '''Triple quotes are generally used for  \n",
    "    represent the multiline or \n",
    "    docstring'''   \n",
    "print(s3)  #Using triple quote"
   ]
  },
  {
   "cell_type": "markdown",
   "id": "af549c2d",
   "metadata": {},
   "source": [
    "# Strings indexing and splitting"
   ]
  },
  {
   "cell_type": "code",
   "execution_count": 14,
   "id": "253438a2",
   "metadata": {},
   "outputs": [
    {
     "name": "stdout",
     "output_type": "stream",
     "text": [
      "M\n",
      "y\n",
      " \n",
      "n\n"
     ]
    },
    {
     "ename": "IndexError",
     "evalue": "string index out of range",
     "output_type": "error",
     "traceback": [
      "\u001b[1;31m---------------------------------------------------------------------------\u001b[0m",
      "\u001b[1;31mIndexError\u001b[0m                                Traceback (most recent call last)",
      "Cell \u001b[1;32mIn[14], line 7\u001b[0m\n\u001b[0;32m      5\u001b[0m \u001b[38;5;28mprint\u001b[39m(s[\u001b[38;5;241m2\u001b[39m])\n\u001b[0;32m      6\u001b[0m \u001b[38;5;28mprint\u001b[39m(s[\u001b[38;5;241m3\u001b[39m])\n\u001b[1;32m----> 7\u001b[0m \u001b[38;5;28mprint\u001b[39m(\u001b[43ms\u001b[49m\u001b[43m[\u001b[49m\u001b[38;5;241;43m40\u001b[39;49m\u001b[43m]\u001b[49m)\n",
      "\u001b[1;31mIndexError\u001b[0m: string index out of range"
     ]
    }
   ],
   "source": [
    "s = \"My name is khan and I am not a terrorits\"\n",
    "\n",
    "print(s[0])\n",
    "print(s[1])\n",
    "print(s[2])\n",
    "print(s[3])\n",
    "print(s[40])"
   ]
  },
  {
   "cell_type": "markdown",
   "id": "831f5537",
   "metadata": {},
   "source": [
    "# Slicing"
   ]
  },
  {
   "cell_type": "code",
   "execution_count": 19,
   "id": "c947373e",
   "metadata": {},
   "outputs": [
    {
     "name": "stdout",
     "output_type": "stream",
     "text": [
      "_name_\n",
      "rrorit\n"
     ]
    }
   ],
   "source": [
    "s = \"My_name_is _khan_and_I_am_not_a_terrorits\"\n",
    "\n",
    "print(s[2:8])\n",
    "print(s[-7:-1])\n"
   ]
  },
  {
   "cell_type": "markdown",
   "id": "86a3a14c",
   "metadata": {},
   "source": [
    "# Python Strings are immutable"
   ]
  },
  {
   "cell_type": "code",
   "execution_count": 21,
   "id": "007a7d49",
   "metadata": {},
   "outputs": [
    {
     "ename": "TypeError",
     "evalue": "'str' object does not support item assignment",
     "output_type": "error",
     "traceback": [
      "\u001b[1;31m---------------------------------------------------------------------------\u001b[0m",
      "\u001b[1;31mTypeError\u001b[0m                                 Traceback (most recent call last)",
      "Cell \u001b[1;32mIn[21], line 2\u001b[0m\n\u001b[0;32m      1\u001b[0m message \u001b[38;5;241m=\u001b[39m \u001b[38;5;124m'\u001b[39m\u001b[38;5;124mMumbai Coding Club\u001b[39m\u001b[38;5;124m'\u001b[39m\n\u001b[1;32m----> 2\u001b[0m \u001b[43mmessage\u001b[49m\u001b[43m[\u001b[49m\u001b[38;5;241;43m0\u001b[39;49m\u001b[43m]\u001b[49m \u001b[38;5;241m=\u001b[39m \u001b[38;5;124m'\u001b[39m\u001b[38;5;124mH\u001b[39m\u001b[38;5;124m'\u001b[39m\n\u001b[0;32m      4\u001b[0m \u001b[38;5;28mprint\u001b[39m(message)\n\u001b[0;32m      7\u001b[0m message \u001b[38;5;241m=\u001b[39m \u001b[38;5;124m\"\u001b[39m\u001b[38;5;124mHello\u001b[39m\u001b[38;5;124m\"\u001b[39m\n",
      "\u001b[1;31mTypeError\u001b[0m: 'str' object does not support item assignment"
     ]
    }
   ],
   "source": [
    "message = 'Mumbai Coding Club'\n",
    "message[0] = 'H'\n",
    "\n",
    "print(message)\n"
   ]
  },
  {
   "cell_type": "code",
   "execution_count": 22,
   "id": "05a17e6c",
   "metadata": {},
   "outputs": [
    {
     "name": "stdout",
     "output_type": "stream",
     "text": [
      "Mumbai Coding Club\n",
      "After\n",
      "Mission Awarness Foundation\n"
     ]
    }
   ],
   "source": [
    "message = 'Mumbai Coding Club'\n",
    "print(message)\n",
    "# assign new string to message variable\n",
    "message = 'Mission Awarness Foundation'\n",
    "print(\"After\")\n",
    "print(message); # prints \"Mission Awarness Foundation\""
   ]
  },
  {
   "cell_type": "markdown",
   "id": "287fdd54",
   "metadata": {},
   "source": [
    "# Deleting the String"
   ]
  },
  {
   "cell_type": "code",
   "execution_count": 25,
   "id": "f4f23259",
   "metadata": {},
   "outputs": [
    {
     "name": "stdout",
     "output_type": "stream",
     "text": [
      "Mumbai Coding Club\n"
     ]
    },
    {
     "ename": "NameError",
     "evalue": "name 'message' is not defined",
     "output_type": "error",
     "traceback": [
      "\u001b[1;31m---------------------------------------------------------------------------\u001b[0m",
      "\u001b[1;31mNameError\u001b[0m                                 Traceback (most recent call last)",
      "Cell \u001b[1;32mIn[25], line 7\u001b[0m\n\u001b[0;32m      3\u001b[0m \u001b[38;5;28mprint\u001b[39m(message)\n\u001b[0;32m      5\u001b[0m \u001b[38;5;28;01mdel\u001b[39;00m message\n\u001b[1;32m----> 7\u001b[0m \u001b[38;5;28mprint\u001b[39m(\u001b[43mmessage\u001b[49m)\n",
      "\u001b[1;31mNameError\u001b[0m: name 'message' is not defined"
     ]
    }
   ],
   "source": [
    "message = 'Mumbai Coding Club'\n",
    "\n",
    "print(message)\n",
    "\n",
    "del message\n",
    "\n",
    "print(message)"
   ]
  },
  {
   "cell_type": "markdown",
   "id": "ef7bd6d6",
   "metadata": {},
   "source": [
    "# String Operator"
   ]
  },
  {
   "cell_type": "code",
   "execution_count": 33,
   "id": "c8fca7a6",
   "metadata": {},
   "outputs": [
    {
     "name": "stdout",
     "output_type": "stream",
     "text": [
      "HelloHelloHello\n",
      "HelloWorld\n",
      "l\n",
      "rld\n",
      "False\n",
      "True\n",
      "False\n"
     ]
    }
   ],
   "source": [
    "s1 = \"Hello\"\n",
    "\n",
    "s2 = \"World\"\n",
    "\n",
    "print(s1 * 3)          #t is known as repetition operator. It concatenates the multiple copies of the same string.\n",
    "print(s1 + s2)         #It is known as concatenation operator used to join the strings given either side of the operator.\n",
    "print(s1[3])           #It is known as slice operator. It is used to access the sub-strings of a particular string.\n",
    "print(s2[2:6])         #It is known as range slice operator. It is used to access the characters from the specified range.\n",
    "print('w' in s1)\n",
    "print('o' in s1)\n",
    "print('o' not in s2)"
   ]
  },
  {
   "cell_type": "markdown",
   "id": "b51d7d52",
   "metadata": {},
   "source": [
    "# Compare Two Strings"
   ]
  },
  {
   "cell_type": "code",
   "execution_count": 37,
   "id": "54b775ee",
   "metadata": {},
   "outputs": [
    {
     "name": "stdout",
     "output_type": "stream",
     "text": [
      "False\n",
      "True\n",
      "False\n"
     ]
    }
   ],
   "source": [
    "s1 = \"Hello\"\n",
    "s2 = \"Hi\"\n",
    "s3 = \"Hello\"\n",
    "s4 = \"hi\"\n",
    "\n",
    "print(s1 == s2)\n",
    "print(s1 == s3)\n",
    "print(s2 == s4)"
   ]
  },
  {
   "cell_type": "markdown",
   "id": "76e859fa",
   "metadata": {},
   "source": [
    "# String formatting"
   ]
  },
  {
   "cell_type": "code",
   "execution_count": 38,
   "id": "ed347993",
   "metadata": {},
   "outputs": [
    {
     "ename": "SyntaxError",
     "evalue": "unterminated string literal (detected at line 1) (3755895606.py, line 1)",
     "output_type": "error",
     "traceback": [
      "\u001b[1;36m  Cell \u001b[1;32mIn[38], line 1\u001b[1;36m\u001b[0m\n\u001b[1;33m    s = \"They said, \"Hello what's going on?\"\"\u001b[0m\n\u001b[1;37m                               ^\u001b[0m\n\u001b[1;31mSyntaxError\u001b[0m\u001b[1;31m:\u001b[0m unterminated string literal (detected at line 1)\n"
     ]
    }
   ],
   "source": [
    "s = \"They said, \"Hello what's going on?\"\"  \n",
    "print(s)"
   ]
  },
  {
   "cell_type": "code",
   "execution_count": 4,
   "id": "56084809",
   "metadata": {},
   "outputs": [
    {
     "name": "stdout",
     "output_type": "stream",
     "text": [
      "They said, \"Hello what's going on?\"\n",
      "They said, \"Hello what's going on?\"\n",
      "They said, \"Hello what's going on?\"\n"
     ]
    }
   ],
   "source": [
    "#using triple quotes\n",
    "s1= '''They said, \"Hello what's going on?\"'''\n",
    "print(s1)\n",
    "\n",
    "#escaping single quotes\n",
    "s2 = 'They said, \"Hello what\\'s going on?\"'\n",
    "print(s2)\n",
    "\n",
    "#escaping double quotes\n",
    "s3 = \"They said, \\\"Hello what's going on?\\\"\"\n",
    "print(s3)"
   ]
  },
  {
   "cell_type": "markdown",
   "id": "5684c1ce",
   "metadata": {},
   "source": [
    "# Write a Python program to calculate the length of a string."
   ]
  },
  {
   "cell_type": "code",
   "execution_count": 5,
   "id": "2742d2ec",
   "metadata": {},
   "outputs": [
    {
     "name": "stdout",
     "output_type": "stream",
     "text": [
      "9\n"
     ]
    }
   ],
   "source": [
    "s = 'IamString'\n",
    "\n",
    "count = 0\n",
    "\n",
    "for i in s:\n",
    "    count = count + 1\n",
    "    \n",
    "print(count)"
   ]
  },
  {
   "cell_type": "markdown",
   "id": "466e42ca",
   "metadata": {},
   "source": [
    "# Write a Python program to count the number of characters (character frequency) in a string."
   ]
  },
  {
   "cell_type": "code",
   "execution_count": 6,
   "id": "911c2351",
   "metadata": {},
   "outputs": [
    {
     "name": "stdout",
     "output_type": "stream",
     "text": [
      "{'g': 2, 'o': 3, 'l': 1, 'e': 1, '.': 1, 'c': 1, 'm': 1}\n"
     ]
    }
   ],
   "source": [
    "s = 'google.com'\n",
    "\n",
    "res = {}\n",
    "\n",
    "for i in s:\n",
    "    if i in res:\n",
    "        res[i] = res[i] + 1\n",
    "        \n",
    "    else:\n",
    "        res[i] = 1\n",
    "        \n",
    "print(res)"
   ]
  },
  {
   "cell_type": "markdown",
   "id": "9bf73c1a",
   "metadata": {},
   "source": [
    "# Write a Python program to get a string made of the first 2 and last 2 characters of a given string. If the string length is less than 2, return the empty string instead. "
   ]
  },
  {
   "cell_type": "code",
   "execution_count": 6,
   "id": "4307643d",
   "metadata": {},
   "outputs": [
    {
     "name": "stdout",
     "output_type": "stream",
     "text": [
      " \n"
     ]
    }
   ],
   "source": [
    "s = 'w3resource'\n",
    "\n",
    "\n",
    "if len(s) < 2:\n",
    "    print(s[:2] + s[-2:])\n",
    "    \n",
    "else:\n",
    "    print(' ')\n",
    "    "
   ]
  },
  {
   "cell_type": "markdown",
   "id": "f5ec1897",
   "metadata": {},
   "source": [
    "# Write a Python program to get a string from a given string where all occurrences of its first char have been changed to '$', except the first char itself."
   ]
  },
  {
   "cell_type": "code",
   "execution_count": 9,
   "id": "1e06987a",
   "metadata": {},
   "outputs": [
    {
     "name": "stdout",
     "output_type": "stream",
     "text": [
      "resta$t\n"
     ]
    }
   ],
   "source": [
    "s = 'restart'\n",
    "\n",
    "if len(s) < 2:\n",
    "    result = s\n",
    "    \n",
    "else:\n",
    "    first_char = s[0]\n",
    "    new_string = s[1:].replace(first_char, '$')\n",
    "    result = first_char + new_string\n",
    "    \n",
    "print(result)"
   ]
  },
  {
   "cell_type": "markdown",
   "id": "4cd2c5f7",
   "metadata": {},
   "source": [
    "# Write a Python program to get a single string from two given strings, separated by a space and swap the first two characters of each string."
   ]
  },
  {
   "cell_type": "code",
   "execution_count": 13,
   "id": "af52278f",
   "metadata": {},
   "outputs": [
    {
     "name": "stdout",
     "output_type": "stream",
     "text": [
      "Before Swapping: abc xyz\n",
      "After Swapping: xyc abz\n"
     ]
    }
   ],
   "source": [
    "a = 'abc'\n",
    "b = 'xyz'\n",
    "print(\"Before Swapping:\", a, b)\n",
    "\n",
    "a1 = b[:2] + a[2:]\n",
    "b1 = a[:2] + b[2:]\n",
    " \n",
    "print('After Swapping:', a1, b1)\n",
    "\n",
    "\n"
   ]
  },
  {
   "cell_type": "markdown",
   "id": "560e1bc3",
   "metadata": {},
   "source": [
    "# Write a Python program to add 'ing' at the end of a given string (length should be at least 3). If the given string already ends with 'ing', add 'ly' instead. If the string length of the given string is less than 3, leave it unchanged."
   ]
  },
  {
   "cell_type": "code",
   "execution_count": 26,
   "id": "e036ed5f",
   "metadata": {},
   "outputs": [
    {
     "name": "stdout",
     "output_type": "stream",
     "text": [
      "addingly\n"
     ]
    }
   ],
   "source": [
    "str1 = 'adding'\n",
    "\n",
    "if len(str1) < 3:\n",
    "    result = str1\n",
    "    \n",
    "elif str1[-3:] == 'ing':\n",
    "    result = str1 + 'ly'\n",
    "    \n",
    "else:\n",
    "    result = str1 + 'ing'\n",
    "    \n",
    "print(result)\n",
    "    "
   ]
  },
  {
   "cell_type": "code",
   "execution_count": 29,
   "id": "e57f5e90",
   "metadata": {},
   "outputs": [
    {
     "name": "stdout",
     "output_type": "stream",
     "text": [
      "ad\n",
      "adding\n",
      "addingly\n"
     ]
    }
   ],
   "source": [
    "def check_string(str1):\n",
    "    length = len(str1)\n",
    "    \n",
    "    if length > 2:\n",
    "        if str1[-3:] == 'ing':\n",
    "            str1 += 'ly'\n",
    "            \n",
    "        else:\n",
    "            str1 += 'ing'\n",
    "            \n",
    "    return str1\n",
    "\n",
    "\n",
    "print(check_string('ad'))\n",
    "print(check_string('add'))\n",
    "print(check_string('adding'))"
   ]
  },
  {
   "cell_type": "markdown",
   "id": "98629dc0",
   "metadata": {},
   "source": [
    "# Write a Python function that returns the number of words in the sentence that start with a capital letter."
   ]
  },
  {
   "cell_type": "code",
   "execution_count": 24,
   "id": "a16c11ae",
   "metadata": {},
   "outputs": [
    {
     "name": "stdout",
     "output_type": "stream",
     "text": [
      "['The', 'quick', 'Brown', 'fox', 'Jumps', 'Over', 'the', 'Lazy', 'Dog']\n",
      "The Brown Jumps Over Lazy Dog\n"
     ]
    }
   ],
   "source": [
    "s = \"The quick Brown fox Jumps Over the Lazy Dog\"\n",
    "\n",
    "s1 = s.split()\n",
    "l = []\n",
    "\n",
    "print(s1)\n",
    "\n",
    "for i in s1:\n",
    "    for j in i:\n",
    "        if j.isupper():\n",
    "            l.append(i)\n",
    "\n",
    "s2 = ' '.join(l)\n",
    "print(s2)"
   ]
  },
  {
   "cell_type": "code",
   "execution_count": 22,
   "id": "746fae82",
   "metadata": {},
   "outputs": [
    {
     "name": "stdout",
     "output_type": "stream",
     "text": [
      "6\n"
     ]
    }
   ],
   "source": [
    "def count_capital_words(sentence):\n",
    "    count = 0\n",
    "    words = sentence.split()\n",
    "    for word in words:\n",
    "        if word[0].isupper():\n",
    "            count += 1\n",
    "    return count\n",
    "\n",
    "s = \"The quick Brown fox Jumps Over the Lazy Dog\"\n",
    "r = count_capital_words(s)\n",
    "print(r)\n"
   ]
  },
  {
   "cell_type": "markdown",
   "id": "97cd859d",
   "metadata": {},
   "source": [
    "# Write a Python code snippet to count the number of uppercase and lowercase letters in the string and print the counts."
   ]
  },
  {
   "cell_type": "code",
   "execution_count": 2,
   "id": "a2a9811b",
   "metadata": {},
   "outputs": [
    {
     "name": "stdout",
     "output_type": "stream",
     "text": [
      "Uppercase letter: 2\n",
      "Lowercase letter: 9\n"
     ]
    }
   ],
   "source": [
    "s = \"Hello World\"\n",
    "u = 0\n",
    "l = 0\n",
    "\n",
    "for i in s:\n",
    "    if i.isupper():\n",
    "        u += 1\n",
    "        \n",
    "    else:\n",
    "        l +=1 \n",
    "        \n",
    "print(\"Uppercase letter:\", u)\n",
    "print(\"Lowercase letter:\",l)\n",
    "        "
   ]
  },
  {
   "cell_type": "code",
   "execution_count": null,
   "id": "2f4e1a88",
   "metadata": {},
   "outputs": [],
   "source": []
  }
 ],
 "metadata": {
  "kernelspec": {
   "display_name": "Python 3 (ipykernel)",
   "language": "python",
   "name": "python3"
  },
  "language_info": {
   "codemirror_mode": {
    "name": "ipython",
    "version": 3
   },
   "file_extension": ".py",
   "mimetype": "text/x-python",
   "name": "python",
   "nbconvert_exporter": "python",
   "pygments_lexer": "ipython3",
   "version": "3.11.3"
  }
 },
 "nbformat": 4,
 "nbformat_minor": 5
}
