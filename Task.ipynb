{
 "cells": [
  {
   "cell_type": "code",
   "execution_count": 22,
   "id": "a1521106",
   "metadata": {},
   "outputs": [
    {
     "name": "stdout",
     "output_type": "stream",
     "text": [
      "{1: 2, 3: 2, 4: 1, 7: 1, 2: 1}\n",
      "[1, 3]\n"
     ]
    }
   ],
   "source": [
    "l = [1, 3, 4, 7, 2, 1, 3]\n",
    "\n",
    "d = {}\n",
    "\n",
    "ls = []\n",
    "\n",
    "for i in l:\n",
    "    if i in d:\n",
    "        d[i] += 1\n",
    "    else:\n",
    "        d[i] = 1\n",
    "        \n",
    "print(d)\n",
    "        \n",
    "for i, j in d.items():\n",
    "    if j>1:\n",
    "        ls.append(i)\n",
    "        \n",
    "print(ls)\n"
   ]
  },
  {
   "cell_type": "code",
   "execution_count": 27,
   "id": "ae6819e1",
   "metadata": {},
   "outputs": [
    {
     "name": "stdout",
     "output_type": "stream",
     "text": [
      "[]\n"
     ]
    }
   ],
   "source": [
    "l = [1, 5]\n",
    "d = {}\n",
    "ls = []\n",
    "\n",
    "for i in l:\n",
    "    if i in d:\n",
    "        d[i] += 1\n",
    "    else:\n",
    "        d[i] = 1\n",
    "        \n",
    "for i, j in d.items():\n",
    "    if j > 1:\n",
    "        ls.append(i)\n",
    "        \n",
    "print(ls)\n",
    "\n"
   ]
  },
  {
   "cell_type": "code",
   "execution_count": 4,
   "id": "605144f0",
   "metadata": {},
   "outputs": [
    {
     "name": "stdout",
     "output_type": "stream",
     "text": [
      "[2, 1, 4, 3, 6, 5]\n"
     ]
    }
   ],
   "source": [
    "lst = [1, 2, 3, 4, 5, 6]\n",
    "\n",
    "for i in range(0, len(lst), 2):\n",
    "    temp = lst[i]\n",
    "    lst[i] = lst[i+1]\n",
    "    lst[i+1] = temp\n",
    "print(lst)\n",
    "    \n",
    "\n",
    "\n"
   ]
  },
  {
   "cell_type": "code",
   "execution_count": 10,
   "id": "821f02d6",
   "metadata": {},
   "outputs": [
    {
     "name": "stdout",
     "output_type": "stream",
     "text": [
      "[6, 2, 3, 4, 5, 1]\n"
     ]
    }
   ],
   "source": [
    "lst = [1, 2, 3, 4, 5, 6]\n",
    "\n",
    "size = len(lst)\n",
    "temp = lst[0]\n",
    "lst[0] = lst[size-1]\n",
    "lst[size-1] = temp\n",
    "print(lst)    "
   ]
  },
  {
   "cell_type": "code",
   "execution_count": 11,
   "id": "2505b4cb",
   "metadata": {},
   "outputs": [
    {
     "name": "stdout",
     "output_type": "stream",
     "text": [
      "[2, 1, 4, 3, 6, 5, 7]\n"
     ]
    }
   ],
   "source": [
    "lst = [1, 2, 3, 4, 5, 6, 7]\n",
    "\n",
    "for i in range(0, len(lst), 2):\n",
    "    if i+1 < len(lst):\n",
    "        temp = lst[i]\n",
    "        lst[i] = lst[i+1]\n",
    "        lst[i+1] = temp\n",
    "print(lst)"
   ]
  },
  {
   "cell_type": "markdown",
   "id": "cf4ebf18",
   "metadata": {},
   "source": [
    "# Write a Python program to check if a given number is an Armstrong number.\n"
   ]
  },
  {
   "cell_type": "code",
   "execution_count": 3,
   "id": "30c8523f",
   "metadata": {},
   "outputs": [
    {
     "name": "stdout",
     "output_type": "stream",
     "text": [
      "1634 is Armstrong number\n"
     ]
    }
   ],
   "source": [
    "n = 1634\n",
    "\n",
    "sum = 0\n",
    "num = str(n)\n",
    "order = len(num)\n",
    "\n",
    "\n",
    "for i in num:\n",
    "    sum = sum + int(i) ** order\n",
    "    \n",
    "    \n",
    "if sum == n:\n",
    "    print(n,\"is Armstrong number\")\n",
    "    \n",
    "else:\n",
    "    print(n, \"is not Armstrong number\")"
   ]
  },
  {
   "cell_type": "code",
   "execution_count": 9,
   "id": "dad465f3",
   "metadata": {},
   "outputs": [
    {
     "name": "stdout",
     "output_type": "stream",
     "text": [
      "8\n"
     ]
    }
   ],
   "source": [
    "n = 2\n",
    "order = 3\n",
    "sum = n ** order\n",
    "print(sum)"
   ]
  },
  {
   "cell_type": "markdown",
   "id": "39318990",
   "metadata": {},
   "source": [
    "# Write a Python program to check if two strings are anagrams of each other."
   ]
  },
  {
   "cell_type": "code",
   "execution_count": 14,
   "id": "9b34b46d",
   "metadata": {},
   "outputs": [
    {
     "name": "stdout",
     "output_type": "stream",
     "text": [
      "Enter first value: hi\n",
      "Enter second value: ih\n",
      "hi and ih are anagram\n"
     ]
    }
   ],
   "source": [
    "s1 = input(\"Enter first value: \")\n",
    "s2 = input(\"Enter second value: \")\n",
    "\n",
    "if sorted(s1.lower()) == sorted(s2.lower()):\n",
    "    print(s1, \"and\", s2, \"are anagram\")\n",
    "else:\n",
    "    print(s1, \"and\", s2, \"are not anagram\")\n"
   ]
  },
  {
   "cell_type": "markdown",
   "id": "4c662eee",
   "metadata": {},
   "source": [
    "# Write a Python program to find the sum of digits of a given number.\n"
   ]
  },
  {
   "cell_type": "code",
   "execution_count": 17,
   "id": "a5d09f2e",
   "metadata": {},
   "outputs": [
    {
     "name": "stdout",
     "output_type": "stream",
     "text": [
      "7\n"
     ]
    }
   ],
   "source": [
    "n = 124\n",
    "sum = 0\n",
    "\n",
    "for i in str(n):\n",
    "    sum = sum + int(i)\n",
    "    \n",
    "print(sum)\n",
    "    "
   ]
  },
  {
   "cell_type": "markdown",
   "id": "3a5aac24",
   "metadata": {},
   "source": [
    "# Write a Python program to reverse a given string without using any built-in functions.\n"
   ]
  },
  {
   "cell_type": "code",
   "execution_count": 32,
   "id": "c67e539a",
   "metadata": {},
   "outputs": [
    {
     "name": "stdout",
     "output_type": "stream",
     "text": [
      "4 I\n",
      "3 I\n",
      "2 I\n",
      "1 I\n",
      "0 I\n",
      "olleh\n"
     ]
    }
   ],
   "source": [
    "s = 'hello'\n",
    "\n",
    "reverse = ''\n",
    "\n",
    "for i in range(len(s) -1, -1, -1):\n",
    "    print(i, \"I\")\n",
    "    reverse = reverse + s[i]\n",
    "    \n",
    "print(reverse)"
   ]
  },
  {
   "cell_type": "markdown",
   "id": "17988f90",
   "metadata": {},
   "source": [
    "# Write a Python program to find the Fibonacci sequence up to a given number."
   ]
  },
  {
   "cell_type": "code",
   "execution_count": 1,
   "id": "2f0d5d88",
   "metadata": {},
   "outputs": [
    {
     "name": "stdout",
     "output_type": "stream",
     "text": [
      "0 1 1 2 3 5 8 13 21 34 "
     ]
    }
   ],
   "source": [
    "num = 10\n",
    "\n",
    "first_term = 0\n",
    "second_term = 1\n",
    "\n",
    "print(first_term, second_term, end = ' ')\n",
    "\n",
    "for i in range(2, num):\n",
    "    third_term = first_term + second_term\n",
    "    \n",
    "    print(third_term, end = ' ')\n",
    "    \n",
    "    first_term = second_term\n",
    "    second_term = third_term\n"
   ]
  },
  {
   "cell_type": "markdown",
   "id": "cd564abc",
   "metadata": {},
   "source": [
    "# Intersection of two list"
   ]
  },
  {
   "cell_type": "code",
   "execution_count": 1,
   "id": "157c0ed6",
   "metadata": {},
   "outputs": [
    {
     "name": "stdout",
     "output_type": "stream",
     "text": [
      "[2, 2, 3]\n"
     ]
    }
   ],
   "source": [
    "a = [1, 2, 2, 2, 3, 4]\n",
    "b = [0, 2, 2, 3, 5, 6]\n",
    "\n",
    "l = []\n",
    "\n",
    "for i in range(len(a)):\n",
    "    for j in range(len(b)):\n",
    "        if a[i] == b[j]:\n",
    "            l.append(b[j])\n",
    "            b[j] = -1\n",
    "            \n",
    "print(l)\n",
    "            "
   ]
  },
  {
   "cell_type": "code",
   "execution_count": 15,
   "id": "ab4089c8",
   "metadata": {},
   "outputs": [
    {
     "name": "stdout",
     "output_type": "stream",
     "text": [
      "[(1, 4), (2, 3)]\n"
     ]
    }
   ],
   "source": [
    "a = [1, 2, 3, 4, 5]\n",
    "l = []\n",
    "key = 5\n",
    "\n",
    "for i in range(len(a)):  \n",
    "    for j in range(i+1, len(a)):\n",
    "        res = a[i] +a [j]\n",
    "        if res == key:\n",
    "            l.append((a[i], a[j]))\n",
    "            \n",
    "print(l)\n",
    "\n",
    "\n",
    "    \n",
    "    "
   ]
  },
  {
   "cell_type": "code",
   "execution_count": 2,
   "id": "7821f1a8",
   "metadata": {},
   "outputs": [
    {
     "name": "stdout",
     "output_type": "stream",
     "text": [
      "0 0\n",
      "0 1\n",
      "0 2\n",
      "\n",
      "1 0\n",
      "1 1\n",
      "1 2\n",
      "\n",
      "2 0\n",
      "2 1\n",
      "2 2\n",
      "\n"
     ]
    }
   ],
   "source": [
    "for i in range(3):\n",
    "    for j in range(3):\n",
    "        print(i, j)\n",
    "    print()"
   ]
  },
  {
   "cell_type": "code",
   "execution_count": null,
   "id": "8008d88c",
   "metadata": {},
   "outputs": [],
   "source": []
  }
 ],
 "metadata": {
  "kernelspec": {
   "display_name": "Python 3 (ipykernel)",
   "language": "python",
   "name": "python3"
  },
  "language_info": {
   "codemirror_mode": {
    "name": "ipython",
    "version": 3
   },
   "file_extension": ".py",
   "mimetype": "text/x-python",
   "name": "python",
   "nbconvert_exporter": "python",
   "pygments_lexer": "ipython3",
   "version": "3.11.3"
  }
 },
 "nbformat": 4,
 "nbformat_minor": 5
}
