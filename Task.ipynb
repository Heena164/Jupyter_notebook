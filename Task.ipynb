{
 "cells": [
  {
   "cell_type": "markdown",
   "id": "cf4ebf18",
   "metadata": {},
   "source": [
    "# Write a Python program to check if a given number is an Armstrong number.\n"
   ]
  },
  {
   "cell_type": "code",
   "execution_count": 3,
   "id": "30c8523f",
   "metadata": {},
   "outputs": [
    {
     "name": "stdout",
     "output_type": "stream",
     "text": [
      "1634 is Armstrong number\n"
     ]
    }
   ],
   "source": [
    "n = 1634\n",
    "\n",
    "sum = 0\n",
    "num = str(n)\n",
    "order = len(num)\n",
    "\n",
    "\n",
    "for i in num:\n",
    "    sum = sum + int(i) ** order\n",
    "    \n",
    "    \n",
    "if sum == n:\n",
    "    print(n,\"is Armstrong number\")\n",
    "    \n",
    "else:\n",
    "    print(n, \"is not Armstrong number\")"
   ]
  },
  {
   "cell_type": "code",
   "execution_count": 9,
   "id": "dad465f3",
   "metadata": {},
   "outputs": [
    {
     "name": "stdout",
     "output_type": "stream",
     "text": [
      "8\n"
     ]
    }
   ],
   "source": [
    "n = 2\n",
    "order = 3\n",
    "sum = n ** order\n",
    "print(sum)"
   ]
  },
  {
   "cell_type": "markdown",
   "id": "39318990",
   "metadata": {},
   "source": [
    "# Write a Python program to check if two strings are anagrams of each other."
   ]
  },
  {
   "cell_type": "code",
   "execution_count": 14,
   "id": "9b34b46d",
   "metadata": {},
   "outputs": [
    {
     "name": "stdout",
     "output_type": "stream",
     "text": [
      "Enter first value: hi\n",
      "Enter second value: ih\n",
      "hi and ih are anagram\n"
     ]
    }
   ],
   "source": [
    "s1 = input(\"Enter first value: \")\n",
    "s2 = input(\"Enter second value: \")\n",
    "\n",
    "if sorted(s1.lower()) == sorted(s2.lower()):\n",
    "    print(s1, \"and\", s2, \"are anagram\")\n",
    "else:\n",
    "    print(s1, \"and\", s2, \"are not anagram\")\n"
   ]
  },
  {
   "cell_type": "markdown",
   "id": "4c662eee",
   "metadata": {},
   "source": [
    "# Write a Python program to find the sum of digits of a given number.\n"
   ]
  },
  {
   "cell_type": "code",
   "execution_count": 17,
   "id": "a5d09f2e",
   "metadata": {},
   "outputs": [
    {
     "name": "stdout",
     "output_type": "stream",
     "text": [
      "7\n"
     ]
    }
   ],
   "source": [
    "n = 124\n",
    "sum = 0\n",
    "\n",
    "for i in str(n):\n",
    "    sum = sum + int(i)\n",
    "    \n",
    "print(sum)\n",
    "    "
   ]
  },
  {
   "cell_type": "markdown",
   "id": "3a5aac24",
   "metadata": {},
   "source": [
    "# Write a Python program to reverse a given string without using any built-in functions.\n"
   ]
  },
  {
   "cell_type": "code",
   "execution_count": 1,
   "id": "c67e539a",
   "metadata": {},
   "outputs": [
    {
     "name": "stdout",
     "output_type": "stream",
     "text": [
      "olleh\n"
     ]
    }
   ],
   "source": [
    "s = 'hello'\n",
    "\n",
    "reverse = ''\n",
    "\n",
    "for i in range(len(s) -1, -1, -1):\n",
    "#     print(i, \"I\")\n",
    "    reverse = reverse + s[i]\n",
    "    \n",
    "print(reverse)"
   ]
  },
  {
   "cell_type": "markdown",
   "id": "17988f90",
   "metadata": {},
   "source": [
    "# Write a Python program to find the Fibonacci sequence up to a given number."
   ]
  },
  {
   "cell_type": "code",
   "execution_count": 2,
   "id": "2f0d5d88",
   "metadata": {},
   "outputs": [
    {
     "name": "stdout",
     "output_type": "stream",
     "text": [
      "0 1 1 2 3 5 8 13 21 34 "
     ]
    }
   ],
   "source": [
    "num = 10\n",
    "\n",
    "first_term = 0\n",
    "second_term = 1\n",
    "\n",
    "print(first_term, second_term, end = ' ')\n",
    "\n",
    "for i in range(2, num):\n",
    "    third_term = first_term + second_term\n",
    "    \n",
    "    print(third_term, end = ' ')\n",
    "    \n",
    "    first_term = second_term\n",
    "    second_term = third_term\n"
   ]
  },
  {
   "cell_type": "code",
   "execution_count": 2,
   "id": "7821f1a8",
   "metadata": {},
   "outputs": [
    {
     "name": "stdout",
     "output_type": "stream",
     "text": [
      "0 0\n",
      "0 1\n",
      "0 2\n",
      "\n",
      "1 0\n",
      "1 1\n",
      "1 2\n",
      "\n",
      "2 0\n",
      "2 1\n",
      "2 2\n",
      "\n"
     ]
    }
   ],
   "source": [
    "for i in range(3):\n",
    "    for j in range(3):\n",
    "        print(i, j)\n",
    "    print()"
   ]
  },
  {
   "cell_type": "markdown",
   "id": "880d123c",
   "metadata": {},
   "source": [
    "# Write a Python program to count the frequency of each element in a list."
   ]
  },
  {
   "cell_type": "code",
   "execution_count": 3,
   "id": "858a45c1",
   "metadata": {},
   "outputs": [
    {
     "name": "stdout",
     "output_type": "stream",
     "text": [
      "{1: 3, 2: 3, 3: 1, 4: 1, 5: 1}\n"
     ]
    }
   ],
   "source": [
    "lst = [1, 2, 3, 2, 4, 1, 5, 1, 2]\n",
    "\n",
    "d = {}\n",
    "\n",
    "for i in lst:\n",
    "    if i in d:\n",
    "        d[i] += 1\n",
    "    else:\n",
    "        d[i] = 1\n",
    "\n",
    "print(d)"
   ]
  },
  {
   "cell_type": "markdown",
   "id": "8a6fe41e",
   "metadata": {},
   "source": [
    "# Write a Python program to check if a given string is a valid palindrome"
   ]
  },
  {
   "cell_type": "code",
   "execution_count": 6,
   "id": "47414bef",
   "metadata": {},
   "outputs": [
    {
     "name": "stdout",
     "output_type": "stream",
     "text": [
      "The string is not a palindrome\n"
     ]
    }
   ],
   "source": [
    "s = 'Mumbai'\n",
    "\n",
    "#remove space and convert in lower case\n",
    "s1 = s.replace(\"\" , \"\").lower()\n",
    "\n",
    "rev = s1[::-1]\n",
    "\n",
    "if s1 == rev:\n",
    "    print(\"The string is a palindrom\")\n",
    "    \n",
    "else:\n",
    "    print(\"The string is not a palindrome\")"
   ]
  },
  {
   "cell_type": "markdown",
   "id": "4507e45f",
   "metadata": {},
   "source": [
    "# Write a Python program to find the sum of all prime numbers in a given range."
   ]
  },
  {
   "cell_type": "code",
   "execution_count": 1,
   "id": "74e57c3c",
   "metadata": {},
   "outputs": [
    {
     "name": "stdout",
     "output_type": "stream",
     "text": [
      "Enter starting number: 2\n",
      "Enter starting number: 19\n",
      "77\n"
     ]
    }
   ],
   "source": [
    "start = int(input(\"Enter starting number: \"))\n",
    "end = int(input(\"Enter starting number: \"))\n",
    "\n",
    "prime_sum = 0\n",
    "\n",
    "for num in range(start, end + 1):\n",
    "    if num > 1:\n",
    "        for i in range(2, num):\n",
    "            if num % i == 0:\n",
    "                break\n",
    "            \n",
    "        else:\n",
    "            prime_sum += num\n",
    "            \n",
    "            \n",
    "print(prime_sum)"
   ]
  },
  {
   "cell_type": "markdown",
   "id": "807d5d35",
   "metadata": {},
   "source": [
    "# Write a Python program to check if a given number is a perfect square.\n"
   ]
  },
  {
   "cell_type": "code",
   "execution_count": 12,
   "id": "e876c07f",
   "metadata": {},
   "outputs": [
    {
     "name": "stdout",
     "output_type": "stream",
     "text": [
      "Enter a number: 64\n",
      "The number is a perfect square.\n"
     ]
    }
   ],
   "source": [
    "def is_perfect_square(num):\n",
    "    if num < 0:\n",
    "        return False\n",
    "    elif num == 0:\n",
    "        return True\n",
    "    else:\n",
    "        # Using the property: sqrt(num) * sqrt(num) = num\n",
    "        sqrt = num ** 0.5\n",
    "        return sqrt.is_integer()\n",
    "\n",
    "input_number = int(input(\"Enter a number: \"))\n",
    "if is_perfect_square(input_number):\n",
    "    print(\"The number is a perfect square.\")\n",
    "else:\n",
    "    print(\"The number is not a perfect square.\")"
   ]
  },
  {
   "cell_type": "code",
   "execution_count": null,
   "id": "0e56a99d",
   "metadata": {},
   "outputs": [],
   "source": []
  },
  {
   "cell_type": "markdown",
   "id": "32d8a469",
   "metadata": {},
   "source": [
    "# Write a Python program to reverse the order of words in a given sentence.\n"
   ]
  },
  {
   "cell_type": "code",
   "execution_count": null,
   "id": "66b94f27",
   "metadata": {},
   "outputs": [],
   "source": [
    "string = "
   ]
  },
  {
   "cell_type": "markdown",
   "id": "32133ff9",
   "metadata": {},
   "source": [
    "# Write a Python code snippet to find and print the sum of all the prime numbers in the set."
   ]
  },
  {
   "cell_type": "code",
   "execution_count": 5,
   "id": "5e8c40ff",
   "metadata": {},
   "outputs": [
    {
     "name": "stdout",
     "output_type": "stream",
     "text": [
      "Sum of prime numbers: 33\n"
     ]
    }
   ],
   "source": [
    "num = {2, 4, 7, 9, 10, 11, 12, 13}\n",
    "prime_sum = 0\n",
    "\n",
    "for n in num:\n",
    "    for i in range(2, n):\n",
    "#         print(n, i)\n",
    "        if n % i == 0:\n",
    "            break\n",
    "    else:\n",
    "        prime_sum += n\n",
    "\n",
    "print(\"Sum of prime numbers:\", prime_sum)"
   ]
  },
  {
   "cell_type": "code",
   "execution_count": 17,
   "id": "8cb6603c",
   "metadata": {},
   "outputs": [
    {
     "name": "stdout",
     "output_type": "stream",
     "text": [
      "1 is not a prime number\n"
     ]
    }
   ],
   "source": [
    "s = {2, 4, 7, 9, 10, 11}\n",
    "\n"
   ]
  },
  {
   "cell_type": "markdown",
   "id": "1aa592c9",
   "metadata": {},
   "source": [
    "# Write a Python program to find the sum of digits in a given number."
   ]
  },
  {
   "cell_type": "code",
   "execution_count": 3,
   "id": "2057cf2c",
   "metadata": {},
   "outputs": [
    {
     "name": "stdout",
     "output_type": "stream",
     "text": [
      "15\n"
     ]
    }
   ],
   "source": [
    "num = 12345\n",
    "sum = 0\n",
    "\n",
    "for i in str(num):\n",
    "    sum = sum + int(i)\n",
    "    \n",
    "print(sum)\n",
    "    "
   ]
  },
  {
   "cell_type": "markdown",
   "id": "3d270da1",
   "metadata": {},
   "source": [
    "# Write a Python code snippet to find and print the median of the numbers in the list. \n"
   ]
  },
  {
   "cell_type": "code",
   "execution_count": 6,
   "id": "378cfeb6",
   "metadata": {},
   "outputs": [
    {
     "name": "stdout",
     "output_type": "stream",
     "text": [
      "The median is 6\n"
     ]
    }
   ],
   "source": [
    "import statistics\n",
    "\n",
    "numbers = [5, 8, 3, 12, 7, 6, 1]\n",
    "\n",
    "# Calculate the median using the median() function from the statistics module\n",
    "median = statistics.median(numbers)\n",
    "\n",
    "# Print the median\n",
    "print(\"The median is\", median)"
   ]
  },
  {
   "cell_type": "code",
   "execution_count": 27,
   "id": "5c6deda8",
   "metadata": {},
   "outputs": [
    {
     "name": "stdout",
     "output_type": "stream",
     "text": [
      "The median is 6.5\n"
     ]
    }
   ],
   "source": [
    "nums = [5, 8, 3, 12, 7, 6, 1, 9]\n",
    "\n",
    "nums.sort()\n",
    "# print(nums, \"Nums\")\n",
    "n = len(nums)\n",
    "m = n // 2\n",
    "if n % 2 == 0:\n",
    "    print(\"The median is\",(nums[m - 1] + nums[m]) / 2)\n",
    "else:\n",
    "#     print(nums, \"Nums\")\n",
    "    print (\"The median is\",nums[m])"
   ]
  },
  {
   "cell_type": "markdown",
   "id": "f8263182",
   "metadata": {},
   "source": [
    "# Write a Python code snippet to find and print the longest word from the list"
   ]
  },
  {
   "cell_type": "code",
   "execution_count": 24,
   "id": "3617f954",
   "metadata": {},
   "outputs": [
    {
     "name": "stdout",
     "output_type": "stream",
     "text": [
      "The longest word from a given list is ['banana', 'orange']\n"
     ]
    }
   ],
   "source": [
    "l = [\"apple\", \"banana\", \"pear\", \"orange\"] \n",
    "length = len(l[0])\n",
    "long = [l[0]]\n",
    "\n",
    "for i in l:\n",
    "    if len(i) > length:\n",
    "        length = len(i)\n",
    "        long = [i]\n",
    "        \n",
    "    elif len(i) == length:\n",
    "        long.append(i)\n",
    "        \n",
    "        \n",
    "print(\"The longest word from a given list is\", long)"
   ]
  },
  {
   "cell_type": "markdown",
   "id": "ba9443fc",
   "metadata": {},
   "source": [
    "# Write a Python code snippet to find and print the names of people who are above the age of 30.\n"
   ]
  },
  {
   "cell_type": "code",
   "execution_count": 12,
   "id": "6002ae82",
   "metadata": {},
   "outputs": [
    {
     "name": "stdout",
     "output_type": "stream",
     "text": [
      "Bob David "
     ]
    }
   ],
   "source": [
    "d = {\"Alice\": 25, \"Bob\": 32, \"Charlie\": 19, \"David\": 45, \"Eve\": 28}\n",
    "\n",
    "for key, value in d.items():\n",
    "    if value > 30:\n",
    "        print(key, end=' ')"
   ]
  },
  {
   "cell_type": "markdown",
   "id": "04f46c3d",
   "metadata": {},
   "source": [
    "# Write a Python code snippet to find and print the number of strings that start with the letter 'A' or 'a'. "
   ]
  },
  {
   "cell_type": "code",
   "execution_count": 24,
   "id": "4cec2d0b",
   "metadata": {},
   "outputs": [
    {
     "name": "stdout",
     "output_type": "stream",
     "text": [
      "2\n"
     ]
    }
   ],
   "source": [
    "l = [\"apple\", \"banana\", \"Avocado\", \"orange\", \"grapefruit\"]\n",
    "count = 0\n",
    "\n",
    "for i in l:\n",
    "    if i[0] == 'A' or i[0] == 'a':\n",
    "#         print(i)\n",
    "        count += 1\n",
    "    \n",
    "print(count)\n",
    "        "
   ]
  },
  {
   "cell_type": "markdown",
   "id": "e6b32404",
   "metadata": {},
   "source": [
    "# Write a Python program to find the maximum product of two integers from a given list of integers."
   ]
  },
  {
   "cell_type": "code",
   "execution_count": 28,
   "id": "08e02544",
   "metadata": {
    "scrolled": true
   },
   "outputs": [
    {
     "name": "stdout",
     "output_type": "stream",
     "text": [
      "20\n"
     ]
    }
   ],
   "source": [
    "l = [1, 2, 3, 4, 5]\n",
    "# res = 1/\n",
    "\n",
    "for i in l:\n",
    "    for j in l:\n",
    "        if i == j:\n",
    "            continue\n",
    "        res = i * j\n",
    "            \n",
    "print(res)\n",
    "        "
   ]
  },
  {
   "cell_type": "code",
   "execution_count": 2,
   "id": "39d606fb",
   "metadata": {},
   "outputs": [
    {
     "name": "stdout",
     "output_type": "stream",
     "text": [
      "(4, 5)\n",
      "Maximum product: 20\n"
     ]
    }
   ],
   "source": [
    "l = [1, 2, 3, 4, 5]\n",
    "max_product = 0  \n",
    "l1 = []\n",
    "\n",
    "for i in range(len(l)):\n",
    "    for j in range(i + 1, len(l)):\n",
    "        product = l[i] * l[j]\n",
    "        if product > max_product:\n",
    "            max_product = product\n",
    "            l1 = (l[i], l[j])\n",
    "            \n",
    "print(l1)\n",
    "\n",
    "print(\"Maximum product:\", max_product)\n"
   ]
  },
  {
   "cell_type": "code",
   "execution_count": 4,
   "id": "ad4aa5d9",
   "metadata": {},
   "outputs": [
    {
     "name": "stdout",
     "output_type": "stream",
     "text": [
      "HELLO world HOW are YOU\n"
     ]
    }
   ],
   "source": [
    "s1 = 'hello world how are you'\n",
    "s2 = s1.split()\n",
    "\n",
    "for i in range(len(s2)):\n",
    "    if i % 2 == 0:\n",
    "        s2[i] = s2[i].upper()\n",
    "print(' '.join(s2))"
   ]
  },
  {
   "cell_type": "code",
   "execution_count": null,
   "id": "72d8c804",
   "metadata": {},
   "outputs": [],
   "source": []
  }
 ],
 "metadata": {
  "kernelspec": {
   "display_name": "Python 3 (ipykernel)",
   "language": "python",
   "name": "python3"
  },
  "language_info": {
   "codemirror_mode": {
    "name": "ipython",
    "version": 3
   },
   "file_extension": ".py",
   "mimetype": "text/x-python",
   "name": "python",
   "nbconvert_exporter": "python",
   "pygments_lexer": "ipython3",
   "version": "3.11.3"
  }
 },
 "nbformat": 4,
 "nbformat_minor": 5
}
