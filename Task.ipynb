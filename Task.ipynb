{
 "cells": [
  {
   "cell_type": "markdown",
   "id": "cf4ebf18",
   "metadata": {},
   "source": [
    "# Write a Python program to check if a given number is an Armstrong number.\n"
   ]
  },
  {
   "cell_type": "code",
   "execution_count": 3,
   "id": "30c8523f",
   "metadata": {},
   "outputs": [
    {
     "name": "stdout",
     "output_type": "stream",
     "text": [
      "1634 is Armstrong number\n"
     ]
    }
   ],
   "source": [
    "n = 1634\n",
    "\n",
    "sum = 0\n",
    "num = str(n)\n",
    "order = len(num)\n",
    "\n",
    "\n",
    "for i in num:\n",
    "    sum = sum + int(i) ** order\n",
    "    \n",
    "    \n",
    "if sum == n:\n",
    "    print(n,\"is Armstrong number\")\n",
    "    \n",
    "else:\n",
    "    print(n, \"is not Armstrong number\")"
   ]
  },
  {
   "cell_type": "code",
   "execution_count": 9,
   "id": "dad465f3",
   "metadata": {},
   "outputs": [
    {
     "name": "stdout",
     "output_type": "stream",
     "text": [
      "8\n"
     ]
    }
   ],
   "source": [
    "n = 2\n",
    "order = 3\n",
    "sum = n ** order\n",
    "print(sum)"
   ]
  },
  {
   "cell_type": "markdown",
   "id": "39318990",
   "metadata": {},
   "source": [
    "# Write a Python program to check if two strings are anagrams of each other."
   ]
  },
  {
   "cell_type": "code",
   "execution_count": 14,
   "id": "9b34b46d",
   "metadata": {},
   "outputs": [
    {
     "name": "stdout",
     "output_type": "stream",
     "text": [
      "Enter first value: hi\n",
      "Enter second value: ih\n",
      "hi and ih are anagram\n"
     ]
    }
   ],
   "source": [
    "s1 = input(\"Enter first value: \")\n",
    "s2 = input(\"Enter second value: \")\n",
    "\n",
    "if sorted(s1.lower()) == sorted(s2.lower()):\n",
    "    print(s1, \"and\", s2, \"are anagram\")\n",
    "else:\n",
    "    print(s1, \"and\", s2, \"are not anagram\")\n"
   ]
  },
  {
   "cell_type": "markdown",
   "id": "4c662eee",
   "metadata": {},
   "source": [
    "# Write a Python program to find the sum of digits of a given number.\n"
   ]
  },
  {
   "cell_type": "code",
   "execution_count": 17,
   "id": "a5d09f2e",
   "metadata": {},
   "outputs": [
    {
     "name": "stdout",
     "output_type": "stream",
     "text": [
      "7\n"
     ]
    }
   ],
   "source": [
    "n = 124\n",
    "sum = 0\n",
    "\n",
    "for i in str(n):\n",
    "    sum = sum + int(i)\n",
    "    \n",
    "print(sum)\n",
    "    "
   ]
  },
  {
   "cell_type": "markdown",
   "id": "3a5aac24",
   "metadata": {},
   "source": [
    "# Write a Python program to reverse a given string without using any built-in functions.\n"
   ]
  },
  {
   "cell_type": "code",
   "execution_count": 1,
   "id": "c67e539a",
   "metadata": {},
   "outputs": [
    {
     "name": "stdout",
     "output_type": "stream",
     "text": [
      "olleh\n"
     ]
    }
   ],
   "source": [
    "s = 'hello'\n",
    "\n",
    "reverse = ''\n",
    "\n",
    "for i in range(len(s) -1, -1, -1):\n",
    "#     print(i, \"I\")\n",
    "    reverse = reverse + s[i]\n",
    "    \n",
    "print(reverse)"
   ]
  },
  {
   "cell_type": "markdown",
   "id": "17988f90",
   "metadata": {},
   "source": [
    "# Write a Python program to find the Fibonacci sequence up to a given number."
   ]
  },
  {
   "cell_type": "code",
   "execution_count": 1,
   "id": "2f0d5d88",
   "metadata": {},
   "outputs": [
    {
     "name": "stdout",
     "output_type": "stream",
     "text": [
      "0 1 1 2 3 5 8 13 21 34 "
     ]
    }
   ],
   "source": [
    "num = 10\n",
    "\n",
    "first_term = 0\n",
    "second_term = 1\n",
    "\n",
    "print(first_term, second_term, end = ' ')\n",
    "\n",
    "for i in range(2, num):\n",
    "    third_term = first_term + second_term\n",
    "    \n",
    "    print(third_term, end = ' ')\n",
    "    \n",
    "    first_term = second_term\n",
    "    second_term = third_term\n"
   ]
  },
  {
   "cell_type": "code",
   "execution_count": 2,
   "id": "7821f1a8",
   "metadata": {},
   "outputs": [
    {
     "name": "stdout",
     "output_type": "stream",
     "text": [
      "0 0\n",
      "0 1\n",
      "0 2\n",
      "\n",
      "1 0\n",
      "1 1\n",
      "1 2\n",
      "\n",
      "2 0\n",
      "2 1\n",
      "2 2\n",
      "\n"
     ]
    }
   ],
   "source": [
    "for i in range(3):\n",
    "    for j in range(3):\n",
    "        print(i, j)\n",
    "    print()"
   ]
  },
  {
   "cell_type": "markdown",
   "id": "880d123c",
   "metadata": {},
   "source": [
    "# Write a Python program to count the frequency of each element in a list."
   ]
  },
  {
   "cell_type": "code",
   "execution_count": 3,
   "id": "858a45c1",
   "metadata": {},
   "outputs": [
    {
     "name": "stdout",
     "output_type": "stream",
     "text": [
      "{1: 3, 2: 3, 3: 1, 4: 1, 5: 1}\n"
     ]
    }
   ],
   "source": [
    "lst = [1, 2, 3, 2, 4, 1, 5, 1, 2]\n",
    "\n",
    "d = {}\n",
    "\n",
    "for i in lst:\n",
    "    if i in d:\n",
    "        d[i] += 1\n",
    "    else:\n",
    "        d[i] = 1\n",
    "\n",
    "print(d)"
   ]
  },
  {
   "cell_type": "markdown",
   "id": "8a6fe41e",
   "metadata": {},
   "source": [
    "# Write a Python program to check if a given string is a valid palindrome"
   ]
  },
  {
   "cell_type": "code",
   "execution_count": 6,
   "id": "47414bef",
   "metadata": {},
   "outputs": [
    {
     "name": "stdout",
     "output_type": "stream",
     "text": [
      "The string is not a palindrome\n"
     ]
    }
   ],
   "source": [
    "s = 'Mumbai'\n",
    "\n",
    "#remove space and convert in lower case\n",
    "s1 = s.replace(\"\" , \"\").lower()\n",
    "\n",
    "rev = s1[::-1]\n",
    "\n",
    "if s1 == rev:\n",
    "    print(\"The string is a palindrom\")\n",
    "    \n",
    "else:\n",
    "    print(\"The string is not a palindrome\")"
   ]
  },
  {
   "cell_type": "markdown",
   "id": "4507e45f",
   "metadata": {},
   "source": [
    "# Write a Python program to find the sum of all prime numbers in a given range."
   ]
  },
  {
   "cell_type": "code",
   "execution_count": null,
   "id": "74e57c3c",
   "metadata": {},
   "outputs": [],
   "source": []
  },
  {
   "cell_type": "markdown",
   "id": "807d5d35",
   "metadata": {},
   "source": [
    "# Write a Python program to check if a given number is a perfect square.\n"
   ]
  },
  {
   "cell_type": "code",
   "execution_count": null,
   "id": "e876c07f",
   "metadata": {},
   "outputs": [],
   "source": []
  },
  {
   "cell_type": "markdown",
   "id": "32d8a469",
   "metadata": {},
   "source": [
    "# Write a Python program to reverse the order of words in a given sentence.\n"
   ]
  },
  {
   "cell_type": "code",
   "execution_count": null,
   "id": "66b94f27",
   "metadata": {},
   "outputs": [],
   "source": []
  }
 ],
 "metadata": {
  "kernelspec": {
   "display_name": "Python 3 (ipykernel)",
   "language": "python",
   "name": "python3"
  },
  "language_info": {
   "codemirror_mode": {
    "name": "ipython",
    "version": 3
   },
   "file_extension": ".py",
   "mimetype": "text/x-python",
   "name": "python",
   "nbconvert_exporter": "python",
   "pygments_lexer": "ipython3",
   "version": "3.11.3"
  }
 },
 "nbformat": 4,
 "nbformat_minor": 5
}
