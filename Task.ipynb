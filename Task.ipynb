{
 "cells": [
  {
   "cell_type": "code",
   "execution_count": 4,
   "id": "317f02c7",
   "metadata": {},
   "outputs": [
    {
     "name": "stdout",
     "output_type": "stream",
     "text": [
      "Enter Number: 123\n",
      "6\n",
      "6\n",
      "0\n"
     ]
    }
   ],
   "source": [
    "num = int(input(\"Enter Number: \"))\n",
    "mul = 1\n",
    "sum = 0\n",
    "\n",
    "for i in str(num):\n",
    "    mul = mul * int(i)\n",
    "    sum = sum + int(i)\n",
    "    result = mul - sum\n",
    "    \n",
    "    \n",
    "print(mul)\n",
    "print(sum)\n",
    "print(result)"
   ]
  },
  {
   "cell_type": "markdown",
   "id": "461663c8",
   "metadata": {},
   "source": [
    "# Reverse the Integer"
   ]
  },
  {
   "cell_type": "code",
   "execution_count": 24,
   "id": "f9750a26",
   "metadata": {},
   "outputs": [
    {
     "name": "stdout",
     "output_type": "stream",
     "text": [
      "321\n"
     ]
    }
   ],
   "source": [
    "num = 123\n",
    "\n",
    "reverse = 0\n",
    "\n",
    "while num!=0:\n",
    "    reverse = reverse * 10 + num % 10\n",
    "    num = num // 10\n",
    "    \n",
    "print(reverse)\n",
    "\n"
   ]
  },
  {
   "cell_type": "code",
   "execution_count": 20,
   "id": "ffd16a83",
   "metadata": {},
   "outputs": [
    {
     "name": "stdout",
     "output_type": "stream",
     "text": [
      "-321\n"
     ]
    }
   ],
   "source": [
    "a = -123\n",
    "\n",
    "b = abs(123)\n",
    "\n",
    "reverse = 0\n",
    "\n",
    "sign = -1 if a<0 else 1\n",
    "\n",
    "while b!=0:\n",
    "    reverse = reverse * 10 + b % 10\n",
    "    b = b // 10\n",
    "    \n",
    "print(reverse * sign)\n"
   ]
  },
  {
   "cell_type": "code",
   "execution_count": 21,
   "id": "a4fbf71c",
   "metadata": {},
   "outputs": [
    {
     "name": "stdout",
     "output_type": "stream",
     "text": [
      "-321\n"
     ]
    }
   ],
   "source": [
    "num = -123\n",
    "\n",
    "reverse = str(abs(num))[::-1]\n",
    "reverse_num = int(reverse)\n",
    "\n",
    "if num < 0:\n",
    "    reverse_num = -reverse_num\n",
    "\n",
    "print(reverse_num)"
   ]
  },
  {
   "cell_type": "markdown",
   "id": "6a2142db",
   "metadata": {},
   "source": [
    "# Print star Pattern"
   ]
  },
  {
   "cell_type": "code",
   "execution_count": 45,
   "id": "054b0351",
   "metadata": {},
   "outputs": [
    {
     "name": "stdout",
     "output_type": "stream",
     "text": [
      "         *\n",
      "       * *\n",
      "     * * *\n",
      "   * * * *\n",
      " * * * * *\n"
     ]
    }
   ],
   "source": [
    "row = 5\n",
    "for i in range(row):\n",
    "    print(\"  \" * (row - i -1) + \" *\" *(i + 1))\n",
    "    "
   ]
  },
  {
   "cell_type": "code",
   "execution_count": 4,
   "id": "a1521106",
   "metadata": {},
   "outputs": [
    {
     "ename": "NameError",
     "evalue": "name 'l2' is not defined",
     "output_type": "error",
     "traceback": [
      "\u001b[1;31m---------------------------------------------------------------------------\u001b[0m",
      "\u001b[1;31mNameError\u001b[0m                                 Traceback (most recent call last)",
      "Cell \u001b[1;32mIn[4], line 6\u001b[0m\n\u001b[0;32m      3\u001b[0m l1 \u001b[38;5;241m=\u001b[39m []\n\u001b[0;32m      5\u001b[0m \u001b[38;5;28;01mfor\u001b[39;00m i \u001b[38;5;129;01min\u001b[39;00m l:\n\u001b[1;32m----> 6\u001b[0m     \u001b[38;5;28;01mif\u001b[39;00m i \u001b[38;5;129;01min\u001b[39;00m \u001b[43ml2\u001b[49m:\n\u001b[0;32m      7\u001b[0m         l2\u001b[38;5;241m.\u001b[39mappend[i]\n\u001b[0;32m      9\u001b[0m     \u001b[38;5;28mprint\u001b[39m(l2)\n",
      "\u001b[1;31mNameError\u001b[0m: name 'l2' is not defined"
     ]
    }
   ],
   "source": [
    "l = [1, 3, 4, 7, 2, 1, 3]\n",
    "\n",
    "l1 = []\n",
    "\n",
    "\n",
    "\n",
    "\n",
    "    \n",
    "    "
   ]
  },
  {
   "cell_type": "code",
   "execution_count": null,
   "id": "ae6819e1",
   "metadata": {},
   "outputs": [],
   "source": [
    "l = [1, 5]\n",
    "\n",
    "out = []\n",
    "\n"
   ]
  },
  {
   "cell_type": "markdown",
   "id": "cf4ebf18",
   "metadata": {},
   "source": [
    "# Write a Python program to check if a given number is an Armstrong number.\n"
   ]
  },
  {
   "cell_type": "code",
   "execution_count": 10,
   "id": "30c8523f",
   "metadata": {},
   "outputs": [
    {
     "name": "stdout",
     "output_type": "stream",
     "text": [
      "153 is Armstrong number\n"
     ]
    }
   ],
   "source": [
    "n = 153\n",
    "\n",
    "sum = 0\n",
    "num = str(n)\n",
    "order = len(num)\n",
    "\n",
    "\n",
    "for i in num:\n",
    "    sum = sum + int(i) ** order\n",
    "    \n",
    "    \n",
    "if sum == n:\n",
    "    print(n,\"is Armstrong number\")\n",
    "    \n",
    "else:\n",
    "    print(n, \"is not Armstrong number\")"
   ]
  },
  {
   "cell_type": "code",
   "execution_count": 9,
   "id": "dad465f3",
   "metadata": {},
   "outputs": [
    {
     "name": "stdout",
     "output_type": "stream",
     "text": [
      "8\n"
     ]
    }
   ],
   "source": [
    "n = 2\n",
    "order = 3\n",
    "sum = n ** order\n",
    "print(sum)"
   ]
  },
  {
   "cell_type": "markdown",
   "id": "39318990",
   "metadata": {},
   "source": [
    "# Write a Python program to check if two strings are anagrams of each other."
   ]
  },
  {
   "cell_type": "code",
   "execution_count": 14,
   "id": "9b34b46d",
   "metadata": {},
   "outputs": [
    {
     "name": "stdout",
     "output_type": "stream",
     "text": [
      "Enter first value: hi\n",
      "Enter second value: ih\n",
      "hi and ih are anagram\n"
     ]
    }
   ],
   "source": [
    "s1 = input(\"Enter first value: \")\n",
    "s2 = input(\"Enter second value: \")\n",
    "\n",
    "if sorted(s1.lower()) == sorted(s2.lower()):\n",
    "    print(s1, \"and\", s2, \"are anagram\")\n",
    "else:\n",
    "    print(s1, \"and\", s2, \"are not anagram\")\n"
   ]
  },
  {
   "cell_type": "markdown",
   "id": "4c662eee",
   "metadata": {},
   "source": [
    "# Write a Python program to find the sum of digits of a given number.\n"
   ]
  },
  {
   "cell_type": "code",
   "execution_count": 17,
   "id": "a5d09f2e",
   "metadata": {},
   "outputs": [
    {
     "name": "stdout",
     "output_type": "stream",
     "text": [
      "7\n"
     ]
    }
   ],
   "source": [
    "n = 124\n",
    "sum = 0\n",
    "\n",
    "for i in str(n):\n",
    "    sum = sum + int(i)\n",
    "    \n",
    "print(sum)\n",
    "    "
   ]
  },
  {
   "cell_type": "markdown",
   "id": "3a5aac24",
   "metadata": {},
   "source": [
    "# Write a Python program to reverse a given string without using any built-in functions.\n"
   ]
  },
  {
   "cell_type": "code",
   "execution_count": 32,
   "id": "c67e539a",
   "metadata": {},
   "outputs": [
    {
     "name": "stdout",
     "output_type": "stream",
     "text": [
      "4 I\n",
      "3 I\n",
      "2 I\n",
      "1 I\n",
      "0 I\n",
      "olleh\n"
     ]
    }
   ],
   "source": [
    "s = 'hello'\n",
    "\n",
    "reverse = ''\n",
    "\n",
    "for i in range(len(s) -1, -1, -1):\n",
    "    print(i, \"I\")\n",
    "    reverse = reverse + s[i]\n",
    "    \n",
    "print(reverse)"
   ]
  },
  {
   "cell_type": "markdown",
   "id": "17988f90",
   "metadata": {},
   "source": [
    "# Write a Python program to find the Fibonacci sequence up to a given number."
   ]
  },
  {
   "cell_type": "code",
   "execution_count": 1,
   "id": "2f0d5d88",
   "metadata": {},
   "outputs": [
    {
     "name": "stdout",
     "output_type": "stream",
     "text": [
      "0 1 1 2 3 5 8 13 21 34 "
     ]
    }
   ],
   "source": [
    "num = 10\n",
    "\n",
    "first_term = 0\n",
    "second_term = 1\n",
    "\n",
    "print(first_term, second_term, end = ' ')\n",
    "\n",
    "for i in range(2, num):\n",
    "    third_term = first_term + second_term\n",
    "    \n",
    "    print(third_term, end = ' ')\n",
    "    \n",
    "    first_term = second_term\n",
    "    second_term = third_term\n"
   ]
  },
  {
   "cell_type": "markdown",
   "id": "cd564abc",
   "metadata": {},
   "source": [
    "# Intersection of two list"
   ]
  },
  {
   "cell_type": "code",
   "execution_count": 1,
   "id": "157c0ed6",
   "metadata": {},
   "outputs": [
    {
     "name": "stdout",
     "output_type": "stream",
     "text": [
      "[2, 2, 3]\n"
     ]
    }
   ],
   "source": [
    "a = [1, 2, 2, 2, 3, 4]\n",
    "b = [0, 2, 2, 3, 5, 6]\n",
    "\n",
    "l = []\n",
    "\n",
    "for i in range(len(a)):\n",
    "    for j in range(len(b)):\n",
    "        if a[i] == b[j]:\n",
    "            l.append(b[j])\n",
    "            b[j] = -1\n",
    "            \n",
    "print(l)\n",
    "            "
   ]
  },
  {
   "cell_type": "code",
   "execution_count": 15,
   "id": "ab4089c8",
   "metadata": {},
   "outputs": [
    {
     "name": "stdout",
     "output_type": "stream",
     "text": [
      "[(1, 4), (2, 3)]\n"
     ]
    }
   ],
   "source": [
    "a = [1, 2, 3, 4, 5]\n",
    "l = []\n",
    "key = 5\n",
    "\n",
    "for i in range(len(a)):  \n",
    "    for j in range(i+1, len(a)):\n",
    "        res = a[i] +a [j]\n",
    "        if res == key:\n",
    "            l.append((a[i], a[j]))\n",
    "            \n",
    "print(l)\n",
    "\n",
    "\n",
    "    \n",
    "    "
   ]
  },
  {
   "cell_type": "code",
   "execution_count": 2,
   "id": "7821f1a8",
   "metadata": {},
   "outputs": [
    {
     "name": "stdout",
     "output_type": "stream",
     "text": [
      "0 0\n",
      "0 1\n",
      "0 2\n",
      "\n",
      "1 0\n",
      "1 1\n",
      "1 2\n",
      "\n",
      "2 0\n",
      "2 1\n",
      "2 2\n",
      "\n"
     ]
    }
   ],
   "source": [
    "for i in range(3):\n",
    "    for j in range(3):\n",
    "        print(i, j)\n",
    "    print()"
   ]
  },
  {
   "cell_type": "code",
   "execution_count": null,
   "id": "8008d88c",
   "metadata": {},
   "outputs": [],
   "source": []
  }
 ],
 "metadata": {
  "kernelspec": {
   "display_name": "Python 3 (ipykernel)",
   "language": "python",
   "name": "python3"
  },
  "language_info": {
   "codemirror_mode": {
    "name": "ipython",
    "version": 3
   },
   "file_extension": ".py",
   "mimetype": "text/x-python",
   "name": "python",
   "nbconvert_exporter": "python",
   "pygments_lexer": "ipython3",
   "version": "3.11.3"
  }
 },
 "nbformat": 4,
 "nbformat_minor": 5
}
