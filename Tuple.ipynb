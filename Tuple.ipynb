{
 "cells": [
  {
   "cell_type": "code",
   "execution_count": 2,
   "id": "40d8be3f",
   "metadata": {},
   "outputs": [
    {
     "name": "stdout",
     "output_type": "stream",
     "text": [
      "(1, 2, 3, ['ABC', 5])\n"
     ]
    }
   ],
   "source": [
    "tup = tuple((1, 2, 3, ['ABC', 5]))\n",
    "print(tup)"
   ]
  },
  {
   "cell_type": "code",
   "execution_count": 6,
   "id": "14a4a0e1",
   "metadata": {},
   "outputs": [
    {
     "name": "stdout",
     "output_type": "stream",
     "text": [
      "3\n",
      "['ABC', 5]\n",
      "ABC\n"
     ]
    }
   ],
   "source": [
    "tup = tuple((1, 2, 3, ['ABC', 5]))\n",
    "print(tup[2])\n",
    "print(tup[3])\n",
    "print(tup[3][0])"
   ]
  },
  {
   "cell_type": "code",
   "execution_count": 8,
   "id": "74b4daaf",
   "metadata": {},
   "outputs": [
    {
     "name": "stdout",
     "output_type": "stream",
     "text": [
      "1\n"
     ]
    }
   ],
   "source": [
    "tup = tuple((1, 2, 3, ['ABC', 5]))\n",
    "pos = tup.index(2)\n",
    "print(pos)"
   ]
  },
  {
   "cell_type": "code",
   "execution_count": 9,
   "id": "45768fcb",
   "metadata": {},
   "outputs": [
    {
     "name": "stdout",
     "output_type": "stream",
     "text": [
      "(1, 2, 3, [250, 5])\n"
     ]
    }
   ],
   "source": [
    "tup = tuple((1, 2, 3, ['ABC', 5]))\n",
    "tup[3][0] = 250\n",
    "print(tup)\n"
   ]
  },
  {
   "cell_type": "code",
   "execution_count": 11,
   "id": "3a87ff6e",
   "metadata": {},
   "outputs": [
    {
     "ename": "TypeError",
     "evalue": "'tuple' object does not support item assignment",
     "output_type": "error",
     "traceback": [
      "\u001b[1;31m---------------------------------------------------------------------------\u001b[0m",
      "\u001b[1;31mTypeError\u001b[0m                                 Traceback (most recent call last)",
      "Cell \u001b[1;32mIn[11], line 2\u001b[0m\n\u001b[0;32m      1\u001b[0m tup \u001b[38;5;241m=\u001b[39m (\u001b[38;5;241m1\u001b[39m, \u001b[38;5;241m2\u001b[39m, \u001b[38;5;241m3\u001b[39m)\n\u001b[1;32m----> 2\u001b[0m \u001b[43mtup\u001b[49m\u001b[43m[\u001b[49m\u001b[38;5;241;43m2\u001b[39;49m\u001b[43m]\u001b[49m \u001b[38;5;241m=\u001b[39m \u001b[38;5;241m250\u001b[39m\n\u001b[0;32m      3\u001b[0m \u001b[38;5;28mprint\u001b[39m(tup)\n",
      "\u001b[1;31mTypeError\u001b[0m: 'tuple' object does not support item assignment"
     ]
    }
   ],
   "source": [
    "tup = (1, 2, 3)\n",
    "tup[2] = 250\n",
    "print(tup)"
   ]
  },
  {
   "cell_type": "code",
   "execution_count": 12,
   "id": "8a0c4c0d",
   "metadata": {},
   "outputs": [
    {
     "name": "stdout",
     "output_type": "stream",
     "text": [
      "6\n"
     ]
    }
   ],
   "source": [
    "tup = (1, 2, 3)\n",
    "print(sum(tup))"
   ]
  },
  {
   "cell_type": "code",
   "execution_count": null,
   "id": "235c5e0f",
   "metadata": {},
   "outputs": [],
   "source": []
  },
  {
   "cell_type": "markdown",
   "id": "38ce201b",
   "metadata": {},
   "source": [
    "# Write a Python program to create a tuple."
   ]
  },
  {
   "cell_type": "code",
   "execution_count": 1,
   "id": "844bb478",
   "metadata": {},
   "outputs": [
    {
     "name": "stdout",
     "output_type": "stream",
     "text": [
      "()\n",
      "()\n"
     ]
    }
   ],
   "source": [
    "#Create an empty tuple \n",
    "x = ()\n",
    "print(x)\n",
    "#Create an empty tuple with tuple() function built-in Python\n",
    "tuplex = tuple()\n",
    "print(tuplex)\n"
   ]
  },
  {
   "cell_type": "markdown",
   "id": "6c75e7fe",
   "metadata": {},
   "source": [
    "# Write a Python program to convert a given list of tuples to a list of lists."
   ]
  },
  {
   "cell_type": "code",
   "execution_count": 5,
   "id": "3c77c4c3",
   "metadata": {},
   "outputs": [
    {
     "name": "stdout",
     "output_type": "stream",
     "text": [
      "[[1, 2], [2, 3], [3, 4]]\n"
     ]
    }
   ],
   "source": [
    "t = [(1, 2), (2, 3), (3, 4)]\n",
    "l = []\n",
    "for i in t:\n",
    "    a = list(i)\n",
    "    l.append(a)\n",
    "print(l)"
   ]
  },
  {
   "cell_type": "code",
   "execution_count": null,
   "id": "67e4ff77",
   "metadata": {},
   "outputs": [],
   "source": []
  },
  {
   "cell_type": "code",
   "execution_count": null,
   "id": "0ebf5999",
   "metadata": {},
   "outputs": [],
   "source": []
  },
  {
   "cell_type": "markdown",
   "id": "a37a79c1",
   "metadata": {},
   "source": [
    "# Write a Python code snippet that finds and prints the names of the students who are of legal voting age (18 years or older)."
   ]
  },
  {
   "cell_type": "code",
   "execution_count": 18,
   "id": "3da1a735",
   "metadata": {},
   "outputs": [
    {
     "name": "stdout",
     "output_type": "stream",
     "text": [
      "The students of legal voting age are Alice, Charlie, Eve\n"
     ]
    }
   ],
   "source": [
    "students = [('Alice', 20), ('Bob', 17), ('Charlie', 22), ('David', 16), ('Eve', 19)]\n",
    "\n",
    "voting_age_students = []\n",
    "\n",
    "for student in students:\n",
    "    name, age = student\n",
    "    if age >= 18:\n",
    "        voting_age_students.append(name)\n",
    "\n",
    "if len(voting_age_students) > 0:\n",
    "    print(\"The students of legal voting age are\", ', '.join(voting_age_students))\n",
    "else:\n",
    "    print(\"No students of legal voting age found.\")"
   ]
  },
  {
   "cell_type": "code",
   "execution_count": 17,
   "id": "bd2471ea",
   "metadata": {},
   "outputs": [
    {
     "name": "stdout",
     "output_type": "stream",
     "text": [
      "{'Alice': 20, 'Charlie': 22, 'Eve': 19}\n"
     ]
    }
   ],
   "source": [
    "students = [('Alice', 20), ('Bob', 17), ('Charlie', 22), ('David', 16), ('Eve', 19)]\n",
    "tup = dict(students)\n",
    "students_above_18 = {}\n",
    "\n",
    "for key, value in tup.items():\n",
    "    if value > 18:\n",
    "        students_above_18[key] = value\n",
    "\n",
    "if students_above_18:\n",
    "    print(students_above_18)\n",
    "else:\n",
    "    print(\"No student above 18 found.\")"
   ]
  },
  {
   "cell_type": "code",
   "execution_count": 5,
   "id": "31f0c263",
   "metadata": {},
   "outputs": [
    {
     "name": "stdout",
     "output_type": "stream",
     "text": [
      "[('sub3', 79), ('sub1', 88), ('sub4', 90), ('sub2', 92)]\n"
     ]
    }
   ],
   "source": [
    "tup = [('sub1', 88), ('sub2', 92), ('sub3', 79), ('sub4', 90)]\n",
    "lst = len(tup)\n",
    "for i in range(0, lst):\n",
    "    for j in range(0, lst-i-1):\n",
    "        if (tup[j][1] > tup[j + 1][1]):\n",
    "            temp = tup[j]\n",
    "            tup[j] = tup[j + 1]\n",
    "            tup[j + 1] = temp\n",
    "print(tup)"
   ]
  },
  {
   "cell_type": "code",
   "execution_count": null,
   "id": "b5b48a76",
   "metadata": {},
   "outputs": [],
   "source": []
  }
 ],
 "metadata": {
  "kernelspec": {
   "display_name": "Python 3 (ipykernel)",
   "language": "python",
   "name": "python3"
  },
  "language_info": {
   "codemirror_mode": {
    "name": "ipython",
    "version": 3
   },
   "file_extension": ".py",
   "mimetype": "text/x-python",
   "name": "python",
   "nbconvert_exporter": "python",
   "pygments_lexer": "ipython3",
   "version": "3.11.3"
  }
 },
 "nbformat": 4,
 "nbformat_minor": 5
}
