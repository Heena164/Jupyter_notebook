{
 "cells": [
  {
   "cell_type": "markdown",
   "id": "a37a79c1",
   "metadata": {},
   "source": [
    "# Write a Python code snippet that finds and prints the names of the students who are of legal voting age (18 years or older)."
   ]
  },
  {
   "cell_type": "code",
   "execution_count": 18,
   "id": "3da1a735",
   "metadata": {},
   "outputs": [
    {
     "name": "stdout",
     "output_type": "stream",
     "text": [
      "The students of legal voting age are Alice, Charlie, Eve\n"
     ]
    }
   ],
   "source": [
    "students = [('Alice', 20), ('Bob', 17), ('Charlie', 22), ('David', 16), ('Eve', 19)]\n",
    "\n",
    "voting_age_students = []\n",
    "\n",
    "for student in students:\n",
    "    name, age = student\n",
    "    if age >= 18:\n",
    "        voting_age_students.append(name)\n",
    "\n",
    "if len(voting_age_students) > 0:\n",
    "    print(\"The students of legal voting age are\", ', '.join(voting_age_students))\n",
    "else:\n",
    "    print(\"No students of legal voting age found.\")"
   ]
  },
  {
   "cell_type": "code",
   "execution_count": 17,
   "id": "bd2471ea",
   "metadata": {},
   "outputs": [
    {
     "name": "stdout",
     "output_type": "stream",
     "text": [
      "{'Alice': 20, 'Charlie': 22, 'Eve': 19}\n"
     ]
    }
   ],
   "source": [
    "students = [('Alice', 20), ('Bob', 17), ('Charlie', 22), ('David', 16), ('Eve', 19)]\n",
    "tup = dict(students)\n",
    "students_above_18 = {}\n",
    "\n",
    "for key, value in tup.items():\n",
    "    if value > 18:\n",
    "        students_above_18[key] = value\n",
    "\n",
    "if students_above_18:\n",
    "    print(students_above_18)\n",
    "else:\n",
    "    print(\"No student above 18 found.\")"
   ]
  },
  {
   "cell_type": "code",
   "execution_count": 5,
   "id": "31f0c263",
   "metadata": {},
   "outputs": [
    {
     "name": "stdout",
     "output_type": "stream",
     "text": [
      "[('sub3', 79), ('sub1', 88), ('sub4', 90), ('sub2', 92)]\n"
     ]
    }
   ],
   "source": [
    "tup = [('sub1', 88), ('sub2', 92), ('sub3', 79), ('sub4', 90)]\n",
    "lst = len(tup)\n",
    "for i in range(0, lst):\n",
    "    for j in range(0, lst-i-1):\n",
    "        if (tup[j][1] > tup[j + 1][1]):\n",
    "            temp = tup[j]\n",
    "            tup[j] = tup[j + 1]\n",
    "            tup[j + 1] = temp\n",
    "print(tup)"
   ]
  },
  {
   "cell_type": "code",
   "execution_count": null,
   "id": "b5b48a76",
   "metadata": {},
   "outputs": [],
   "source": []
  }
 ],
 "metadata": {
  "kernelspec": {
   "display_name": "Python 3 (ipykernel)",
   "language": "python",
   "name": "python3"
  },
  "language_info": {
   "codemirror_mode": {
    "name": "ipython",
    "version": 3
   },
   "file_extension": ".py",
   "mimetype": "text/x-python",
   "name": "python",
   "nbconvert_exporter": "python",
   "pygments_lexer": "ipython3",
   "version": "3.11.3"
  }
 },
 "nbformat": 4,
 "nbformat_minor": 5
}
