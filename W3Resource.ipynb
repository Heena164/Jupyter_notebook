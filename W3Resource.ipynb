{
 "cells": [
  {
   "cell_type": "markdown",
   "id": "330ee8ff",
   "metadata": {},
   "source": [
    "# Write a Python program to check if a given positive integer is a power of two."
   ]
  },
  {
   "cell_type": "code",
   "execution_count": 4,
   "id": "c0a90e5d",
   "metadata": {},
   "outputs": [
    {
     "name": "stdout",
     "output_type": "stream",
     "text": [
      "Enter a positive integer: -7\n",
      "-7 is not a power of two.\n"
     ]
    }
   ],
   "source": [
    "def is_power_of_two(num):\n",
    "    # If the number is 0 or negative, it is not a power of two\n",
    "    if num <= 0:\n",
    "        return False\n",
    "    \n",
    "    # Keep dividing the number by 2 until it becomes 1\n",
    "    while num != 1:\n",
    "        # If the number is not divisible by 2, it is not a power of two\n",
    "        if num % 2 != 0:\n",
    "            return False\n",
    "        num = num // 2  # Divide the number by 2\n",
    "    \n",
    "    return True\n",
    "\n",
    "# Test the function\n",
    "number = int(input(\"Enter a positive integer: \"))\n",
    "if is_power_of_two(number):\n",
    "    print(number, \"is a power of two.\")\n",
    "else:\n",
    "    print(number, \"is not a power of two.\")\n"
   ]
  },
  {
   "cell_type": "markdown",
   "id": "7da1395c",
   "metadata": {},
   "source": [
    "# Write a Python program to check if a given positive integer is a power of three."
   ]
  },
  {
   "cell_type": "code",
   "execution_count": 8,
   "id": "0af1f2d5",
   "metadata": {},
   "outputs": [
    {
     "name": "stdout",
     "output_type": "stream",
     "text": [
      "Enter a number: 3\n",
      "3 is a power of three\n"
     ]
    }
   ],
   "source": [
    "def pow(n):\n",
    "    if n <= 0:\n",
    "        return False\n",
    "    \n",
    "    while n != 1:\n",
    "        if n % 3 != 0:\n",
    "            return False\n",
    "        \n",
    "        n = n // 3\n",
    "    return True\n",
    "\n",
    "\n",
    "num = int(input(\"Enter a number: \"))\n",
    "if pow(num):\n",
    "    print(num, \"is a power of three\")\n",
    "    \n",
    "else:\n",
    "    print(num, \"is not a power of three\")\n",
    "    "
   ]
  },
  {
   "cell_type": "markdown",
   "id": "59a347e6",
   "metadata": {},
   "source": [
    "# Write a Python program to check if a number is a perfect square."
   ]
  },
  {
   "cell_type": "code",
   "execution_count": null,
   "id": "7645cb86",
   "metadata": {},
   "outputs": [],
   "source": [
    "num = int(input(\"Enter a number:\"))\n",
    "\n"
   ]
  },
  {
   "cell_type": "markdown",
   "id": "616a4b43",
   "metadata": {},
   "source": [
    "# Write a Python program to check if an integer is the power of another integer."
   ]
  },
  {
   "cell_type": "code",
   "execution_count": 9,
   "id": "376eab4d",
   "metadata": {},
   "outputs": [
    {
     "name": "stdout",
     "output_type": "stream",
     "text": [
      "I 7\n",
      "1 result\n",
      "I 7\n",
      "2 result\n",
      "I 7\n",
      "4 result\n",
      "I 7\n",
      "8 result\n",
      "8 is a power of 2\n"
     ]
    }
   ],
   "source": [
    "base = 2\n",
    "num = 8\n",
    "\n",
    "is_power = False\n",
    "\n",
    "for power in range(num):\n",
    "    print(\"I\", i)\n",
    "    result = base ** power\n",
    "    print(result, \"result\")\n",
    "    if result == num:\n",
    "        is_power = True\n",
    "        break\n",
    "\n",
    "if is_power:\n",
    "    print(f\"{num} is a power of {base}\")\n",
    "else:\n",
    "    print(f\"{num} is not a power of {base}\")"
   ]
  },
  {
   "cell_type": "markdown",
   "id": "240bbf7e",
   "metadata": {},
   "source": [
    "# Write a Python program to find a missing number from a list."
   ]
  },
  {
   "cell_type": "code",
   "execution_count": 13,
   "id": "75a16bde",
   "metadata": {},
   "outputs": [
    {
     "name": "stdout",
     "output_type": "stream",
     "text": [
      "8\n",
      "Total 36\n",
      "31\n",
      "5\n",
      "The missing number is: 5\n"
     ]
    }
   ],
   "source": [
    "lst = [1, 2, 3, 4, 6, 7, 8]\n",
    "n = len(lst) + 1  # total numbers in the sequence\n",
    "print(n)\n",
    "\n",
    "# Calculate the sum of all numbers from 1 to n\n",
    "total_sum = (n * (n + 1)) // 2\n",
    "print(\"Total\", total_sum)\n",
    "\n",
    "# Calculate the sum of numbers in the list\n",
    "list_sum = sum(lst)\n",
    "print(list_sum)\n",
    "\n",
    "# Find the missing number\n",
    "missing_number = total_sum - list_sum\n",
    "print(missing_number)\n",
    "\n",
    "print(\"The missing number is:\", missing_number)\n"
   ]
  },
  {
   "cell_type": "markdown",
   "id": "463f4142",
   "metadata": {},
   "source": [
    "# Write a Python program to find the single number in a list that doesn't occur twice."
   ]
  },
  {
   "cell_type": "code",
   "execution_count": 5,
   "id": "6f0ce06b",
   "metadata": {},
   "outputs": [
    {
     "name": "stdout",
     "output_type": "stream",
     "text": [
      "The single number in a list: [5, 1]\n"
     ]
    }
   ],
   "source": [
    "lst = [5, 3, 4, 3, 4, 1]\n",
    "d = {}\n",
    "l1 = []\n",
    "\n",
    "for i in lst:\n",
    "    if i in d:\n",
    "        d[i] += 1\n",
    "        \n",
    "    else:\n",
    "        d[i] = 1\n",
    "        \n",
    "for key, value in d.items():\n",
    "    if value == 1:\n",
    "        l1.append(key)\n",
    "\n",
    "print(\"The single number in a list:\", l1)"
   ]
  },
  {
   "cell_type": "code",
   "execution_count": 8,
   "id": "a3832dae",
   "metadata": {},
   "outputs": [
    {
     "name": "stdout",
     "output_type": "stream",
     "text": [
      "2\n"
     ]
    }
   ],
   "source": [
    "lst = [5, 3, 4, 3, 4, 5, 2]\n",
    "res = 0\n",
    "\n",
    "for i in lst:\n",
    "    res ^= i\n",
    "    \n",
    "print(res)"
   ]
  },
  {
   "cell_type": "markdown",
   "id": "13c4bba7",
   "metadata": {},
   "source": [
    "# Write a Python program to add the digits of a positive integer repeatedly until the result has a single digit."
   ]
  },
  {
   "cell_type": "code",
   "execution_count": 21,
   "id": "4403cc82",
   "metadata": {},
   "outputs": [
    {
     "name": "stdout",
     "output_type": "stream",
     "text": [
      "Enter a positive integer: 12345\n",
      "Result: 6\n"
     ]
    }
   ],
   "source": [
    "def add_digits(num):\n",
    "    if num == 0:\n",
    "        return 0\n",
    "    elif num % 9 == 0:\n",
    "        return 9\n",
    "    else:\n",
    "        return num % 9\n",
    "\n",
    "# Test the function\n",
    "num = int(input(\"Enter a positive integer: \"))\n",
    "result = add_digits(num)\n",
    "print(\"Result:\", result)"
   ]
  },
  {
   "cell_type": "markdown",
   "id": "378451d7",
   "metadata": {},
   "source": [
    "# Write a Python program to reverse the digits of an integer."
   ]
  },
  {
   "cell_type": "code",
   "execution_count": 22,
   "id": "84957b76",
   "metadata": {},
   "outputs": [
    {
     "name": "stdout",
     "output_type": "stream",
     "text": [
      "432\n"
     ]
    }
   ],
   "source": [
    "num = 234\n",
    "\n",
    "reverse = 0\n",
    "\n",
    "while num!=0:\n",
    "    reverse = reverse * 10 + num % 10\n",
    "    num = num // 10\n",
    "    \n",
    "print(reverse)\n",
    "    "
   ]
  },
  {
   "cell_type": "code",
   "execution_count": 25,
   "id": "083145ee",
   "metadata": {},
   "outputs": [
    {
     "name": "stdout",
     "output_type": "stream",
     "text": [
      "-432\n"
     ]
    }
   ],
   "source": [
    "num = -234\n",
    "num1 = abs(num)\n",
    "\n",
    "reverse = 0\n",
    "\n",
    "sign = -1 if num < 0 else 1\n",
    "\n",
    "while num1 != 0:\n",
    "    reverse = reverse * 10 + num1 % 10\n",
    "    num1 = num1 // 10\n",
    "    \n",
    "print(reverse*sign)"
   ]
  },
  {
   "cell_type": "markdown",
   "id": "9ee7329e",
   "metadata": {},
   "source": [
    "# Write a Python program to push all zeros to the end of a list."
   ]
  },
  {
   "cell_type": "code",
   "execution_count": null,
   "id": "b85bdfbd",
   "metadata": {},
   "outputs": [],
   "source": [
    "lst = [0, 1, 2, 3, 4]\n",
    "\n",
    "for i in lst:\n",
    "    if i == 0:\n",
    "        "
   ]
  }
 ],
 "metadata": {
  "kernelspec": {
   "display_name": "Python 3 (ipykernel)",
   "language": "python",
   "name": "python3"
  },
  "language_info": {
   "codemirror_mode": {
    "name": "ipython",
    "version": 3
   },
   "file_extension": ".py",
   "mimetype": "text/x-python",
   "name": "python",
   "nbconvert_exporter": "python",
   "pygments_lexer": "ipython3",
   "version": "3.11.3"
  }
 },
 "nbformat": 4,
 "nbformat_minor": 5
}
