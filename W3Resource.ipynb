{
 "cells": [
  {
   "cell_type": "markdown",
   "id": "330ee8ff",
   "metadata": {},
   "source": [
    "# Write a Python program to check if a given positive integer is a power of two."
   ]
  },
  {
   "cell_type": "code",
   "execution_count": 4,
   "id": "c0a90e5d",
   "metadata": {},
   "outputs": [
    {
     "name": "stdout",
     "output_type": "stream",
     "text": [
      "Enter a positive integer: -7\n",
      "-7 is not a power of two.\n"
     ]
    }
   ],
   "source": [
    "def is_power_of_two(num):\n",
    "    # If the number is 0 or negative, it is not a power of two\n",
    "    if num <= 0:\n",
    "        return False\n",
    "    \n",
    "    # Keep dividing the number by 2 until it becomes 1\n",
    "    while num != 1:\n",
    "        # If the number is not divisible by 2, it is not a power of two\n",
    "        if num % 2 != 0:\n",
    "            return False\n",
    "        num = num // 2  # Divide the number by 2\n",
    "    \n",
    "    return True\n",
    "\n",
    "# Test the function\n",
    "number = int(input(\"Enter a positive integer: \"))\n",
    "if is_power_of_two(number):\n",
    "    print(number, \"is a power of two.\")\n",
    "else:\n",
    "    print(number, \"is not a power of two.\")\n"
   ]
  },
  {
   "cell_type": "markdown",
   "id": "7da1395c",
   "metadata": {},
   "source": [
    "# Write a Python program to check if a given positive integer is a power of three."
   ]
  },
  {
   "cell_type": "code",
   "execution_count": 8,
   "id": "0af1f2d5",
   "metadata": {},
   "outputs": [
    {
     "name": "stdout",
     "output_type": "stream",
     "text": [
      "Enter a number: 3\n",
      "3 is a power of three\n"
     ]
    }
   ],
   "source": [
    "def pow(n):\n",
    "    if n <= 0:\n",
    "        return False\n",
    "    \n",
    "    while n != 1:\n",
    "        if n % 3 != 0:\n",
    "            return False\n",
    "        \n",
    "        n = n // 3\n",
    "    return True\n",
    "\n",
    "\n",
    "num = int(input(\"Enter a number: \"))\n",
    "if pow(num):\n",
    "    print(num, \"is a power of three\")\n",
    "    \n",
    "else:\n",
    "    print(num, \"is not a power of three\")\n",
    "    "
   ]
  },
  {
   "cell_type": "markdown",
   "id": "59a347e6",
   "metadata": {},
   "source": [
    "# Write a Python program to check if a number is a perfect square."
   ]
  },
  {
   "cell_type": "code",
   "execution_count": null,
   "id": "7645cb86",
   "metadata": {},
   "outputs": [],
   "source": [
    "num = int(input(\"Enter a number:\"))\n",
    "\n"
   ]
  }
 ],
 "metadata": {
  "kernelspec": {
   "display_name": "Python 3 (ipykernel)",
   "language": "python",
   "name": "python3"
  },
  "language_info": {
   "codemirror_mode": {
    "name": "ipython",
    "version": 3
   },
   "file_extension": ".py",
   "mimetype": "text/x-python",
   "name": "python",
   "nbconvert_exporter": "python",
   "pygments_lexer": "ipython3",
   "version": "3.11.3"
  }
 },
 "nbformat": 4,
 "nbformat_minor": 5
}
